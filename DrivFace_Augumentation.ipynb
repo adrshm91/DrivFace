{
 "cells": [
  {
   "cell_type": "markdown",
   "metadata": {
    "colab_type": "text",
    "id": "view-in-github"
   },
   "source": [
    "[View in Colaboratory](https://colab.research.google.com/github/adrshm91/DrivFace/blob/master/DrivFace_Augumentation.ipynb)"
   ]
  },
  {
   "cell_type": "code",
   "execution_count": 1,
   "metadata": {
    "colab": {},
    "colab_type": "code",
    "id": "Sw8UsTbfAtwl"
   },
   "outputs": [
    {
     "name": "stderr",
     "output_type": "stream",
     "text": [
      "Using TensorFlow backend.\n"
     ]
    }
   ],
   "source": [
    "import wget\n",
    "import os\n",
    "from zipfile import PyZipFile\n",
    "import shutil\n",
    "import glob\n",
    "import pandas as pd\n",
    "temp_dir = 'data/temp'\n",
    "orig_dir = 'data/images'\n",
    "train_dir = 'data/train'\n",
    "val_dir = 'data/val'\n",
    "url = 'https://archive.ics.uci.edu/ml/machine-learning-databases/00378/DrivFace.zip'\n",
    "import tensorflow as tf\n",
    "from keras.backend.tensorflow_backend import set_session\n",
    "config = tf.ConfigProto()\n",
    "config.gpu_options.allow_growth = True  # dynamically grow the memory used on the GPU\n",
    "config.log_device_placement = True  # to log device placement (on which device the operation ran)\n",
    "                                    # (nothing gets printed in Jupyter, only if you run it standalone)"
   ]
  },
  {
   "cell_type": "code",
   "execution_count": 2,
   "metadata": {
    "colab": {},
    "colab_type": "code",
    "id": "BpWuE3QNAwME"
   },
   "outputs": [],
   "source": [
    "def load_dataset():\n",
    "  if not os.path.exists(orig_dir):\n",
    "    \n",
    "    # download the dataset\n",
    "    \n",
    "    os.makedirs(temp_dir)\n",
    "    os.makedirs(orig_dir)\n",
    "    print(\"Downloading dataset to \"+ temp_dir)\n",
    "    file = wget.download(url, out=temp_dir)\n",
    "    print(\"\\nUnzipping the files..\")\n",
    "    pzf = PyZipFile(file)\n",
    "    pzf.extractall(temp_dir)\n",
    "    pzf = PyZipFile(temp_dir+'/DrivFace/DrivImages.zip')\n",
    "    pzf.extractall(temp_dir)\n",
    "    print(\"Moving files to \"+orig_dir)\n",
    "    for file in os.listdir(temp_dir+'/DrivImages'):\n",
    "      shutil.move(temp_dir+'/DrivImages/'+file,orig_dir+'/'+file)\n",
    "    shutil.move(temp_dir+'/DrivFace/drivPoints.txt',orig_dir+'/drivPoints.txt')\n",
    "    print(\"Deleting temporary directory \"+ temp_dir)\n",
    "    shutil.rmtree(temp_dir)"
   ]
  },
  {
   "cell_type": "code",
   "execution_count": 3,
   "metadata": {
    "colab": {},
    "colab_type": "code",
    "id": "RPhBMe2VA43u"
   },
   "outputs": [],
   "source": [
    "def split_dataset(orig_dir, train_dir, val_dir, split_ratio):\n",
    "  \n",
    "  if not os.path.exists(train_dir):\n",
    "    os.makedirs(train_dir)\n",
    "    os.makedirs(val_dir)\n",
    "    print(\"Creating train directories for each class\")\n",
    "    train_ff_dir = os.path.join(train_dir, 'ff')\n",
    "    os.makedirs(train_ff_dir)\n",
    "    train_ll_dir = os.path.join(train_dir, 'll')\n",
    "    os.makedirs(train_ll_dir)\n",
    "    train_lr_dir = os.path.join(train_dir, 'lr')\n",
    "    os.makedirs(train_lr_dir)\n",
    "\n",
    "    print(\"Creating val directories for each class\")\n",
    "    val_ff_dir = os.path.join(val_dir, 'ff')\n",
    "    os.makedirs(val_ff_dir)\n",
    "    val_ll_dir = os.path.join(val_dir, 'll')\n",
    "    os.makedirs(val_ll_dir)\n",
    "    val_lr_dir = os.path.join(val_dir, 'lr')\n",
    "    os.makedirs(val_lr_dir)\n",
    "\n",
    "    files = pd.read_csv(orig_dir+'/drivPoints.txt')['fileName'].tolist()\n",
    "    files_ff = [file for file in files if 'f' in file]\n",
    "    files_ll = [file for file in files if 'll' in file]\n",
    "    files_lr = [file for file in files if 'lr' in file]\n",
    "    i = 0\n",
    "    for fname in files_ff:\n",
    "      src = os.path.join(orig_dir, fname + '.jpg')                        \n",
    "      dst_train = os.path.join(train_ff_dir, fname + '.jpg')\n",
    "      dst_val = os.path.join(val_ff_dir, fname + '.jpg')\n",
    "      i += 1\n",
    "      if i < len(files_ff)*split_ratio:\n",
    "        shutil.move(src, dst_train)\n",
    "      else:\n",
    "        shutil.move(src, dst_val)\n",
    "    i = 0\n",
    "    for fname in files_ll:\n",
    "      src = os.path.join(orig_dir, fname + '.jpg')                        \n",
    "      dst_train = os.path.join(train_ll_dir, fname + '.jpg')\n",
    "      dst_val = os.path.join(val_ll_dir, fname + '.jpg')\n",
    "      i += 1\n",
    "      if i < len(files_ll)*split_ratio:\n",
    "        shutil.move(src, dst_train)\n",
    "      else:\n",
    "        shutil.move(src, dst_val)\n",
    "    i = 0\n",
    "    for fname in files_lr:\n",
    "      src = os.path.join(orig_dir, fname + '.jpg')                        \n",
    "      dst_train = os.path.join(train_lr_dir, fname + '.jpg') \n",
    "      dst_val = os.path.join(val_lr_dir, fname + '.jpg')\n",
    "      i += 1\n",
    "      if i < len(files_lr)*split_ratio:\n",
    "        shutil.move(src, dst_train)\n",
    "      else:\n",
    "        shutil.move(src, dst_val)"
   ]
  },
  {
   "cell_type": "code",
   "execution_count": 4,
   "metadata": {
    "colab": {},
    "colab_type": "code",
    "id": "ZNARx375A6_g"
   },
   "outputs": [],
   "source": [
    "load_dataset()"
   ]
  },
  {
   "cell_type": "code",
   "execution_count": 5,
   "metadata": {
    "colab": {},
    "colab_type": "code",
    "id": "lx79ACwCA96L"
   },
   "outputs": [],
   "source": [
    "split_dataset(orig_dir, train_dir, val_dir, split_ratio = 0.8)"
   ]
  },
  {
   "cell_type": "code",
   "execution_count": 6,
   "metadata": {
    "colab": {
     "base_uri": "https://localhost:8080/",
     "height": 34
    },
    "colab_type": "code",
    "id": "peOBAhLZBahn",
    "outputId": "bfe0cffd-6e6c-4b60-e8d2-73f7735adc98"
   },
   "outputs": [],
   "source": [
    "from keras import layers\n",
    "from keras import models"
   ]
  },
  {
   "cell_type": "code",
   "execution_count": 7,
   "metadata": {
    "colab": {},
    "colab_type": "code",
    "id": "SWoJb2zDBcfU"
   },
   "outputs": [],
   "source": [
    "model = models.Sequential()\n",
    "model.add(layers.Conv2D(64, (3, 3), activation='relu',\n",
    "                        input_shape=(64, 64, 3)))\n",
    "model.add(layers.MaxPooling2D((2, 2)))\n",
    "model.add(layers.Conv2D(128, (3, 3), activation='relu'))\n",
    "model.add(layers.MaxPooling2D((2, 2)))\n",
    "model.add(layers.Conv2D(256, (3, 3), activation='relu'))\n",
    "model.add(layers.MaxPooling2D((2, 2)))\n",
    "model.add(layers.Flatten())\n",
    "model.add(layers.Dense(256, activation='relu'))\n",
    "model.add(layers.Dense(3, activation='softmax'))"
   ]
  },
  {
   "cell_type": "code",
   "execution_count": 8,
   "metadata": {
    "colab": {
     "base_uri": "https://localhost:8080/",
     "height": 442
    },
    "colab_type": "code",
    "id": "hTgmDI4pBelk",
    "outputId": "2ca023af-9c09-45f6-e2f8-46a02ebba03f"
   },
   "outputs": [
    {
     "name": "stdout",
     "output_type": "stream",
     "text": [
      "_________________________________________________________________\n",
      "Layer (type)                 Output Shape              Param #   \n",
      "=================================================================\n",
      "conv2d_1 (Conv2D)            (None, 62, 62, 64)        1792      \n",
      "_________________________________________________________________\n",
      "max_pooling2d_1 (MaxPooling2 (None, 31, 31, 64)        0         \n",
      "_________________________________________________________________\n",
      "conv2d_2 (Conv2D)            (None, 29, 29, 128)       73856     \n",
      "_________________________________________________________________\n",
      "max_pooling2d_2 (MaxPooling2 (None, 14, 14, 128)       0         \n",
      "_________________________________________________________________\n",
      "conv2d_3 (Conv2D)            (None, 12, 12, 256)       295168    \n",
      "_________________________________________________________________\n",
      "max_pooling2d_3 (MaxPooling2 (None, 6, 6, 256)         0         \n",
      "_________________________________________________________________\n",
      "flatten_1 (Flatten)          (None, 9216)              0         \n",
      "_________________________________________________________________\n",
      "dense_1 (Dense)              (None, 256)               2359552   \n",
      "_________________________________________________________________\n",
      "dense_2 (Dense)              (None, 3)                 771       \n",
      "=================================================================\n",
      "Total params: 2,731,139\n",
      "Trainable params: 2,731,139\n",
      "Non-trainable params: 0\n",
      "_________________________________________________________________\n"
     ]
    }
   ],
   "source": [
    "model.summary()"
   ]
  },
  {
   "cell_type": "code",
   "execution_count": 9,
   "metadata": {
    "colab": {},
    "colab_type": "code",
    "id": "sTIabSXuBg3j"
   },
   "outputs": [],
   "source": [
    "from keras import optimizers\n",
    "\n",
    "model.compile(loss='categorical_crossentropy',\n",
    "              optimizer=optimizers.RMSprop(lr=1e-4),\n",
    "              metrics=['acc'])"
   ]
  },
  {
   "cell_type": "code",
   "execution_count": 10,
   "metadata": {
    "colab": {},
    "colab_type": "code",
    "id": "PxKk8YAsBjvx"
   },
   "outputs": [],
   "source": [
    "from keras.preprocessing.image import ImageDataGenerator"
   ]
  },
  {
   "cell_type": "code",
   "execution_count": 11,
   "metadata": {
    "colab": {},
    "colab_type": "code",
    "id": "e1yxAZJuBlnE"
   },
   "outputs": [],
   "source": [
    "datagen = ImageDataGenerator(\n",
    "      rotation_range=40,\n",
    "      width_shift_range=0.2,\n",
    "      height_shift_range=0.2,\n",
    "      shear_range=0.2,\n",
    "      zoom_range=0.2,\n",
    "      horizontal_flip=False,\n",
    "      fill_mode='nearest')"
   ]
  },
  {
   "cell_type": "code",
   "execution_count": 12,
   "metadata": {
    "colab": {
     "base_uri": "https://localhost:8080/",
     "height": 1349
    },
    "colab_type": "code",
    "id": "FJQnsmMfBtx4",
    "outputId": "5a9796a5-8a32-4841-d670-8b5a899b80df"
   },
   "outputs": [
    {
     "data": {
      "text/plain": [
       "<matplotlib.figure.Figure at 0x7fb742d1ceb8>"
      ]
     },
     "metadata": {},
     "output_type": "display_data"
    },
    {
     "data": {
      "text/plain": [
       "<matplotlib.figure.Figure at 0x7fb742d30e10>"
      ]
     },
     "metadata": {},
     "output_type": "display_data"
    },
    {
     "data": {
      "text/plain": [
       "<matplotlib.figure.Figure at 0x7fb742c57208>"
      ]
     },
     "metadata": {},
     "output_type": "display_data"
    },
    {
     "data": {
      "text/plain": [
       "<matplotlib.figure.Figure at 0x7fb742c3d128>"
      ]
     },
     "metadata": {},
     "output_type": "display_data"
    }
   ],
   "source": [
    "from keras.preprocessing import image   \n",
    "import matplotlib.pyplot as plt\n",
    "\n",
    "train_dir_f = train_dir + '/ff'\n",
    "fnames = [os.path.join(train_dir_f, fname) for\n",
    "     fname in os.listdir(train_dir_f)]\n",
    "img_path = fnames[3]                                            \n",
    "\n",
    "img = image.load_img(img_path, target_size=(150, 150))          \n",
    "\n",
    "x = image.img_to_array(img)                                 \n",
    "x = x.reshape((1,) + x.shape)                                   \n",
    "\n",
    "i = 0                                                           \n",
    "for batch in datagen.flow(x, batch_size=1):                     \n",
    "    plt.figure(i)                                               \n",
    "    imgplot = plt.imshow(image.array_to_img(batch[0]))          \n",
    "    i += 1                                                      \n",
    "    if i % 4 == 0:                                              \n",
    "        break                                                   \n",
    "\n",
    "plt.show()"
   ]
  },
  {
   "cell_type": "code",
   "execution_count": 13,
   "metadata": {
    "colab": {},
    "colab_type": "code",
    "id": "G7NqCRJuB0qg"
   },
   "outputs": [],
   "source": [
    "model = models.Sequential()\n",
    "model.add(layers.Conv2D(32, (3, 3), activation='relu',\n",
    "                        input_shape=(150, 150, 3)))\n",
    "model.add(layers.MaxPooling2D((2, 2)))\n",
    "model.add(layers.Conv2D(64, (3, 3), activation='relu'))\n",
    "model.add(layers.MaxPooling2D((2, 2)))\n",
    "model.add(layers.Conv2D(128, (3, 3), activation='relu'))\n",
    "model.add(layers.MaxPooling2D((2, 2)))\n",
    "model.add(layers.Conv2D(128, (3, 3), activation='relu'))\n",
    "model.add(layers.MaxPooling2D((2, 2)))\n",
    "model.add(layers.Flatten())\n",
    "model.add(layers.Dropout(0.5))\n",
    "model.add(layers.Dense(512, activation='relu'))\n",
    "model.add(layers.Dense(3, activation='softmax'))\n",
    "\n",
    "model.compile(loss='categorical_crossentropy',\n",
    "              optimizer=optimizers.RMSprop(lr=1e-4),\n",
    "              metrics=['acc'])"
   ]
  },
  {
   "cell_type": "code",
   "execution_count": 14,
   "metadata": {
    "colab": {},
    "colab_type": "code",
    "id": "ntagMt_zCb6P"
   },
   "outputs": [],
   "source": [
    "train_datagen = ImageDataGenerator(rescale=1./255)  \n",
    "test_datagen = ImageDataGenerator(rescale=1./255)"
   ]
  },
  {
   "cell_type": "code",
   "execution_count": 15,
   "metadata": {
    "colab": {},
    "colab_type": "code",
    "id": "Hybt_guaCDLR"
   },
   "outputs": [],
   "source": [
    "train_datagen = ImageDataGenerator(\n",
    "    rescale=1./255,\n",
    "    rotation_range=40,\n",
    "    width_shift_range=0.2,\n",
    "    height_shift_range=0.2,\n",
    "    shear_range=0.2,\n",
    "    zoom_range=0.2,\n",
    "    horizontal_flip=False,)"
   ]
  },
  {
   "cell_type": "code",
   "execution_count": 16,
   "metadata": {
    "colab": {
     "base_uri": "https://localhost:8080/",
     "height": 34
    },
    "colab_type": "code",
    "id": "tCzys0r4CE6F",
    "outputId": "5282ce3b-a672-4996-9608-80b35bbbd463"
   },
   "outputs": [
    {
     "name": "stdout",
     "output_type": "stream",
     "text": [
      "Found 483 images belonging to 3 classes.\n"
     ]
    }
   ],
   "source": [
    "train_generator = train_datagen.flow_from_directory(\n",
    "        train_dir,                                              \n",
    "        target_size=(150, 150),                                 \n",
    "        batch_size=32,\n",
    "        class_mode='categorical')"
   ]
  },
  {
   "cell_type": "code",
   "execution_count": 17,
   "metadata": {
    "colab": {
     "base_uri": "https://localhost:8080/",
     "height": 34
    },
    "colab_type": "code",
    "id": "DZYtGB8fCJyI",
    "outputId": "cfc97304-d155-49db-fbc8-0c055dc969ff"
   },
   "outputs": [
    {
     "name": "stdout",
     "output_type": "stream",
     "text": [
      "Found 123 images belonging to 3 classes.\n"
     ]
    }
   ],
   "source": [
    "validation_generator = test_datagen.flow_from_directory(\n",
    "        val_dir,\n",
    "        target_size=(150, 150),\n",
    "        batch_size=32,\n",
    "        class_mode='categorical')"
   ]
  },
  {
   "cell_type": "code",
   "execution_count": 18,
   "metadata": {
    "colab": {
     "base_uri": "https://localhost:8080/",
     "height": 1037
    },
    "colab_type": "code",
    "id": "zAShVnLgCMtW",
    "outputId": "58d6c2f2-b838-4f08-8c59-f94883ca755d"
   },
   "outputs": [
    {
     "name": "stdout",
     "output_type": "stream",
     "text": [
      "Epoch 1/30\n",
      "100/100 [==============================] - 43s 425ms/step - loss: 0.4287 - acc: 0.9057 - val_loss: 0.4179 - val_acc: 0.8935\n",
      "Epoch 2/30\n",
      "100/100 [==============================] - 38s 385ms/step - loss: 0.4109 - acc: 0.8991 - val_loss: 0.4239 - val_acc: 0.8948\n",
      "Epoch 3/30\n",
      "100/100 [==============================] - 41s 406ms/step - loss: 0.4007 - acc: 0.8982 - val_loss: 0.4371 - val_acc: 0.8948\n",
      "Epoch 4/30\n",
      "100/100 [==============================] - 41s 415ms/step - loss: 0.3826 - acc: 0.8997 - val_loss: 0.5105 - val_acc: 0.8929\n",
      "Epoch 5/30\n",
      "100/100 [==============================] - 41s 405ms/step - loss: 0.3519 - acc: 0.9054 - val_loss: 0.4822 - val_acc: 0.8935\n",
      "Epoch 6/30\n",
      "100/100 [==============================] - 39s 389ms/step - loss: 0.3431 - acc: 0.9057 - val_loss: 0.5261 - val_acc: 0.8948\n",
      "Epoch 7/30\n",
      "100/100 [==============================] - 40s 403ms/step - loss: 0.3439 - acc: 0.9026 - val_loss: 0.5766 - val_acc: 0.8942\n",
      "Epoch 8/30\n",
      "100/100 [==============================] - 41s 411ms/step - loss: 0.3293 - acc: 0.9069 - val_loss: 0.6167 - val_acc: 0.8948\n",
      "Epoch 9/30\n",
      "100/100 [==============================] - 40s 398ms/step - loss: 0.3173 - acc: 0.9074 - val_loss: 0.6594 - val_acc: 0.8942\n",
      "Epoch 10/30\n",
      "100/100 [==============================] - 41s 406ms/step - loss: 0.3099 - acc: 0.9103 - val_loss: 0.7605 - val_acc: 0.8929\n",
      "Epoch 11/30\n",
      "100/100 [==============================] - 40s 404ms/step - loss: 0.3303 - acc: 0.8999 - val_loss: 0.7229 - val_acc: 0.8935\n",
      "Epoch 12/30\n",
      "100/100 [==============================] - 41s 415ms/step - loss: 0.2997 - acc: 0.9060 - val_loss: 0.7643 - val_acc: 0.8948\n",
      "Epoch 13/30\n",
      "100/100 [==============================] - 38s 381ms/step - loss: 0.3016 - acc: 0.9063 - val_loss: 0.7656 - val_acc: 0.8929\n",
      "Epoch 14/30\n",
      "100/100 [==============================] - 40s 402ms/step - loss: 0.2936 - acc: 0.9071 - val_loss: 0.7420 - val_acc: 0.8935\n",
      "Epoch 15/30\n",
      "100/100 [==============================] - 40s 403ms/step - loss: 0.2871 - acc: 0.9060 - val_loss: 0.8257 - val_acc: 0.8935\n",
      "Epoch 16/30\n",
      "100/100 [==============================] - 41s 411ms/step - loss: 0.3068 - acc: 0.9007 - val_loss: 0.8038 - val_acc: 0.8708\n",
      "Epoch 17/30\n",
      "100/100 [==============================] - 40s 399ms/step - loss: 0.2838 - acc: 0.9055 - val_loss: 0.8559 - val_acc: 0.6753\n",
      "Epoch 18/30\n",
      "100/100 [==============================] - 39s 393ms/step - loss: 0.2634 - acc: 0.9116 - val_loss: 0.8169 - val_acc: 0.8377\n",
      "Epoch 19/30\n",
      "100/100 [==============================] - 41s 405ms/step - loss: 0.2593 - acc: 0.9131 - val_loss: 1.1287 - val_acc: 0.4312\n",
      "Epoch 20/30\n",
      "100/100 [==============================] - 41s 414ms/step - loss: 0.2926 - acc: 0.9037 - val_loss: 0.9279 - val_acc: 0.7006\n",
      "Epoch 21/30\n",
      "100/100 [==============================] - 39s 393ms/step - loss: 0.2548 - acc: 0.9112 - val_loss: 0.9476 - val_acc: 0.6734\n",
      "Epoch 22/30\n",
      "100/100 [==============================] - 40s 398ms/step - loss: 0.2607 - acc: 0.9143 - val_loss: 0.9175 - val_acc: 0.7714\n",
      "Epoch 23/30\n",
      "100/100 [==============================] - 41s 408ms/step - loss: 0.2612 - acc: 0.9146 - val_loss: 0.8301 - val_acc: 0.8208\n",
      "Epoch 24/30\n",
      "100/100 [==============================] - 41s 414ms/step - loss: 0.2463 - acc: 0.9163 - val_loss: 1.0498 - val_acc: 0.5682\n",
      "Epoch 25/30\n",
      "100/100 [==============================] - 39s 390ms/step - loss: 0.2563 - acc: 0.9055 - val_loss: 0.9748 - val_acc: 0.7052\n",
      "Epoch 26/30\n",
      "100/100 [==============================] - 40s 397ms/step - loss: 0.2318 - acc: 0.9229 - val_loss: 1.3383 - val_acc: 0.4448\n",
      "Epoch 27/30\n",
      "100/100 [==============================] - 39s 394ms/step - loss: 0.2257 - acc: 0.9213 - val_loss: 0.9240 - val_acc: 0.8052\n",
      "Epoch 28/30\n",
      "100/100 [==============================] - 40s 403ms/step - loss: 0.2117 - acc: 0.9246 - val_loss: 0.8695 - val_acc: 0.8045\n",
      "Epoch 29/30\n",
      "100/100 [==============================] - 40s 397ms/step - loss: 0.2183 - acc: 0.9229 - val_loss: 1.3316 - val_acc: 0.4890\n",
      "Epoch 30/30\n",
      "100/100 [==============================] - 39s 394ms/step - loss: 0.2121 - acc: 0.9262 - val_loss: 1.3228 - val_acc: 0.4942\n"
     ]
    }
   ],
   "source": [
    "history = model.fit_generator(\n",
    "      train_generator,\n",
    "      steps_per_epoch=100,\n",
    "      epochs=30,\n",
    "      validation_data=validation_generator,\n",
    "      validation_steps=50)"
   ]
  },
  {
   "cell_type": "code",
   "execution_count": 19,
   "metadata": {
    "colab": {
     "base_uri": "https://localhost:8080/",
     "height": 707
    },
    "colab_type": "code",
    "id": "X2p28Xu_Cmd-",
    "outputId": "e8721e11-78d1-4c3a-e244-8a83e55fc0b5"
   },
   "outputs": [
    {
     "data": {
      "image/png": "[encoded data removed]",
      "text/plain": [
       "<matplotlib.figure.Figure at 0x7fb73e540c88>"
      ]
     },
     "metadata": {},
     "output_type": "display_data"
    },
    {
     "data": {
      "image/png": "[encoded data removed]",
      "text/plain": [
       "<matplotlib.figure.Figure at 0x7fb73e551a58>"
      ]
     },
     "metadata": {},
     "output_type": "display_data"
    }
   ],
   "source": [
    "acc = history.history['acc']\n",
    "val_acc = history.history['val_acc']\n",
    "loss = history.history['loss']\n",
    "val_loss = history.history['val_loss']\n",
    "\n",
    "epochs = range(1, len(acc) + 1)\n",
    "plt.ylim(0,1)\n",
    "\n",
    "plt.plot(epochs, acc, 'bo', label='Training acc')\n",
    "plt.plot(epochs, val_acc, 'b', label='Validation acc')\n",
    "plt.title('Training and validation accuracy')\n",
    "plt.legend()\n",
    "\n",
    "plt.figure()\n",
    "\n",
    "plt.plot(epochs, loss, 'bo', label='Training loss')\n",
    "plt.plot(epochs, val_loss, 'b', label='Validation loss')\n",
    "plt.title('Training and validation loss')\n",
    "plt.legend()\n",
    "\n",
    "plt.show()"
   ]
  },
  {
   "cell_type": "code",
   "execution_count": 21,
   "metadata": {
    "colab": {},
    "colab_type": "code",
    "id": "mozJ8RbzDGlt"
   },
   "outputs": [],
   "source": [
    "from keras.utils.vis_utils import plot_model\n",
    "plot_model(model, to_file='model_plot_DeepGaze.png', show_shapes=True, show_layer_names=True)"
   ]
  },
  {
   "cell_type": "code",
   "execution_count": null,
   "metadata": {},
   "outputs": [],
   "source": []
  }
 ],
 "metadata": {
  "accelerator": "GPU",
  "colab": {
   "include_colab_link": true,
   "name": "DrivFace-Augumentation.ipynb",
   "provenance": [],
   "version": "0.3.2"
  },
  "kernelspec": {
   "display_name": "Python [conda env:deeplearning]",
   "language": "python",
   "name": "conda-env-deeplearning-py"
  },
  "language_info": {
   "codemirror_mode": {
    "name": "ipython",
    "version": 3
   },
   "file_extension": ".py",
   "mimetype": "text/x-python",
   "name": "python",
   "nbconvert_exporter": "python",
   "pygments_lexer": "ipython3",
   "version": "3.6.0"
  }
 },
 "nbformat": 4,
 "nbformat_minor": 1
}
