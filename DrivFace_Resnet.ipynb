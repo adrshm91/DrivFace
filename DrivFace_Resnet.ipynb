{
  "nbformat": 4,
  "nbformat_minor": 0,
  "metadata": {
    "colab": {
      "name": "DrivFace - Resnet.ipynb",
      "version": "0.3.2",
      "provenance": [],
      "include_colab_link": true
    },
    "kernelspec": {
      "name": "python3",
      "display_name": "Python 3"
    },
    "accelerator": "GPU"
  },
  "cells": [
    {
      "cell_type": "markdown",
      "metadata": {
        "id": "view-in-github",
        "colab_type": "text"
      },
      "source": [
        "[View in Colaboratory](https://colab.research.google.com/github/adrshm91/DrivFace/blob/master/DrivFace_Resnet.ipynb)"
      ]
    },
    {
      "metadata": {
        "id": "r2Z3soGnHgid",
        "colab_type": "code",
        "colab": {}
      },
      "cell_type": "code",
      "source": [
        "import wget\n",
        "import os\n",
        "from zipfile import PyZipFile\n",
        "import shutil\n",
        "import glob\n",
        "import pandas as pd\n",
        "temp_dir = 'data/temp'\n",
        "orig_dir = 'data/images'\n",
        "train_dir = 'data/train'\n",
        "val_dir = 'data/val'\n",
        "url = 'https://archive.ics.uci.edu/ml/machine-learning-databases/00378/DrivFace.zip'\n",
        "HEIGHT = 224\n",
        "WIDTH = 224\n",
        "CHANNELS = 3\n",
        "SHAPE = (HEIGHT, WIDTH, CHANNELS)"
      ],
      "execution_count": 0,
      "outputs": []
    },
    {
      "metadata": {
        "id": "CWZz1OlMHhpF",
        "colab_type": "code",
        "colab": {}
      },
      "cell_type": "code",
      "source": [
        "def load_dataset():\n",
        "  if not os.path.exists(orig_dir):\n",
        "    \n",
        "    # download the dataset\n",
        "    \n",
        "    os.makedirs(temp_dir)\n",
        "    os.makedirs(orig_dir)\n",
        "    print(\"Downloading dataset to \"+ temp_dir)\n",
        "    file = wget.download(url, out=temp_dir)\n",
        "    print(\"\\nUnzipping the files..\")\n",
        "    pzf = PyZipFile(file)\n",
        "    pzf.extractall(temp_dir)\n",
        "    pzf = PyZipFile(temp_dir+'/DrivFace/DrivImages.zip')\n",
        "    pzf.extractall(temp_dir)\n",
        "    print(\"Moving files to \"+orig_dir)\n",
        "    for file in os.listdir(temp_dir+'/DrivImages'):\n",
        "      shutil.move(temp_dir+'/DrivImages/'+file,orig_dir+'/'+file)\n",
        "    shutil.move(temp_dir+'/DrivFace/drivPoints.txt',orig_dir+'/drivPoints.txt')\n",
        "    print(\"Deleting temporary directory \"+ temp_dir)\n",
        "    shutil.rmtree(temp_dir)"
      ],
      "execution_count": 0,
      "outputs": []
    },
    {
      "metadata": {
        "id": "EWFLBNd1HjsP",
        "colab_type": "code",
        "colab": {}
      },
      "cell_type": "code",
      "source": [
        "def split_dataset(orig_dir, train_dir, val_dir, split_ratio):\n",
        "  \n",
        "  if not os.path.exists(train_dir):\n",
        "    os.makedirs(train_dir)\n",
        "    os.makedirs(val_dir)\n",
        "    print(\"Creating train directories for each class\")\n",
        "    train_ff_dir = os.path.join(train_dir, 'ff')\n",
        "    os.makedirs(train_ff_dir)\n",
        "    train_ll_dir = os.path.join(train_dir, 'll')\n",
        "    os.makedirs(train_ll_dir)\n",
        "    train_lr_dir = os.path.join(train_dir, 'lr')\n",
        "    os.makedirs(train_lr_dir)\n",
        "\n",
        "    print(\"Creating val directories for each class\")\n",
        "    val_ff_dir = os.path.join(val_dir, 'ff')\n",
        "    os.makedirs(val_ff_dir)\n",
        "    val_ll_dir = os.path.join(val_dir, 'll')\n",
        "    os.makedirs(val_ll_dir)\n",
        "    val_lr_dir = os.path.join(val_dir, 'lr')\n",
        "    os.makedirs(val_lr_dir)\n",
        "\n",
        "    files = pd.read_csv(orig_dir+'/drivPoints.txt')['fileName'].tolist()\n",
        "    files_ff = [file for file in files if 'f' in file]\n",
        "    files_ll = [file for file in files if 'll' in file]\n",
        "    files_lr = [file for file in files if 'lr' in file]\n",
        "    i = 0\n",
        "    for fname in files_ff:\n",
        "      src = os.path.join(orig_dir, fname + '.jpg')                        \n",
        "      dst_train = os.path.join(train_ff_dir, fname + '.jpg')\n",
        "      dst_val = os.path.join(val_ff_dir, fname + '.jpg')\n",
        "      i += 1\n",
        "      if i < len(files_ff)*split_ratio:\n",
        "        shutil.move(src, dst_train)\n",
        "      else:\n",
        "        shutil.move(src, dst_val)\n",
        "    i = 0\n",
        "    for fname in files_ll:\n",
        "      src = os.path.join(orig_dir, fname + '.jpg')                        \n",
        "      dst_train = os.path.join(train_ll_dir, fname + '.jpg')\n",
        "      dst_val = os.path.join(val_ll_dir, fname + '.jpg')\n",
        "      i += 1\n",
        "      if i < len(files_ll)*split_ratio:\n",
        "        shutil.move(src, dst_train)\n",
        "      else:\n",
        "        shutil.move(src, dst_val)\n",
        "    i = 0\n",
        "    for fname in files_lr:\n",
        "      src = os.path.join(orig_dir, fname + '.jpg')                        \n",
        "      dst_train = os.path.join(train_lr_dir, fname + '.jpg') \n",
        "      dst_val = os.path.join(val_lr_dir, fname + '.jpg')\n",
        "      i += 1\n",
        "      if i < len(files_lr)*split_ratio:\n",
        "        shutil.move(src, dst_train)\n",
        "      else:\n",
        "        shutil.move(src, dst_val)"
      ],
      "execution_count": 0,
      "outputs": []
    },
    {
      "metadata": {
        "id": "f7GXCsJcHltS",
        "colab_type": "code",
        "colab": {}
      },
      "cell_type": "code",
      "source": [
        "load_dataset()"
      ],
      "execution_count": 0,
      "outputs": []
    },
    {
      "metadata": {
        "id": "R_GwzFuUHocy",
        "colab_type": "code",
        "colab": {}
      },
      "cell_type": "code",
      "source": [
        "split_dataset(orig_dir, train_dir, val_dir, split_ratio = 0.8)"
      ],
      "execution_count": 0,
      "outputs": []
    },
    {
      "metadata": {
        "id": "adJn0V9aIYRk",
        "colab_type": "code",
        "colab": {}
      },
      "cell_type": "code",
      "source": [
        "from keras import layers\n",
        "from keras import models"
      ],
      "execution_count": 0,
      "outputs": []
    },
    {
      "metadata": {
        "id": "DtihVmdhIaOb",
        "colab_type": "code",
        "colab": {}
      },
      "cell_type": "code",
      "source": [
        "from keras.applications import ResNet50\n",
        "\n",
        "conv_base = ResNet50(weights='imagenet',\n",
        "                  include_top=False,\n",
        "                  input_shape=(SHAPE))"
      ],
      "execution_count": 0,
      "outputs": []
    },
    {
      "metadata": {
        "id": "AhsN5gT2IcDt",
        "colab_type": "code",
        "colab": {
          "base_uri": "https://localhost:8080/",
          "height": 272
        },
        "outputId": "91f0b31a-41b7-406b-e85b-044d5c53d31b"
      },
      "cell_type": "code",
      "source": [
        "from keras import models\n",
        "from keras import layers\n",
        "\n",
        "model = models.Sequential()\n",
        "model.add(conv_base)\n",
        "model.add(layers.Flatten())\n",
        "model.add(layers.Dense(256, activation='relu'))\n",
        "model.add(layers.Dense(3, activation='softmax'))\n",
        "conv_base.trainable = False\n",
        "model.summary()"
      ],
      "execution_count": 0,
      "outputs": [
        {
          "output_type": "stream",
          "text": [
            "_________________________________________________________________\n",
            "Layer (type)                 Output Shape              Param #   \n",
            "=================================================================\n",
            "resnet50 (Model)             (None, 1, 1, 2048)        23587712  \n",
            "_________________________________________________________________\n",
            "flatten_3 (Flatten)          (None, 2048)              0         \n",
            "_________________________________________________________________\n",
            "dense_5 (Dense)              (None, 256)               524544    \n",
            "_________________________________________________________________\n",
            "dense_6 (Dense)              (None, 3)                 771       \n",
            "=================================================================\n",
            "Total params: 24,113,027\n",
            "Trainable params: 525,315\n",
            "Non-trainable params: 23,587,712\n",
            "_________________________________________________________________\n"
          ],
          "name": "stdout"
        }
      ]
    },
    {
      "metadata": {
        "id": "D6fL8DCOJCi6",
        "colab_type": "code",
        "colab": {}
      },
      "cell_type": "code",
      "source": [
        "from keras.preprocessing.image import ImageDataGenerator\n",
        "from keras import optimizers\n",
        "\n",
        "train_datagen = ImageDataGenerator(\n",
        "      rescale=1./255,\n",
        "      rotation_range=40,\n",
        "      width_shift_range=0.2,\n",
        "      height_shift_range=0.2,\n",
        "      shear_range=0.2,\n",
        "      zoom_range=0.2,\n",
        "      horizontal_flip=False,\n",
        "      fill_mode='nearest')"
      ],
      "execution_count": 0,
      "outputs": []
    },
    {
      "metadata": {
        "id": "Y0E0RvfVJcoL",
        "colab_type": "code",
        "colab": {
          "base_uri": "https://localhost:8080/",
          "height": 51
        },
        "outputId": "aea3c03c-d1e4-48f5-c516-623670ae549f"
      },
      "cell_type": "code",
      "source": [
        "test_datagen = ImageDataGenerator(rescale=1./255)                \n",
        "\n",
        "train_generator = train_datagen.flow_from_directory(\n",
        "        train_dir,                                               \n",
        "        target_size=(HEIGHT, WIDTH),                                  \n",
        "        batch_size=20,\n",
        "        class_mode='categorical')                                     \n",
        "\n",
        "validation_generator = test_datagen.flow_from_directory(\n",
        "        val_dir,\n",
        "        target_size=(HEIGHT, WIDTH),\n",
        "        batch_size=20,\n",
        "        class_mode='categorical')\n",
        "\n",
        "model.compile(loss='categorical_crossentropy',\n",
        "              optimizer=optimizers.RMSprop(lr=2e-5),\n",
        "              metrics=['acc'])"
      ],
      "execution_count": 0,
      "outputs": [
        {
          "output_type": "stream",
          "text": [
            "Found 483 images belonging to 3 classes.\n",
            "Found 123 images belonging to 3 classes.\n"
          ],
          "name": "stdout"
        }
      ]
    },
    {
      "metadata": {
        "id": "2B9v70s6Jmmx",
        "colab_type": "code",
        "colab": {
          "base_uri": "https://localhost:8080/",
          "height": 1057
        },
        "outputId": "f8755b4a-d057-4ce3-fbef-7156636a728c"
      },
      "cell_type": "code",
      "source": [
        "history = model.fit_generator(\n",
        "      train_generator,\n",
        "      steps_per_epoch=100,\n",
        "      epochs=30,\n",
        "      validation_data=validation_generator,\n",
        "      validation_steps=50)"
      ],
      "execution_count": 12,
      "outputs": [
        {
          "output_type": "stream",
          "text": [
            "Epoch 1/30\n",
            "100/100 [==============================] - 55s 545ms/step - loss: 0.3773 - acc: 0.9032 - val_loss: 0.8583 - val_acc: 0.8956\n",
            "Epoch 2/30\n",
            "100/100 [==============================] - 46s 461ms/step - loss: 0.3420 - acc: 0.9032 - val_loss: 0.7921 - val_acc: 0.8944\n",
            "Epoch 3/30\n",
            "100/100 [==============================] - 46s 464ms/step - loss: 0.3100 - acc: 0.9004 - val_loss: 0.7608 - val_acc: 0.8933\n",
            "Epoch 4/30\n",
            "100/100 [==============================] - 46s 464ms/step - loss: 0.3024 - acc: 0.8996 - val_loss: 0.7713 - val_acc: 0.8944\n",
            "Epoch 5/30\n",
            "100/100 [==============================] - 46s 462ms/step - loss: 0.2763 - acc: 0.9044 - val_loss: 0.7537 - val_acc: 0.8944\n",
            "Epoch 6/30\n",
            "100/100 [==============================] - 46s 463ms/step - loss: 0.2396 - acc: 0.9095 - val_loss: 0.7403 - val_acc: 0.8956\n",
            "Epoch 7/30\n",
            "100/100 [==============================] - 46s 462ms/step - loss: 0.2310 - acc: 0.9172 - val_loss: 0.7284 - val_acc: 0.8956\n",
            "Epoch 8/30\n",
            "100/100 [==============================] - 47s 475ms/step - loss: 0.2178 - acc: 0.9185 - val_loss: 0.7499 - val_acc: 0.8944\n",
            "Epoch 9/30\n",
            "100/100 [==============================] - 46s 459ms/step - loss: 0.2100 - acc: 0.9267 - val_loss: 0.7613 - val_acc: 0.8944\n",
            "Epoch 10/30\n",
            "100/100 [==============================] - 46s 460ms/step - loss: 0.2178 - acc: 0.9249 - val_loss: 0.7534 - val_acc: 0.8944\n",
            "Epoch 11/30\n",
            "100/100 [==============================] - 46s 463ms/step - loss: 0.1981 - acc: 0.9320 - val_loss: 0.7254 - val_acc: 0.8944\n",
            "Epoch 12/30\n",
            "100/100 [==============================] - 46s 464ms/step - loss: 0.1857 - acc: 0.9372 - val_loss: 0.7196 - val_acc: 0.8933\n",
            "Epoch 13/30\n",
            "100/100 [==============================] - 46s 461ms/step - loss: 0.1823 - acc: 0.9332 - val_loss: 0.7234 - val_acc: 0.8922\n",
            "Epoch 14/30\n",
            "100/100 [==============================] - 47s 466ms/step - loss: 0.1815 - acc: 0.9322 - val_loss: 0.7469 - val_acc: 0.8944\n",
            "Epoch 15/30\n",
            "100/100 [==============================] - 46s 459ms/step - loss: 0.1773 - acc: 0.9367 - val_loss: 0.7681 - val_acc: 0.8933\n",
            "Epoch 16/30\n",
            "100/100 [==============================] - 46s 462ms/step - loss: 0.1789 - acc: 0.9332 - val_loss: 0.7848 - val_acc: 0.8956\n",
            "Epoch 17/30\n",
            "100/100 [==============================] - 46s 462ms/step - loss: 0.1599 - acc: 0.9430 - val_loss: 0.7926 - val_acc: 0.8944\n",
            "Epoch 18/30\n",
            "100/100 [==============================] - 46s 458ms/step - loss: 0.1546 - acc: 0.9450 - val_loss: 0.7878 - val_acc: 0.8933\n",
            "Epoch 19/30\n",
            "100/100 [==============================] - 46s 460ms/step - loss: 0.1588 - acc: 0.9470 - val_loss: 0.7513 - val_acc: 0.8967\n",
            "Epoch 20/30\n",
            "100/100 [==============================] - 46s 459ms/step - loss: 0.1608 - acc: 0.9417 - val_loss: 0.7858 - val_acc: 0.8944\n",
            "Epoch 21/30\n",
            "100/100 [==============================] - 47s 470ms/step - loss: 0.1505 - acc: 0.9437 - val_loss: 0.7143 - val_acc: 0.8933\n",
            "Epoch 22/30\n",
            "100/100 [==============================] - 46s 458ms/step - loss: 0.1503 - acc: 0.9442 - val_loss: 0.8027 - val_acc: 0.8944\n",
            "Epoch 23/30\n",
            "100/100 [==============================] - 45s 455ms/step - loss: 0.1658 - acc: 0.9346 - val_loss: 0.8190 - val_acc: 0.8922\n",
            "Epoch 24/30\n",
            "100/100 [==============================] - 46s 461ms/step - loss: 0.1424 - acc: 0.9472 - val_loss: 0.8538 - val_acc: 0.8922\n",
            "Epoch 25/30\n",
            "100/100 [==============================] - 46s 462ms/step - loss: 0.1360 - acc: 0.9517 - val_loss: 0.7730 - val_acc: 0.8956\n",
            "Epoch 26/30\n",
            "100/100 [==============================] - 47s 474ms/step - loss: 0.1439 - acc: 0.9507 - val_loss: 0.8201 - val_acc: 0.8967\n",
            "Epoch 27/30\n",
            "100/100 [==============================] - 47s 468ms/step - loss: 0.1417 - acc: 0.9419 - val_loss: 0.8751 - val_acc: 0.8967\n",
            "Epoch 28/30\n",
            "100/100 [==============================] - 47s 474ms/step - loss: 0.1452 - acc: 0.9489 - val_loss: 0.8426 - val_acc: 0.8910\n",
            "Epoch 29/30\n",
            "100/100 [==============================] - 46s 463ms/step - loss: 0.1308 - acc: 0.9557 - val_loss: 0.8795 - val_acc: 0.8944\n",
            "Epoch 30/30\n",
            "100/100 [==============================] - 46s 463ms/step - loss: 0.1404 - acc: 0.9527 - val_loss: 0.8992 - val_acc: 0.8944\n"
          ],
          "name": "stdout"
        }
      ]
    },
    {
      "metadata": {
        "id": "sPu5BzfYJuUc",
        "colab_type": "code",
        "colab": {
          "base_uri": "https://localhost:8080/",
          "height": 708
        },
        "outputId": "41a41c5c-219c-424a-bf0f-9b160e65e1fe"
      },
      "cell_type": "code",
      "source": [
        "import matplotlib.pyplot as plt\n",
        "acc = history.history['acc']\n",
        "val_acc = history.history['val_acc']\n",
        "loss = history.history['loss']\n",
        "val_loss = history.history['val_loss']\n",
        "plt.ylim(0,1)\n",
        "\n",
        "epochs = range(1, len(acc) + 1)\n",
        "\n",
        "plt.plot(epochs, acc, 'bo', label='Training acc')\n",
        "plt.plot(epochs, val_acc, 'b', label='Validation acc')\n",
        "plt.title('Training and validation accuracy')\n",
        "plt.legend()\n",
        "\n",
        "plt.figure()\n",
        "\n",
        "plt.plot(epochs, loss, 'bo', label='Training loss')\n",
        "plt.plot(epochs, val_loss, 'b', label='Validation loss')\n",
        "plt.title('Training and validation loss')\n",
        "plt.legend()\n",
        "\n",
        "plt.show()"
      ],
      "execution_count": 13,
      "outputs": [
        {
          "output_type": "display_data",
          "data": {
            "image/png": "[encoded data removed]",
            "text/plain": [
              "<matplotlib.figure.Figure at 0x7f2c2128a0b8>"
            ]
          },
          "metadata": {
            "tags": []
          }
        },
        {
          "output_type": "display_data",
          "data": {
            "image/png": "[encoded data removed]",
            "text/plain": [
              "<matplotlib.figure.Figure at 0x7f2c2c191dd8>"
            ]
          },
          "metadata": {
            "tags": []
          }
        }
      ]
    },
    {
      "metadata": {
        "id": "QCulTyuGN7Zw",
        "colab_type": "code",
        "colab": {}
      },
      "cell_type": "code",
      "source": [
        ""
      ],
      "execution_count": 0,
      "outputs": []
    }
  ]
}