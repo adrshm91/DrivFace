{
  "nbformat": 4,
  "nbformat_minor": 0,
  "metadata": {
    "colab": {
      "name": "DrivFace - Resnet.ipynb",
      "version": "0.3.2",
      "provenance": [],
      "include_colab_link": true
    },
    "kernelspec": {
      "name": "python3",
      "display_name": "Python 3"
    },
    "accelerator": "GPU"
  },
  "cells": [
    {
      "cell_type": "markdown",
      "metadata": {
        "id": "view-in-github",
        "colab_type": "text"
      },
      "source": [
        "[View in Colaboratory](https://colab.research.google.com/github/adrshm91/DrivFace/blob/master/DrivFace_Resnet.ipynb)"
      ]
    },
    {
      "metadata": {
        "id": "r2Z3soGnHgid",
        "colab_type": "code",
        "colab": {}
      },
      "cell_type": "code",
      "source": [
        "import wget\n",
        "import os\n",
        "from zipfile import PyZipFile\n",
        "import shutil\n",
        "import glob\n",
        "import pandas as pd\n",
        "temp_dir = 'data/temp'\n",
        "orig_dir = 'data/images'\n",
        "train_dir = 'data/train'\n",
        "val_dir = 'data/val'\n",
        "url = 'https://archive.ics.uci.edu/ml/machine-learning-databases/00378/DrivFace.zip'\n",
        "HEIGHT = 224\n",
        "WIDTH = 224\n",
        "CHANNELS = 3\n",
        "SHAPE = (HEIGHT, WIDTH, CHANNELS)"
      ],
      "execution_count": 0,
      "outputs": []
    },
    {
      "metadata": {
        "id": "CWZz1OlMHhpF",
        "colab_type": "code",
        "colab": {}
      },
      "cell_type": "code",
      "source": [
        "def load_dataset():\n",
        "  if not os.path.exists(orig_dir):\n",
        "    \n",
        "    # download the dataset\n",
        "    \n",
        "    os.makedirs(temp_dir)\n",
        "    os.makedirs(orig_dir)\n",
        "    print(\"Downloading dataset to \"+ temp_dir)\n",
        "    file = wget.download(url, out=temp_dir)\n",
        "    print(\"\\nUnzipping the files..\")\n",
        "    pzf = PyZipFile(file)\n",
        "    pzf.extractall(temp_dir)\n",
        "    pzf = PyZipFile(temp_dir+'/DrivFace/DrivImages.zip')\n",
        "    pzf.extractall(temp_dir)\n",
        "    print(\"Moving files to \"+orig_dir)\n",
        "    for file in os.listdir(temp_dir+'/DrivImages'):\n",
        "      shutil.move(temp_dir+'/DrivImages/'+file,orig_dir+'/'+file)\n",
        "    shutil.move(temp_dir+'/DrivFace/drivPoints.txt',orig_dir+'/drivPoints.txt')\n",
        "    print(\"Deleting temporary directory \"+ temp_dir)\n",
        "    shutil.rmtree(temp_dir)"
      ],
      "execution_count": 0,
      "outputs": []
    },
    {
      "metadata": {
        "id": "EWFLBNd1HjsP",
        "colab_type": "code",
        "colab": {}
      },
      "cell_type": "code",
      "source": [
        "def split_dataset(orig_dir, train_dir, val_dir, split_ratio):\n",
        "  \n",
        "  if not os.path.exists(train_dir):\n",
        "    os.makedirs(train_dir)\n",
        "    os.makedirs(val_dir)\n",
        "    print(\"Creating train directories for each class\")\n",
        "    train_ff_dir = os.path.join(train_dir, 'ff')\n",
        "    os.makedirs(train_ff_dir)\n",
        "    train_ll_dir = os.path.join(train_dir, 'll')\n",
        "    os.makedirs(train_ll_dir)\n",
        "    train_lr_dir = os.path.join(train_dir, 'lr')\n",
        "    os.makedirs(train_lr_dir)\n",
        "\n",
        "    print(\"Creating val directories for each class\")\n",
        "    val_ff_dir = os.path.join(val_dir, 'ff')\n",
        "    os.makedirs(val_ff_dir)\n",
        "    val_ll_dir = os.path.join(val_dir, 'll')\n",
        "    os.makedirs(val_ll_dir)\n",
        "    val_lr_dir = os.path.join(val_dir, 'lr')\n",
        "    os.makedirs(val_lr_dir)\n",
        "\n",
        "    files = pd.read_csv(orig_dir+'/drivPoints.txt')['fileName'].tolist()\n",
        "    files_ff = [file for file in files if 'f' in file]\n",
        "    files_ll = [file for file in files if 'll' in file]\n",
        "    files_lr = [file for file in files if 'lr' in file]\n",
        "    i = 0\n",
        "    for fname in files_ff:\n",
        "      src = os.path.join(orig_dir, fname + '.jpg')                        \n",
        "      dst_train = os.path.join(train_ff_dir, fname + '.jpg')\n",
        "      dst_val = os.path.join(val_ff_dir, fname + '.jpg')\n",
        "      i += 1\n",
        "      if i < len(files_ff)*split_ratio:\n",
        "        shutil.move(src, dst_train)\n",
        "      else:\n",
        "        shutil.move(src, dst_val)\n",
        "    i = 0\n",
        "    for fname in files_ll:\n",
        "      src = os.path.join(orig_dir, fname + '.jpg')                        \n",
        "      dst_train = os.path.join(train_ll_dir, fname + '.jpg')\n",
        "      dst_val = os.path.join(val_ll_dir, fname + '.jpg')\n",
        "      i += 1\n",
        "      if i < len(files_ll)*split_ratio:\n",
        "        shutil.move(src, dst_train)\n",
        "      else:\n",
        "        shutil.move(src, dst_val)\n",
        "    i = 0\n",
        "    for fname in files_lr:\n",
        "      src = os.path.join(orig_dir, fname + '.jpg')                        \n",
        "      dst_train = os.path.join(train_lr_dir, fname + '.jpg') \n",
        "      dst_val = os.path.join(val_lr_dir, fname + '.jpg')\n",
        "      i += 1\n",
        "      if i < len(files_lr)*split_ratio:\n",
        "        shutil.move(src, dst_train)\n",
        "      else:\n",
        "        shutil.move(src, dst_val)"
      ],
      "execution_count": 0,
      "outputs": []
    },
    {
      "metadata": {
        "id": "f7GXCsJcHltS",
        "colab_type": "code",
        "colab": {
          "base_uri": "https://localhost:8080/",
          "height": 104
        },
        "outputId": "dba835e7-8b7e-4b08-ad4b-71963010793a"
      },
      "cell_type": "code",
      "source": [
        "load_dataset()"
      ],
      "execution_count": 5,
      "outputs": [
        {
          "output_type": "stream",
          "text": [
            "Downloading dataset to data/temp\n",
            "\n",
            "Unzipping the files..\n",
            "Moving files to data/images\n",
            "Deleting temporary directory data/temp\n"
          ],
          "name": "stdout"
        }
      ]
    },
    {
      "metadata": {
        "id": "R_GwzFuUHocy",
        "colab_type": "code",
        "colab": {
          "base_uri": "https://localhost:8080/",
          "height": 52
        },
        "outputId": "16cba2cc-129c-4d6c-af78-2c4004970f2d"
      },
      "cell_type": "code",
      "source": [
        "split_dataset(orig_dir, train_dir, val_dir, split_ratio = 0.8)"
      ],
      "execution_count": 6,
      "outputs": [
        {
          "output_type": "stream",
          "text": [
            "Creating train directories for each class\n",
            "Creating val directories for each class\n"
          ],
          "name": "stdout"
        }
      ]
    },
    {
      "metadata": {
        "id": "adJn0V9aIYRk",
        "colab_type": "code",
        "colab": {
          "base_uri": "https://localhost:8080/",
          "height": 35
        },
        "outputId": "75611ba0-0f3c-4058-d69c-4d9f8d6b7273"
      },
      "cell_type": "code",
      "source": [
        "from keras import layers\n",
        "from keras import models"
      ],
      "execution_count": 7,
      "outputs": [
        {
          "output_type": "stream",
          "text": [
            "Using TensorFlow backend.\n"
          ],
          "name": "stderr"
        }
      ]
    },
    {
      "metadata": {
        "id": "DtihVmdhIaOb",
        "colab_type": "code",
        "colab": {
          "base_uri": "https://localhost:8080/",
          "height": 52
        },
        "outputId": "4bfaba6b-f180-4eaf-f57b-c3299915620d"
      },
      "cell_type": "code",
      "source": [
        "from keras.applications import ResNet50\n",
        "\n",
        "conv_base = ResNet50(weights='imagenet',\n",
        "                  include_top=False,\n",
        "                  input_shape=(SHAPE))"
      ],
      "execution_count": 8,
      "outputs": [
        {
          "output_type": "stream",
          "text": [
            "Downloading data from https://github.com/fchollet/deep-learning-models/releases/download/v0.2/resnet50_weights_tf_dim_ordering_tf_kernels_notop.h5\n",
            "94658560/94653016 [==============================] - 3s 0us/step\n"
          ],
          "name": "stdout"
        }
      ]
    },
    {
      "metadata": {
        "id": "AhsN5gT2IcDt",
        "colab_type": "code",
        "colab": {
          "base_uri": "https://localhost:8080/",
          "height": 277
        },
        "outputId": "be800e57-137c-4d5c-8553-5fbb2a1e257a"
      },
      "cell_type": "code",
      "source": [
        "model = models.Sequential()\n",
        "model.add(conv_base)\n",
        "model.add(layers.Flatten())\n",
        "model.add(layers.Dense(256, activation='relu'))\n",
        "model.add(layers.Dense(3, activation='softmax'))\n",
        "conv_base.trainable = False\n",
        "model.summary()"
      ],
      "execution_count": 9,
      "outputs": [
        {
          "output_type": "stream",
          "text": [
            "_________________________________________________________________\n",
            "Layer (type)                 Output Shape              Param #   \n",
            "=================================================================\n",
            "resnet50 (Model)             (None, 1, 1, 2048)        23587712  \n",
            "_________________________________________________________________\n",
            "flatten_1 (Flatten)          (None, 2048)              0         \n",
            "_________________________________________________________________\n",
            "dense_1 (Dense)              (None, 256)               524544    \n",
            "_________________________________________________________________\n",
            "dense_2 (Dense)              (None, 3)                 771       \n",
            "=================================================================\n",
            "Total params: 24,113,027\n",
            "Trainable params: 525,315\n",
            "Non-trainable params: 23,587,712\n",
            "_________________________________________________________________\n"
          ],
          "name": "stdout"
        }
      ]
    },
    {
      "metadata": {
        "id": "D6fL8DCOJCi6",
        "colab_type": "code",
        "colab": {}
      },
      "cell_type": "code",
      "source": [
        "from keras.preprocessing.image import ImageDataGenerator\n",
        "from keras import optimizers\n",
        "\n",
        "train_datagen = ImageDataGenerator(\n",
        "      rescale=1./255,\n",
        "      rotation_range=40,\n",
        "      width_shift_range=0.2,\n",
        "      height_shift_range=0.2,\n",
        "      shear_range=0.2,\n",
        "      zoom_range=0.2,\n",
        "      horizontal_flip=False,\n",
        "      fill_mode='nearest')"
      ],
      "execution_count": 0,
      "outputs": []
    },
    {
      "metadata": {
        "id": "Y0E0RvfVJcoL",
        "colab_type": "code",
        "colab": {
          "base_uri": "https://localhost:8080/",
          "height": 52
        },
        "outputId": "03e757a0-3a83-4b86-ae8f-399feff0ca0c"
      },
      "cell_type": "code",
      "source": [
        "test_datagen = ImageDataGenerator(rescale=1./255)                \n",
        "\n",
        "train_generator = train_datagen.flow_from_directory(\n",
        "        train_dir,                                               \n",
        "        target_size=(HEIGHT, WIDTH),                                  \n",
        "        batch_size=20,\n",
        "        class_mode='categorical')                                     \n",
        "\n",
        "validation_generator = test_datagen.flow_from_directory(\n",
        "        val_dir,\n",
        "        target_size=(HEIGHT, WIDTH),\n",
        "        batch_size=20,\n",
        "        class_mode='categorical')\n",
        "\n",
        "model.compile(loss='categorical_crossentropy',\n",
        "              optimizer=optimizers.RMSprop(lr=2e-5),\n",
        "              metrics=['acc'])"
      ],
      "execution_count": 11,
      "outputs": [
        {
          "output_type": "stream",
          "text": [
            "Found 483 images belonging to 3 classes.\n",
            "Found 123 images belonging to 3 classes.\n"
          ],
          "name": "stdout"
        }
      ]
    },
    {
      "metadata": {
        "id": "2B9v70s6Jmmx",
        "colab_type": "code",
        "colab": {
          "base_uri": "https://localhost:8080/",
          "height": 1057
        },
        "outputId": "2158b59d-4ba3-45f6-dfba-1c4ed9011305"
      },
      "cell_type": "code",
      "source": [
        "history = model.fit_generator(\n",
        "      train_generator,\n",
        "      steps_per_epoch=100,\n",
        "      epochs=30,\n",
        "      validation_data=validation_generator,\n",
        "      validation_steps=50)"
      ],
      "execution_count": 12,
      "outputs": [
        {
          "output_type": "stream",
          "text": [
            "Epoch 1/30\n",
            "100/100 [==============================] - 56s 563ms/step - loss: 0.3887 - acc: 0.9007 - val_loss: 0.6540 - val_acc: 0.8956\n",
            "Epoch 2/30\n",
            "100/100 [==============================] - 48s 481ms/step - loss: 0.3337 - acc: 0.9032 - val_loss: 0.5933 - val_acc: 0.8933\n",
            "Epoch 3/30\n",
            "100/100 [==============================] - 48s 481ms/step - loss: 0.3002 - acc: 0.9027 - val_loss: 0.5751 - val_acc: 0.8933\n",
            "Epoch 4/30\n",
            "100/100 [==============================] - 48s 481ms/step - loss: 0.2807 - acc: 0.9047 - val_loss: 0.5614 - val_acc: 0.8967\n",
            "Epoch 5/30\n",
            "100/100 [==============================] - 48s 484ms/step - loss: 0.2715 - acc: 0.9054 - val_loss: 0.5540 - val_acc: 0.8956\n",
            "Epoch 6/30\n",
            "100/100 [==============================] - 48s 480ms/step - loss: 0.2525 - acc: 0.9155 - val_loss: 0.5549 - val_acc: 0.8933\n",
            "Epoch 7/30\n",
            "100/100 [==============================] - 48s 481ms/step - loss: 0.2273 - acc: 0.9190 - val_loss: 0.5358 - val_acc: 0.8956\n",
            "Epoch 8/30\n",
            "100/100 [==============================] - 48s 485ms/step - loss: 0.2220 - acc: 0.9197 - val_loss: 0.5288 - val_acc: 0.8922\n",
            "Epoch 9/30\n",
            "100/100 [==============================] - 49s 486ms/step - loss: 0.2067 - acc: 0.9192 - val_loss: 0.5221 - val_acc: 0.8956\n",
            "Epoch 10/30\n",
            "100/100 [==============================] - 48s 481ms/step - loss: 0.2148 - acc: 0.9221 - val_loss: 0.5174 - val_acc: 0.8956\n",
            "Epoch 11/30\n",
            "100/100 [==============================] - 48s 484ms/step - loss: 0.2055 - acc: 0.9262 - val_loss: 0.5181 - val_acc: 0.8967\n",
            "Epoch 12/30\n",
            "100/100 [==============================] - 48s 479ms/step - loss: 0.1970 - acc: 0.9292 - val_loss: 0.5288 - val_acc: 0.8944\n",
            "Epoch 13/30\n",
            "100/100 [==============================] - 48s 484ms/step - loss: 0.2021 - acc: 0.9286 - val_loss: 0.5455 - val_acc: 0.8956\n",
            "Epoch 14/30\n",
            "100/100 [==============================] - 49s 487ms/step - loss: 0.1967 - acc: 0.9307 - val_loss: 0.5594 - val_acc: 0.8922\n",
            "Epoch 15/30\n",
            "100/100 [==============================] - 48s 483ms/step - loss: 0.1761 - acc: 0.9385 - val_loss: 0.5484 - val_acc: 0.8967\n",
            "Epoch 16/30\n",
            "100/100 [==============================] - 48s 485ms/step - loss: 0.1787 - acc: 0.9332 - val_loss: 0.5562 - val_acc: 0.8967\n",
            "Epoch 17/30\n",
            "100/100 [==============================] - 48s 482ms/step - loss: 0.1680 - acc: 0.9382 - val_loss: 0.5461 - val_acc: 0.8933\n",
            "Epoch 18/30\n",
            "100/100 [==============================] - 48s 485ms/step - loss: 0.1717 - acc: 0.9399 - val_loss: 0.5533 - val_acc: 0.8956\n",
            "Epoch 19/30\n",
            "100/100 [==============================] - 48s 481ms/step - loss: 0.1599 - acc: 0.9380 - val_loss: 0.5721 - val_acc: 0.8922\n",
            "Epoch 20/30\n",
            "100/100 [==============================] - 48s 481ms/step - loss: 0.1511 - acc: 0.9447 - val_loss: 0.5698 - val_acc: 0.8944\n",
            "Epoch 21/30\n",
            "100/100 [==============================] - 49s 485ms/step - loss: 0.1529 - acc: 0.9452 - val_loss: 0.5993 - val_acc: 0.8956\n",
            "Epoch 22/30\n",
            "100/100 [==============================] - 48s 482ms/step - loss: 0.1511 - acc: 0.9419 - val_loss: 0.6184 - val_acc: 0.8933\n",
            "Epoch 23/30\n",
            "100/100 [==============================] - 48s 482ms/step - loss: 0.1425 - acc: 0.9455 - val_loss: 0.5852 - val_acc: 0.8956\n",
            "Epoch 24/30\n",
            "100/100 [==============================] - 48s 483ms/step - loss: 0.1390 - acc: 0.9490 - val_loss: 0.6034 - val_acc: 0.8967\n",
            "Epoch 25/30\n",
            "100/100 [==============================] - 48s 480ms/step - loss: 0.1439 - acc: 0.9417 - val_loss: 0.6343 - val_acc: 0.8944\n",
            "Epoch 26/30\n",
            "100/100 [==============================] - 48s 481ms/step - loss: 0.1389 - acc: 0.9482 - val_loss: 0.6362 - val_acc: 0.8956\n",
            "Epoch 27/30\n",
            "100/100 [==============================] - 48s 485ms/step - loss: 0.1366 - acc: 0.9442 - val_loss: 0.6389 - val_acc: 0.8944\n",
            "Epoch 28/30\n",
            "100/100 [==============================] - 48s 483ms/step - loss: 0.1274 - acc: 0.9515 - val_loss: 0.6425 - val_acc: 0.8933\n",
            "Epoch 29/30\n",
            "100/100 [==============================] - 48s 479ms/step - loss: 0.1421 - acc: 0.9457 - val_loss: 0.6615 - val_acc: 0.8922\n",
            "Epoch 30/30\n",
            "100/100 [==============================] - 48s 483ms/step - loss: 0.1292 - acc: 0.9555 - val_loss: 0.6596 - val_acc: 0.8922\n"
          ],
          "name": "stdout"
        }
      ]
    },
    {
      "metadata": {
        "id": "sPu5BzfYJuUc",
        "colab_type": "code",
        "colab": {
          "base_uri": "https://localhost:8080/",
          "height": 708
        },
        "outputId": "43ed2201-9814-483f-c87e-8942bf2fed1f"
      },
      "cell_type": "code",
      "source": [
        "import matplotlib.pyplot as plt\n",
        "acc = history.history['acc']\n",
        "val_acc = history.history['val_acc']\n",
        "loss = history.history['loss']\n",
        "val_loss = history.history['val_loss']\n",
        "plt.ylim(0,1)\n",
        "\n",
        "epochs = range(1, len(acc) + 1)\n",
        "\n",
        "plt.plot(epochs, acc, 'bo', label='Training acc')\n",
        "plt.plot(epochs, val_acc, 'b', label='Validation acc')\n",
        "plt.title('Training and validation accuracy')\n",
        "plt.legend()\n",
        "\n",
        "plt.figure()\n",
        "\n",
        "plt.plot(epochs, loss, 'bo', label='Training loss')\n",
        "plt.plot(epochs, val_loss, 'b', label='Validation loss')\n",
        "plt.title('Training and validation loss')\n",
        "plt.legend()\n",
        "\n",
        "plt.show()"
      ],
      "execution_count": 13,
      "outputs": [
        {
          "output_type": "display_data",
          "data": {
            "image/png": "[encoded data removed]",
            "text/plain": [
              "<matplotlib.figure.Figure at 0x7f9b7b008438>"
            ]
          },
          "metadata": {
            "tags": []
          }
        },
        {
          "output_type": "display_data",
          "data": {
            "image/png": "[encoded data removed]",
            "text/plain": [
              "<matplotlib.figure.Figure at 0x7f9b943aff28>"
            ]
          },
          "metadata": {
            "tags": []
          }
        }
      ]
    },
    {
      "metadata": {
        "id": "oFxTMN4lrFYc",
        "colab_type": "code",
        "colab": {}
      },
      "cell_type": "code",
      "source": [
        "model.save('DrivFace-ResNet.h5')"
      ],
      "execution_count": 0,
      "outputs": []
    },
    {
      "metadata": {
        "id": "QCulTyuGN7Zw",
        "colab_type": "code",
        "colab": {
          "base_uri": "https://localhost:8080/",
          "height": 35
        },
        "outputId": "551ef5bd-d2d6-4076-de6f-4c4d63814a3a"
      },
      "cell_type": "code",
      "source": [
        "!ls"
      ],
      "execution_count": 15,
      "outputs": [
        {
          "output_type": "stream",
          "text": [
            "data  DrivFace-ResNet.h5  sample_data\n"
          ],
          "name": "stdout"
        }
      ]
    },
    {
      "metadata": {
        "id": "boOjf5nGrUPT",
        "colab_type": "code",
        "colab": {}
      },
      "cell_type": "code",
      "source": [
        ""
      ],
      "execution_count": 0,
      "outputs": []
    }
  ]
}