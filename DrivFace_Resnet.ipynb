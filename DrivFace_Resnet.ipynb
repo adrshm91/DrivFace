{
  "nbformat": 4,
  "nbformat_minor": 0,
  "metadata": {
    "colab": {
      "name": "DrivFace - Resnet.ipynb",
      "version": "0.3.2",
      "provenance": [],
      "include_colab_link": true
    },
    "kernelspec": {
      "name": "python3",
      "display_name": "Python 3"
    },
    "accelerator": "GPU"
  },
  "cells": [
    {
      "cell_type": "markdown",
      "metadata": {
        "id": "view-in-github",
        "colab_type": "text"
      },
      "source": [
        "[View in Colaboratory](https://colab.research.google.com/github/adrshm91/DrivFace/blob/master/DrivFace_Resnet.ipynb)"
      ]
    },
    {
      "metadata": {
        "id": "r2Z3soGnHgid",
        "colab_type": "code",
        "colab": {}
      },
      "cell_type": "code",
      "source": [
        "import wget\n",
        "import os\n",
        "from zipfile import PyZipFile\n",
        "import shutil\n",
        "import glob\n",
        "import pandas as pd\n",
        "temp_dir = 'data/temp'\n",
        "orig_dir = 'data/images'\n",
        "train_dir = 'data/train'\n",
        "val_dir = 'data/val'\n",
        "url = 'https://archive.ics.uci.edu/ml/machine-learning-databases/00378/DrivFace.zip'\n",
        "HEIGHT = 224\n",
        "WIDTH = 224\n",
        "CHANNELS = 3\n",
        "SHAPE = (HEIGHT, WIDTH, CHANNELS)"
      ],
      "execution_count": 0,
      "outputs": []
    },
    {
      "metadata": {
        "id": "CWZz1OlMHhpF",
        "colab_type": "code",
        "colab": {}
      },
      "cell_type": "code",
      "source": [
        "def load_dataset():\n",
        "  if not os.path.exists(orig_dir):\n",
        "    \n",
        "    # download the dataset\n",
        "    \n",
        "    os.makedirs(temp_dir)\n",
        "    os.makedirs(orig_dir)\n",
        "    print(\"Downloading dataset to \"+ temp_dir)\n",
        "    file = wget.download(url, out=temp_dir)\n",
        "    print(\"\\nUnzipping the files..\")\n",
        "    pzf = PyZipFile(file)\n",
        "    pzf.extractall(temp_dir)\n",
        "    pzf = PyZipFile(temp_dir+'/DrivFace/DrivImages.zip')\n",
        "    pzf.extractall(temp_dir)\n",
        "    print(\"Moving files to \"+orig_dir)\n",
        "    for file in os.listdir(temp_dir+'/DrivImages'):\n",
        "      shutil.move(temp_dir+'/DrivImages/'+file,orig_dir+'/'+file)\n",
        "    shutil.move(temp_dir+'/DrivFace/drivPoints.txt',orig_dir+'/drivPoints.txt')\n",
        "    print(\"Deleting temporary directory \"+ temp_dir)\n",
        "    shutil.rmtree(temp_dir)"
      ],
      "execution_count": 0,
      "outputs": []
    },
    {
      "metadata": {
        "id": "EWFLBNd1HjsP",
        "colab_type": "code",
        "colab": {}
      },
      "cell_type": "code",
      "source": [
        "def split_dataset(orig_dir, train_dir, val_dir, split_ratio):\n",
        "  \n",
        "  if not os.path.exists(train_dir):\n",
        "    os.makedirs(train_dir)\n",
        "    os.makedirs(val_dir)\n",
        "    print(\"Creating train directories for each class\")\n",
        "    train_ff_dir = os.path.join(train_dir, 'ff')\n",
        "    os.makedirs(train_ff_dir)\n",
        "    train_ll_dir = os.path.join(train_dir, 'll')\n",
        "    os.makedirs(train_ll_dir)\n",
        "    train_lr_dir = os.path.join(train_dir, 'lr')\n",
        "    os.makedirs(train_lr_dir)\n",
        "\n",
        "    print(\"Creating val directories for each class\")\n",
        "    val_ff_dir = os.path.join(val_dir, 'ff')\n",
        "    os.makedirs(val_ff_dir)\n",
        "    val_ll_dir = os.path.join(val_dir, 'll')\n",
        "    os.makedirs(val_ll_dir)\n",
        "    val_lr_dir = os.path.join(val_dir, 'lr')\n",
        "    os.makedirs(val_lr_dir)\n",
        "\n",
        "    files = pd.read_csv(orig_dir+'/drivPoints.txt')['fileName'].tolist()\n",
        "    files_ff = [file for file in files if 'f' in file]\n",
        "    files_ll = [file for file in files if 'll' in file]\n",
        "    files_lr = [file for file in files if 'lr' in file]\n",
        "    i = 0\n",
        "    for fname in files_ff:\n",
        "      src = os.path.join(orig_dir, fname + '.jpg')                        \n",
        "      dst_train = os.path.join(train_ff_dir, fname + '.jpg')\n",
        "      dst_val = os.path.join(val_ff_dir, fname + '.jpg')\n",
        "      i += 1\n",
        "      if i < len(files_ff)*split_ratio:\n",
        "        shutil.move(src, dst_train)\n",
        "      else:\n",
        "        shutil.move(src, dst_val)\n",
        "    i = 0\n",
        "    for fname in files_ll:\n",
        "      src = os.path.join(orig_dir, fname + '.jpg')                        \n",
        "      dst_train = os.path.join(train_ll_dir, fname + '.jpg')\n",
        "      dst_val = os.path.join(val_ll_dir, fname + '.jpg')\n",
        "      i += 1\n",
        "      if i < len(files_ll)*split_ratio:\n",
        "        shutil.move(src, dst_train)\n",
        "      else:\n",
        "        shutil.move(src, dst_val)\n",
        "    i = 0\n",
        "    for fname in files_lr:\n",
        "      src = os.path.join(orig_dir, fname + '.jpg')                        \n",
        "      dst_train = os.path.join(train_lr_dir, fname + '.jpg') \n",
        "      dst_val = os.path.join(val_lr_dir, fname + '.jpg')\n",
        "      i += 1\n",
        "      if i < len(files_lr)*split_ratio:\n",
        "        shutil.move(src, dst_train)\n",
        "      else:\n",
        "        shutil.move(src, dst_val)"
      ],
      "execution_count": 0,
      "outputs": []
    },
    {
      "metadata": {
        "id": "f7GXCsJcHltS",
        "colab_type": "code",
        "colab": {}
      },
      "cell_type": "code",
      "source": [
        "load_dataset()"
      ],
      "execution_count": 0,
      "outputs": []
    },
    {
      "metadata": {
        "id": "R_GwzFuUHocy",
        "colab_type": "code",
        "colab": {}
      },
      "cell_type": "code",
      "source": [
        "split_dataset(orig_dir, train_dir, val_dir, split_ratio = 0.8)"
      ],
      "execution_count": 0,
      "outputs": []
    },
    {
      "metadata": {
        "id": "adJn0V9aIYRk",
        "colab_type": "code",
        "colab": {}
      },
      "cell_type": "code",
      "source": [
        "from keras import layers\n",
        "from keras import models"
      ],
      "execution_count": 0,
      "outputs": []
    },
    {
      "metadata": {
        "id": "DtihVmdhIaOb",
        "colab_type": "code",
        "colab": {}
      },
      "cell_type": "code",
      "source": [
        "from keras.applications import ResNet50\n",
        "\n",
        "conv_base = ResNet50(weights='imagenet',\n",
        "                  include_top=False,\n",
        "                  input_shape=(SHAPE))"
      ],
      "execution_count": 0,
      "outputs": []
    },
    {
      "metadata": {
        "id": "AhsN5gT2IcDt",
        "colab_type": "code",
        "colab": {
          "base_uri": "https://localhost:8080/",
          "height": 272
        },
        "outputId": "91f0b31a-41b7-406b-e85b-044d5c53d31b"
      },
      "cell_type": "code",
      "source": [
        "from keras import models\n",
        "from keras import layers\n",
        "\n",
        "model = models.Sequential()\n",
        "model.add(conv_base)\n",
        "model.add(layers.Flatten())\n",
        "model.add(layers.Dense(256, activation='relu'))\n",
        "model.add(layers.Dense(3, activation='softmax'))\n",
        "conv_base.trainable = False\n",
        "model.summary()"
      ],
      "execution_count": 28,
      "outputs": [
        {
          "output_type": "stream",
          "text": [
            "_________________________________________________________________\n",
            "Layer (type)                 Output Shape              Param #   \n",
            "=================================================================\n",
            "resnet50 (Model)             (None, 1, 1, 2048)        23587712  \n",
            "_________________________________________________________________\n",
            "flatten_3 (Flatten)          (None, 2048)              0         \n",
            "_________________________________________________________________\n",
            "dense_5 (Dense)              (None, 256)               524544    \n",
            "_________________________________________________________________\n",
            "dense_6 (Dense)              (None, 3)                 771       \n",
            "=================================================================\n",
            "Total params: 24,113,027\n",
            "Trainable params: 525,315\n",
            "Non-trainable params: 23,587,712\n",
            "_________________________________________________________________\n"
          ],
          "name": "stdout"
        }
      ]
    },
    {
      "metadata": {
        "id": "D6fL8DCOJCi6",
        "colab_type": "code",
        "colab": {}
      },
      "cell_type": "code",
      "source": [
        "from keras.preprocessing.image import ImageDataGenerator\n",
        "from keras import optimizers\n",
        "\n",
        "train_datagen = ImageDataGenerator(\n",
        "      rescale=1./255,\n",
        "      rotation_range=40,\n",
        "      width_shift_range=0.2,\n",
        "      height_shift_range=0.2,\n",
        "      shear_range=0.2,\n",
        "      zoom_range=0.2,\n",
        "      horizontal_flip=False,\n",
        "      fill_mode='nearest')"
      ],
      "execution_count": 0,
      "outputs": []
    },
    {
      "metadata": {
        "id": "Y0E0RvfVJcoL",
        "colab_type": "code",
        "colab": {
          "base_uri": "https://localhost:8080/",
          "height": 51
        },
        "outputId": "aea3c03c-d1e4-48f5-c516-623670ae549f"
      },
      "cell_type": "code",
      "source": [
        "test_datagen = ImageDataGenerator(rescale=1./255)                \n",
        "\n",
        "train_generator = train_datagen.flow_from_directory(\n",
        "        train_dir,                                               \n",
        "        target_size=(HEIGHT, WIDTH),                                  \n",
        "        batch_size=20,\n",
        "        class_mode='categorical')                                     \n",
        "\n",
        "validation_generator = test_datagen.flow_from_directory(\n",
        "        val_dir,\n",
        "        target_size=(HEIGHT, WIDTH),\n",
        "        batch_size=20,\n",
        "        class_mode='categorical')\n",
        "\n",
        "model.compile(loss='categorical_crossentropy',\n",
        "              optimizer=optimizers.RMSprop(lr=2e-5),\n",
        "              metrics=['acc'])"
      ],
      "execution_count": 30,
      "outputs": [
        {
          "output_type": "stream",
          "text": [
            "Found 483 images belonging to 3 classes.\n",
            "Found 123 images belonging to 3 classes.\n"
          ],
          "name": "stdout"
        }
      ]
    },
    {
      "metadata": {
        "id": "2B9v70s6Jmmx",
        "colab_type": "code",
        "colab": {
          "base_uri": "https://localhost:8080/",
          "height": 1037
        },
        "outputId": "9cd2c9fe-eba6-4e5e-875a-9065781a1f07"
      },
      "cell_type": "code",
      "source": [
        "history = model.fit_generator(\n",
        "      train_generator,\n",
        "      steps_per_epoch=100,\n",
        "      epochs=30,\n",
        "      validation_data=validation_generator,\n",
        "      validation_steps=50)"
      ],
      "execution_count": 31,
      "outputs": [
        {
          "output_type": "stream",
          "text": [
            "Epoch 1/30\n",
            "100/100 [==============================] - 56s 561ms/step - loss: 0.4123 - acc: 0.8877 - val_loss: 0.6514 - val_acc: 0.8956\n",
            "Epoch 2/30\n",
            "100/100 [==============================] - 48s 483ms/step - loss: 0.3627 - acc: 0.8976 - val_loss: 0.5834 - val_acc: 0.8933\n",
            "Epoch 3/30\n",
            "100/100 [==============================] - 48s 483ms/step - loss: 0.3179 - acc: 0.9004 - val_loss: 0.5623 - val_acc: 0.8944\n",
            "Epoch 4/30\n",
            "100/100 [==============================] - 49s 486ms/step - loss: 0.3007 - acc: 0.9004 - val_loss: 0.5441 - val_acc: 0.8956\n",
            "Epoch 5/30\n",
            "100/100 [==============================] - 48s 484ms/step - loss: 0.2693 - acc: 0.9077 - val_loss: 0.5434 - val_acc: 0.8922\n",
            "Epoch 6/30\n",
            "100/100 [==============================] - 48s 482ms/step - loss: 0.2589 - acc: 0.9087 - val_loss: 0.5533 - val_acc: 0.8933\n",
            "Epoch 7/30\n",
            "100/100 [==============================] - 49s 485ms/step - loss: 0.2470 - acc: 0.9126 - val_loss: 0.5673 - val_acc: 0.8933\n",
            "Epoch 8/30\n",
            "100/100 [==============================] - 49s 486ms/step - loss: 0.2320 - acc: 0.9187 - val_loss: 0.5800 - val_acc: 0.8933\n",
            "Epoch 9/30\n",
            "100/100 [==============================] - 48s 483ms/step - loss: 0.2230 - acc: 0.9212 - val_loss: 0.5584 - val_acc: 0.8944\n",
            "Epoch 10/30\n",
            "100/100 [==============================] - 48s 480ms/step - loss: 0.2172 - acc: 0.9239 - val_loss: 0.5565 - val_acc: 0.8956\n",
            "Epoch 11/30\n",
            "100/100 [==============================] - 48s 482ms/step - loss: 0.2013 - acc: 0.9282 - val_loss: 0.5853 - val_acc: 0.8944\n",
            "Epoch 12/30\n",
            "100/100 [==============================] - 49s 490ms/step - loss: 0.1944 - acc: 0.9277 - val_loss: 0.6330 - val_acc: 0.8944\n",
            "Epoch 13/30\n",
            "100/100 [==============================] - 48s 482ms/step - loss: 0.1808 - acc: 0.9370 - val_loss: 0.5828 - val_acc: 0.8944\n",
            "Epoch 14/30\n",
            "100/100 [==============================] - 49s 487ms/step - loss: 0.1884 - acc: 0.9327 - val_loss: 0.6199 - val_acc: 0.8967\n",
            "Epoch 15/30\n",
            "100/100 [==============================] - 49s 489ms/step - loss: 0.1736 - acc: 0.9405 - val_loss: 0.6175 - val_acc: 0.8944\n",
            "Epoch 16/30\n",
            "100/100 [==============================] - 49s 486ms/step - loss: 0.1683 - acc: 0.9342 - val_loss: 0.6349 - val_acc: 0.8967\n",
            "Epoch 17/30\n",
            "100/100 [==============================] - 48s 485ms/step - loss: 0.1663 - acc: 0.9450 - val_loss: 0.6284 - val_acc: 0.8922\n",
            "Epoch 18/30\n",
            "100/100 [==============================] - 48s 483ms/step - loss: 0.1734 - acc: 0.9344 - val_loss: 0.6744 - val_acc: 0.8944\n",
            "Epoch 19/30\n",
            "100/100 [==============================] - 48s 482ms/step - loss: 0.1607 - acc: 0.9415 - val_loss: 0.6388 - val_acc: 0.8956\n",
            "Epoch 20/30\n",
            "100/100 [==============================] - 49s 489ms/step - loss: 0.1637 - acc: 0.9397 - val_loss: 0.6444 - val_acc: 0.8944\n",
            "Epoch 21/30\n",
            "100/100 [==============================] - 48s 483ms/step - loss: 0.1475 - acc: 0.9432 - val_loss: 0.6271 - val_acc: 0.8922\n",
            "Epoch 22/30\n",
            "100/100 [==============================] - 49s 486ms/step - loss: 0.1445 - acc: 0.9475 - val_loss: 0.6096 - val_acc: 0.8956\n",
            "Epoch 23/30\n",
            "100/100 [==============================] - 49s 487ms/step - loss: 0.1570 - acc: 0.9439 - val_loss: 0.6374 - val_acc: 0.8933\n",
            "Epoch 24/30\n",
            "100/100 [==============================] - 48s 484ms/step - loss: 0.1491 - acc: 0.9417 - val_loss: 0.6161 - val_acc: 0.8956\n",
            "Epoch 25/30\n",
            "100/100 [==============================] - 48s 484ms/step - loss: 0.1748 - acc: 0.9376 - val_loss: 0.6135 - val_acc: 0.8922\n",
            "Epoch 26/30\n",
            "100/100 [==============================] - 49s 487ms/step - loss: 0.1415 - acc: 0.9482 - val_loss: 0.6475 - val_acc: 0.8944\n",
            "Epoch 27/30\n",
            "100/100 [==============================] - 48s 482ms/step - loss: 0.1390 - acc: 0.9545 - val_loss: 0.6361 - val_acc: 0.8933\n",
            "Epoch 28/30\n",
            "100/100 [==============================] - 49s 489ms/step - loss: 0.1365 - acc: 0.9497 - val_loss: 0.6456 - val_acc: 0.8933\n",
            "Epoch 29/30\n",
            "100/100 [==============================] - 48s 485ms/step - loss: 0.1363 - acc: 0.9472 - val_loss: 0.6445 - val_acc: 0.8967\n",
            "Epoch 30/30\n",
            "100/100 [==============================] - 48s 485ms/step - loss: 0.1311 - acc: 0.9490 - val_loss: 0.6717 - val_acc: 0.8944\n"
          ],
          "name": "stdout"
        }
      ]
    },
    {
      "metadata": {
        "id": "sPu5BzfYJuUc",
        "colab_type": "code",
        "colab": {
          "base_uri": "https://localhost:8080/",
          "height": 707
        },
        "outputId": "517a752f-7331-42b0-c8c7-039259399686"
      },
      "cell_type": "code",
      "source": [
        "import matplotlib.pyplot as plt\n",
        "acc = history.history['acc']\n",
        "val_acc = history.history['val_acc']\n",
        "loss = history.history['loss']\n",
        "val_loss = history.history['val_loss']\n",
        "\n",
        "epochs = range(1, len(acc) + 1)\n",
        "\n",
        "plt.plot(epochs, acc, 'bo', label='Training acc')\n",
        "plt.plot(epochs, val_acc, 'b', label='Validation acc')\n",
        "plt.title('Training and validation accuracy')\n",
        "plt.legend()\n",
        "\n",
        "plt.figure()\n",
        "\n",
        "plt.plot(epochs, loss, 'bo', label='Training loss')\n",
        "plt.plot(epochs, val_loss, 'b', label='Validation loss')\n",
        "plt.title('Training and validation loss')\n",
        "plt.legend()\n",
        "\n",
        "plt.show()"
      ],
      "execution_count": 32,
      "outputs": [
        {
          "output_type": "display_data",
          "data": {
            "image/png": "[encoded data removed]",
            "text/plain": [
              "<matplotlib.figure.Figure at 0x7fe4192c4390>"
            ]
          },
          "metadata": {
            "tags": []
          }
        },
        {
          "output_type": "display_data",
          "data": {
            "image/png": "[encoded data removed]",
            "text/plain": [
              "<matplotlib.figure.Figure at 0x7fe419337eb8>"
            ]
          },
          "metadata": {
            "tags": []
          }
        }
      ]
    },
    {
      "metadata": {
        "id": "QCulTyuGN7Zw",
        "colab_type": "code",
        "colab": {}
      },
      "cell_type": "code",
      "source": [
        ""
      ],
      "execution_count": 0,
      "outputs": []
    }
  ]
}