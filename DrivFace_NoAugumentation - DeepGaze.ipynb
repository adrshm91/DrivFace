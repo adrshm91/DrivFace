{
  "nbformat": 4,
  "nbformat_minor": 0,
  "metadata": {
    "colab": {
      "name": "DrivFace-NoAugumentation.ipynb",
      "version": "0.3.2",
      "provenance": [],
      "include_colab_link": true
    },
    "kernelspec": {
      "name": "python2",
      "display_name": "Python 2"
    },
    "accelerator": "GPU"
  },
  "cells": [
    {
      "cell_type": "markdown",
      "metadata": {
        "id": "view-in-github",
        "colab_type": "text"
      },
      "source": [
        "[View in Colaboratory](https://colab.research.google.com/github/adrshm91/DrivFace/blob/master/DrivFace_NoAugumentation%20-%20DeepGaze.ipynb)"
      ]
    },
    {
      "metadata": {
        "id": "jMPa4djlqQMY",
        "colab_type": "code",
        "colab": {}
      },
      "cell_type": "code",
      "source": [
        "import wget\n",
        "import os\n",
        "from zipfile import PyZipFile\n",
        "import shutil\n",
        "import glob\n",
        "import pandas as pd\n",
        "temp_dir = 'data/temp'\n",
        "orig_dir = 'data/images'\n",
        "train_dir = 'data/train'\n",
        "val_dir = 'data/val'\n",
        "url = 'https://archive.ics.uci.edu/ml/machine-learning-databases/00378/DrivFace.zip'\n",
        "import tensorflow as tf\n",
        "from keras.backend.tensorflow_backend import set_session\n",
        "config = tf.ConfigProto()\n",
        "config.gpu_options.allow_growth = True  # dynamically grow the memory used on the GPU\n",
        "config.log_device_placement = True  # to log device placement (on which device the operation ran)\n",
        "                                    # (nothing gets printed in Jupyter, only if you run it standalone)"
      ],
      "execution_count": 0,
      "outputs": []
    },
    {
      "metadata": {
        "id": "P6lTfAQaqVuK",
        "colab_type": "code",
        "colab": {}
      },
      "cell_type": "code",
      "source": [
        "def load_dataset():\n",
        "  if not os.path.exists(orig_dir):\n",
        "    \n",
        "    # download the dataset\n",
        "    \n",
        "    os.makedirs(temp_dir)\n",
        "    os.makedirs(orig_dir)\n",
        "    print(\"Downloading dataset to \"+ temp_dir)\n",
        "    file = wget.download(url, out=temp_dir)\n",
        "    print(\"\\nUnzipping the files..\")\n",
        "    pzf = PyZipFile(file)\n",
        "    pzf.extractall(temp_dir)\n",
        "    pzf = PyZipFile(temp_dir+'/DrivFace/DrivImages.zip')\n",
        "    pzf.extractall(temp_dir)\n",
        "    print(\"Moving files to \"+orig_dir)\n",
        "    for file in os.listdir(temp_dir+'/DrivImages'):\n",
        "      shutil.move(temp_dir+'/DrivImages/'+file,orig_dir+'/'+file)\n",
        "    shutil.move(temp_dir+'/DrivFace/drivPoints.txt',orig_dir+'/drivPoints.txt')\n",
        "    print(\"Deleting temporary directory \"+ temp_dir)\n",
        "    shutil.rmtree(temp_dir)"
      ],
      "execution_count": 0,
      "outputs": []
    },
    {
      "metadata": {
        "id": "j1A90kRs0cPC",
        "colab_type": "code",
        "colab": {}
      },
      "cell_type": "code",
      "source": [
        "def split_dataset(orig_dir, train_dir, val_dir, split_ratio):\n",
        "  \n",
        "  if not os.path.exists(train_dir):\n",
        "    os.makedirs(train_dir)\n",
        "    os.makedirs(val_dir)\n",
        "    print(\"Creating train directories for each class\")\n",
        "    train_ff_dir = os.path.join(train_dir, 'ff')\n",
        "    os.makedirs(train_ff_dir)\n",
        "    train_ll_dir = os.path.join(train_dir, 'll')\n",
        "    os.makedirs(train_ll_dir)\n",
        "    train_lr_dir = os.path.join(train_dir, 'lr')\n",
        "    os.makedirs(train_lr_dir)\n",
        "\n",
        "    print(\"Creating val directories for each class\")\n",
        "    val_ff_dir = os.path.join(val_dir, 'ff')\n",
        "    os.makedirs(val_ff_dir)\n",
        "    val_ll_dir = os.path.join(val_dir, 'll')\n",
        "    os.makedirs(val_ll_dir)\n",
        "    val_lr_dir = os.path.join(val_dir, 'lr')\n",
        "    os.makedirs(val_lr_dir)\n",
        "\n",
        "    files = pd.read_csv(orig_dir+'/drivPoints.txt')['fileName'].tolist()\n",
        "    files_ff = [file for file in files if 'f' in file]\n",
        "    files_ll = [file for file in files if 'll' in file]\n",
        "    files_lr = [file for file in files if 'lr' in file]\n",
        "    i = 0\n",
        "    for fname in files_ff:\n",
        "      src = os.path.join(orig_dir, fname + '.jpg')                        \n",
        "      dst_train = os.path.join(train_ff_dir, fname + '.jpg')\n",
        "      dst_val = os.path.join(val_ff_dir, fname + '.jpg')\n",
        "      i += 1\n",
        "      if i < len(files_ff)*split_ratio:\n",
        "        shutil.move(src, dst_train)\n",
        "      else:\n",
        "        shutil.move(src, dst_val)\n",
        "    i = 0\n",
        "    for fname in files_ll:\n",
        "      src = os.path.join(orig_dir, fname + '.jpg')                        \n",
        "      dst_train = os.path.join(train_ll_dir, fname + '.jpg')\n",
        "      dst_val = os.path.join(val_ll_dir, fname + '.jpg')\n",
        "      i += 1\n",
        "      if i < len(files_ll)*split_ratio:\n",
        "        shutil.move(src, dst_train)\n",
        "      else:\n",
        "        shutil.move(src, dst_val)\n",
        "    i = 0\n",
        "    for fname in files_lr:\n",
        "      src = os.path.join(orig_dir, fname + '.jpg')                        \n",
        "      dst_train = os.path.join(train_lr_dir, fname + '.jpg') \n",
        "      dst_val = os.path.join(val_lr_dir, fname + '.jpg')\n",
        "      i += 1\n",
        "      if i < len(files_lr)*split_ratio:\n",
        "        shutil.move(src, dst_train)\n",
        "      else:\n",
        "        shutil.move(src, dst_val)"
      ],
      "execution_count": 0,
      "outputs": []
    },
    {
      "metadata": {
        "id": "Edp1_pj5qXtn",
        "colab_type": "code",
        "colab": {}
      },
      "cell_type": "code",
      "source": [
        "load_dataset()"
      ],
      "execution_count": 0,
      "outputs": []
    },
    {
      "metadata": {
        "id": "IUwWQm4U4AzJ",
        "colab_type": "code",
        "colab": {}
      },
      "cell_type": "code",
      "source": [
        "split_dataset(orig_dir, train_dir, val_dir, split_ratio = 0.8)"
      ],
      "execution_count": 0,
      "outputs": []
    },
    {
      "metadata": {
        "id": "0m1ZrdBNqZp3",
        "colab_type": "code",
        "colab": {}
      },
      "cell_type": "code",
      "source": [
        "from keras import layers\n",
        "from keras import models"
      ],
      "execution_count": 0,
      "outputs": []
    },
    {
      "metadata": {
        "id": "8om4n1n3qdNI",
        "colab_type": "code",
        "colab": {}
      },
      "cell_type": "code",
      "source": [
        "model = models.Sequential()\n",
        "model.add(layers.Conv2D(64, (3, 3), activation='relu', padding='same',\n",
        "                        input_shape=(64, 64, 3)))\n",
        "model.add(layers.MaxPooling2D((2, 2)))\n",
        "model.add(layers.Conv2D(128, (3, 3),padding='same', activation='relu'))\n",
        "model.add(layers.MaxPooling2D((2, 2)))\n",
        "model.add(layers.Conv2D(256, (3, 3),padding='same', activation='relu'))\n",
        "model.add(layers.MaxPooling2D((2, 2)))\n",
        "model.add(layers.Flatten())\n",
        "model.add(layers.Dense(256, activation='relu'))\n",
        "model.add(layers.Dense(3, activation='softmax'))"
      ],
      "execution_count": 0,
      "outputs": []
    },
    {
      "metadata": {
        "id": "SRQJljc9qo2i",
        "colab_type": "code",
        "colab": {
          "base_uri": "https://localhost:8080/",
          "height": 998
        },
        "outputId": "b33b14af-72c7-4b72-e533-d53fc3c1979f"
      },
      "cell_type": "code",
      "source": [
        "model.summary()\n",
        "from keras.utils.vis_utils import plot_model\n",
        "plot_model(model, to_file='model_plot_DeepGaze.png', show_shapes=True, show_layer_names=True)"
      ],
      "execution_count": 18,
      "outputs": [
        {
          "output_type": "stream",
          "text": [
            "_________________________________________________________________\n",
            "Layer (type)                 Output Shape              Param #   \n",
            "=================================================================\n",
            "conv2d_4 (Conv2D)            (None, 64, 64, 64)        1792      \n",
            "_________________________________________________________________\n",
            "max_pooling2d_4 (MaxPooling2 (None, 32, 32, 64)        0         \n",
            "_________________________________________________________________\n",
            "conv2d_5 (Conv2D)            (None, 32, 32, 128)       73856     \n",
            "_________________________________________________________________\n",
            "max_pooling2d_5 (MaxPooling2 (None, 16, 16, 128)       0         \n",
            "_________________________________________________________________\n",
            "conv2d_6 (Conv2D)            (None, 16, 16, 256)       295168    \n",
            "_________________________________________________________________\n",
            "max_pooling2d_6 (MaxPooling2 (None, 8, 8, 256)         0         \n",
            "_________________________________________________________________\n",
            "flatten_2 (Flatten)          (None, 16384)             0         \n",
            "_________________________________________________________________\n",
            "dense_3 (Dense)              (None, 256)               4194560   \n",
            "_________________________________________________________________\n",
            "dense_4 (Dense)              (None, 3)                 771       \n",
            "=================================================================\n",
            "Total params: 4,566,147\n",
            "Trainable params: 4,566,147\n",
            "Non-trainable params: 0\n",
            "_________________________________________________________________\n"
          ],
          "name": "stdout"
        },
        {
          "output_type": "error",
          "ename": "OSError",
          "evalue": "ignored",
          "traceback": [
            "\u001b[0;31m\u001b[0m",
            "\u001b[0;31mOSError\u001b[0mTraceback (most recent call last)",
            "\u001b[0;32m<ipython-input-18-7c61b73c4ca7>\u001b[0m in \u001b[0;36m<module>\u001b[0;34m()\u001b[0m\n\u001b[1;32m      1\u001b[0m \u001b[0mmodel\u001b[0m\u001b[0;34m.\u001b[0m\u001b[0msummary\u001b[0m\u001b[0;34m(\u001b[0m\u001b[0;34m)\u001b[0m\u001b[0;34m\u001b[0m\u001b[0m\n\u001b[1;32m      2\u001b[0m \u001b[0;32mfrom\u001b[0m \u001b[0mkeras\u001b[0m\u001b[0;34m.\u001b[0m\u001b[0mutils\u001b[0m\u001b[0;34m.\u001b[0m\u001b[0mvis_utils\u001b[0m \u001b[0;32mimport\u001b[0m \u001b[0mplot_model\u001b[0m\u001b[0;34m\u001b[0m\u001b[0m\n\u001b[0;32m----> 3\u001b[0;31m \u001b[0mplot_model\u001b[0m\u001b[0;34m(\u001b[0m\u001b[0mmodel\u001b[0m\u001b[0;34m,\u001b[0m \u001b[0mto_file\u001b[0m\u001b[0;34m=\u001b[0m\u001b[0;34m'model_plot_DeepGaze.png'\u001b[0m\u001b[0;34m,\u001b[0m \u001b[0mshow_shapes\u001b[0m\u001b[0;34m=\u001b[0m\u001b[0mTrue\u001b[0m\u001b[0;34m,\u001b[0m \u001b[0mshow_layer_names\u001b[0m\u001b[0;34m=\u001b[0m\u001b[0mTrue\u001b[0m\u001b[0;34m)\u001b[0m\u001b[0;34m\u001b[0m\u001b[0m\n\u001b[0m",
            "\u001b[0;32m/usr/local/lib/python2.7/dist-packages/keras/utils/vis_utils.pyc\u001b[0m in \u001b[0;36mplot_model\u001b[0;34m(model, to_file, show_shapes, show_layer_names, rankdir)\u001b[0m\n\u001b[1;32m    132\u001b[0m             \u001b[0;34m'LR'\u001b[0m \u001b[0mcreates\u001b[0m \u001b[0ma\u001b[0m \u001b[0mhorizontal\u001b[0m \u001b[0mplot\u001b[0m\u001b[0;34m.\u001b[0m\u001b[0;34m\u001b[0m\u001b[0m\n\u001b[1;32m    133\u001b[0m     \"\"\"\n\u001b[0;32m--> 134\u001b[0;31m     \u001b[0mdot\u001b[0m \u001b[0;34m=\u001b[0m \u001b[0mmodel_to_dot\u001b[0m\u001b[0;34m(\u001b[0m\u001b[0mmodel\u001b[0m\u001b[0;34m,\u001b[0m \u001b[0mshow_shapes\u001b[0m\u001b[0;34m,\u001b[0m \u001b[0mshow_layer_names\u001b[0m\u001b[0;34m,\u001b[0m \u001b[0mrankdir\u001b[0m\u001b[0;34m)\u001b[0m\u001b[0;34m\u001b[0m\u001b[0m\n\u001b[0m\u001b[1;32m    135\u001b[0m     \u001b[0m_\u001b[0m\u001b[0;34m,\u001b[0m \u001b[0mextension\u001b[0m \u001b[0;34m=\u001b[0m \u001b[0mos\u001b[0m\u001b[0;34m.\u001b[0m\u001b[0mpath\u001b[0m\u001b[0;34m.\u001b[0m\u001b[0msplitext\u001b[0m\u001b[0;34m(\u001b[0m\u001b[0mto_file\u001b[0m\u001b[0;34m)\u001b[0m\u001b[0;34m\u001b[0m\u001b[0m\n\u001b[1;32m    136\u001b[0m     \u001b[0;32mif\u001b[0m \u001b[0;32mnot\u001b[0m \u001b[0mextension\u001b[0m\u001b[0;34m:\u001b[0m\u001b[0;34m\u001b[0m\u001b[0m\n",
            "\u001b[0;32m/usr/local/lib/python2.7/dist-packages/keras/utils/vis_utils.pyc\u001b[0m in \u001b[0;36mmodel_to_dot\u001b[0;34m(model, show_shapes, show_layer_names, rankdir)\u001b[0m\n\u001b[1;32m     53\u001b[0m     \u001b[0;32mfrom\u001b[0m \u001b[0;34m.\u001b[0m\u001b[0;34m.\u001b[0m\u001b[0mmodels\u001b[0m \u001b[0;32mimport\u001b[0m \u001b[0mSequential\u001b[0m\u001b[0;34m\u001b[0m\u001b[0m\n\u001b[1;32m     54\u001b[0m \u001b[0;34m\u001b[0m\u001b[0m\n\u001b[0;32m---> 55\u001b[0;31m     \u001b[0m_check_pydot\u001b[0m\u001b[0;34m(\u001b[0m\u001b[0;34m)\u001b[0m\u001b[0;34m\u001b[0m\u001b[0m\n\u001b[0m\u001b[1;32m     56\u001b[0m     \u001b[0mdot\u001b[0m \u001b[0;34m=\u001b[0m \u001b[0mpydot\u001b[0m\u001b[0;34m.\u001b[0m\u001b[0mDot\u001b[0m\u001b[0;34m(\u001b[0m\u001b[0;34m)\u001b[0m\u001b[0;34m\u001b[0m\u001b[0m\n\u001b[1;32m     57\u001b[0m     \u001b[0mdot\u001b[0m\u001b[0;34m.\u001b[0m\u001b[0mset\u001b[0m\u001b[0;34m(\u001b[0m\u001b[0;34m'rankdir'\u001b[0m\u001b[0;34m,\u001b[0m \u001b[0mrankdir\u001b[0m\u001b[0;34m)\u001b[0m\u001b[0;34m\u001b[0m\u001b[0m\n",
            "\u001b[0;32m/usr/local/lib/python2.7/dist-packages/keras/utils/vis_utils.pyc\u001b[0m in \u001b[0;36m_check_pydot\u001b[0;34m()\u001b[0m\n\u001b[1;32m     27\u001b[0m     \u001b[0;32mexcept\u001b[0m \u001b[0mOSError\u001b[0m\u001b[0;34m:\u001b[0m\u001b[0;34m\u001b[0m\u001b[0m\n\u001b[1;32m     28\u001b[0m         raise OSError(\n\u001b[0;32m---> 29\u001b[0;31m             \u001b[0;34m'`pydot` failed to call GraphViz.'\u001b[0m\u001b[0;34m\u001b[0m\u001b[0m\n\u001b[0m\u001b[1;32m     30\u001b[0m             \u001b[0;34m'Please install GraphViz (https://www.graphviz.org/) '\u001b[0m\u001b[0;34m\u001b[0m\u001b[0m\n\u001b[1;32m     31\u001b[0m             'and ensure that its executables are in the $PATH.')\n",
            "\u001b[0;31mOSError\u001b[0m: `pydot` failed to call GraphViz.Please install GraphViz (https://www.graphviz.org/) and ensure that its executables are in the $PATH."
          ]
        }
      ]
    },
    {
      "metadata": {
        "id": "vj_-107mqqbp",
        "colab_type": "code",
        "colab": {}
      },
      "cell_type": "code",
      "source": [
        "from keras import optimizers\n",
        "\n",
        "model.compile(loss='categorical_crossentropy',\n",
        "              optimizer=optimizers.RMSprop(lr=1e-4),\n",
        "              metrics=['acc'])"
      ],
      "execution_count": 0,
      "outputs": []
    },
    {
      "metadata": {
        "id": "cTg9-9w572hw",
        "colab_type": "code",
        "colab": {}
      },
      "cell_type": "code",
      "source": [
        "from keras.preprocessing.image import ImageDataGenerator"
      ],
      "execution_count": 0,
      "outputs": []
    },
    {
      "metadata": {
        "id": "lIADFJn49uya",
        "colab_type": "code",
        "colab": {
          "base_uri": "https://localhost:8080/",
          "height": 52
        },
        "outputId": "61e8a7b2-8214-40f0-e3bd-f0457ddde00e"
      },
      "cell_type": "code",
      "source": [
        "train_datagen = ImageDataGenerator(rescale=1./255)  \n",
        "test_datagen = ImageDataGenerator(rescale=1./255)\n",
        "train_generator = train_datagen.flow_from_directory(\n",
        "        train_dir,                                             \n",
        "        target_size=(64, 64),                                 \n",
        "        batch_size=20,\n",
        "    class_mode='categorical')                                   \n",
        "\n",
        "validation_generator = test_datagen.flow_from_directory(\n",
        "        val_dir,\n",
        "        target_size=(64, 64),\n",
        "        batch_size=20,\n",
        "        class_mode='categorical')"
      ],
      "execution_count": 21,
      "outputs": [
        {
          "output_type": "stream",
          "text": [
            "Found 483 images belonging to 3 classes.\n",
            "Found 123 images belonging to 3 classes.\n"
          ],
          "name": "stdout"
        }
      ]
    },
    {
      "metadata": {
        "id": "QJ6CTczT94Yf",
        "colab_type": "code",
        "colab": {
          "base_uri": "https://localhost:8080/",
          "height": 1057
        },
        "outputId": "efc7b011-3be3-4f11-e292-59edc66cddff"
      },
      "cell_type": "code",
      "source": [
        "history = model.fit_generator(\n",
        "      train_generator,\n",
        "      steps_per_epoch=100,\n",
        "      epochs=30,\n",
        "      validation_data=validation_generator,\n",
        "      validation_steps=50)"
      ],
      "execution_count": 22,
      "outputs": [
        {
          "output_type": "stream",
          "text": [
            "Epoch 1/30\n",
            "100/100 [==============================] - 16s 165ms/step - loss: 0.3840 - acc: 0.8976 - val_loss: 0.4444 - val_acc: 0.8933\n",
            "Epoch 2/30\n",
            "100/100 [==============================] - 14s 143ms/step - loss: 0.2552 - acc: 0.9095 - val_loss: 0.5544 - val_acc: 0.9024\n",
            "Epoch 3/30\n",
            "100/100 [==============================] - 14s 144ms/step - loss: 0.2014 - acc: 0.9357 - val_loss: 0.8060 - val_acc: 0.6073\n",
            "Epoch 4/30\n",
            "100/100 [==============================] - 15s 146ms/step - loss: 0.1427 - acc: 0.9535 - val_loss: 1.2645 - val_acc: 0.4393\n",
            "Epoch 5/30\n",
            "100/100 [==============================] - 14s 143ms/step - loss: 0.1085 - acc: 0.9605 - val_loss: 0.9112 - val_acc: 0.7367\n",
            "Epoch 6/30\n",
            "100/100 [==============================] - 14s 143ms/step - loss: 0.0878 - acc: 0.9680 - val_loss: 1.2658 - val_acc: 0.5516\n",
            "Epoch 7/30\n",
            "100/100 [==============================] - 14s 141ms/step - loss: 0.0748 - acc: 0.9715 - val_loss: 1.4302 - val_acc: 0.5528\n",
            "Epoch 8/30\n",
            "100/100 [==============================] - 16s 156ms/step - loss: 0.0586 - acc: 0.9792 - val_loss: 1.1856 - val_acc: 0.6141\n",
            "Epoch 9/30\n",
            "100/100 [==============================] - 14s 144ms/step - loss: 0.0455 - acc: 0.9855 - val_loss: 1.0431 - val_acc: 0.6606\n",
            "Epoch 10/30\n",
            "100/100 [==============================] - 14s 143ms/step - loss: 0.0366 - acc: 0.9865 - val_loss: 1.4837 - val_acc: 0.6027\n",
            "Epoch 11/30\n",
            "100/100 [==============================] - 14s 145ms/step - loss: 0.0323 - acc: 0.9885 - val_loss: 1.5724 - val_acc: 0.6198\n",
            "Epoch 12/30\n",
            "100/100 [==============================] - 14s 143ms/step - loss: 0.0211 - acc: 0.9930 - val_loss: 1.7023 - val_acc: 0.5834\n",
            "Epoch 13/30\n",
            "100/100 [==============================] - 14s 144ms/step - loss: 0.0221 - acc: 0.9930 - val_loss: 1.8049 - val_acc: 0.6073\n",
            "Epoch 14/30\n",
            "100/100 [==============================] - 15s 147ms/step - loss: 0.0130 - acc: 0.9965 - val_loss: 1.6205 - val_acc: 0.6220\n",
            "Epoch 15/30\n",
            "100/100 [==============================] - 14s 144ms/step - loss: 0.0090 - acc: 0.9985 - val_loss: 2.2688 - val_acc: 0.5812\n",
            "Epoch 16/30\n",
            "100/100 [==============================] - 14s 143ms/step - loss: 0.0072 - acc: 0.9985 - val_loss: 2.1816 - val_acc: 0.5914\n",
            "Epoch 17/30\n",
            "100/100 [==============================] - 14s 144ms/step - loss: 0.0062 - acc: 0.9985 - val_loss: 2.2942 - val_acc: 0.5970\n",
            "Epoch 18/30\n",
            "100/100 [==============================] - 14s 145ms/step - loss: 0.0043 - acc: 0.9990 - val_loss: 2.0365 - val_acc: 0.6163\n",
            "Epoch 19/30\n",
            "100/100 [==============================] - 14s 142ms/step - loss: 0.0031 - acc: 0.9990 - val_loss: 1.8219 - val_acc: 0.6198\n",
            "Epoch 20/30\n",
            "100/100 [==============================] - 14s 142ms/step - loss: 0.0032 - acc: 0.9990 - val_loss: 2.6257 - val_acc: 0.5925\n",
            "Epoch 21/30\n",
            "100/100 [==============================] - 15s 145ms/step - loss: 0.0027 - acc: 0.9990 - val_loss: 2.3046 - val_acc: 0.6163\n",
            "Epoch 22/30\n",
            "100/100 [==============================] - 14s 144ms/step - loss: 7.6795e-04 - acc: 1.0000 - val_loss: 0.9890 - val_acc: 0.9024\n",
            "Epoch 23/30\n",
            "100/100 [==============================] - 14s 144ms/step - loss: 0.0013 - acc: 1.0000 - val_loss: 2.7313 - val_acc: 0.6005\n",
            "Epoch 24/30\n",
            "100/100 [==============================] - 14s 142ms/step - loss: 0.0014 - acc: 1.0000 - val_loss: 2.2853 - val_acc: 0.6186\n",
            "Epoch 25/30\n",
            "100/100 [==============================] - 14s 141ms/step - loss: 8.5910e-04 - acc: 0.9995 - val_loss: 1.3789 - val_acc: 0.7242\n",
            "Epoch 26/30\n",
            "100/100 [==============================] - 14s 141ms/step - loss: 0.0015 - acc: 0.9995 - val_loss: 2.1543 - val_acc: 0.6300\n",
            "Epoch 27/30\n",
            "100/100 [==============================] - 14s 144ms/step - loss: 3.6200e-04 - acc: 1.0000 - val_loss: 3.0835 - val_acc: 0.5982\n",
            "Epoch 28/30\n",
            "100/100 [==============================] - 14s 142ms/step - loss: 6.8313e-04 - acc: 0.9995 - val_loss: 2.6396 - val_acc: 0.6175\n",
            "Epoch 29/30\n",
            "100/100 [==============================] - 15s 151ms/step - loss: 0.0028 - acc: 0.9995 - val_loss: 2.5357 - val_acc: 0.6209\n",
            "Epoch 30/30\n",
            "100/100 [==============================] - 15s 150ms/step - loss: 0.0010 - acc: 0.9995 - val_loss: 2.8036 - val_acc: 0.6163\n"
          ],
          "name": "stdout"
        }
      ]
    },
    {
      "metadata": {
        "id": "clhZoIli992K",
        "colab_type": "code",
        "colab": {
          "base_uri": "https://localhost:8080/",
          "height": 708
        },
        "outputId": "f618d2f2-8e35-4090-8552-114c463d87d0"
      },
      "cell_type": "code",
      "source": [
        "import matplotlib.pyplot as plt\n",
        "\n",
        "acc = history.history['acc']\n",
        "val_acc = history.history['val_acc']\n",
        "loss = history.history['loss']\n",
        "val_loss = history.history['val_loss']\n",
        "plt.ylim(0,1)\n",
        "\n",
        "epochs = range(1, len(acc) + 1)\n",
        "\n",
        "plt.plot(epochs, acc, 'bo', label='Training acc')\n",
        "plt.plot(epochs, val_acc, 'b', label='Validation acc')\n",
        "plt.title('Training and validation accuracy')\n",
        "plt.legend()\n",
        "\n",
        "plt.figure()\n",
        "\n",
        "plt.plot(epochs, loss, 'bo', label='Training loss')\n",
        "plt.plot(epochs, val_loss, 'b', label='Validation loss')\n",
        "plt.title('Training and validation loss')\n",
        "plt.legend()\n",
        "\n",
        "plt.show()"
      ],
      "execution_count": 23,
      "outputs": [
        {
          "output_type": "display_data",
          "data": {
            "image/png": "[encoded data removed]",
            "text/plain": [
              "<matplotlib.figure.Figure at 0x7f5d4c60ae10>"
            ]
          },
          "metadata": {
            "tags": []
          }
        },
        {
          "output_type": "display_data",
          "data": {
            "image/png": "[encoded data removed]",
            "text/plain": [
              "<matplotlib.figure.Figure at 0x7f5d53b24e90>"
            ]
          },
          "metadata": {
            "tags": []
          }
        }
      ]
    },
    {
      "metadata": {
        "id": "NdygqiWu_tyn",
        "colab_type": "code",
        "colab": {}
      },
      "cell_type": "code",
      "source": [
        ""
      ],
      "execution_count": 0,
      "outputs": []
    }
  ]
}