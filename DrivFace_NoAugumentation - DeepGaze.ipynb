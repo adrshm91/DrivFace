{
 "cells": [
  {
   "cell_type": "markdown",
   "metadata": {
    "colab_type": "text",
    "id": "view-in-github"
   },
   "source": [
    "[View in Colaboratory](https://colab.research.google.com/github/adrshm91/DrivFace/blob/master/DrivFace_NoAugumentation.ipynb)"
   ]
  },
  {
   "cell_type": "code",
   "execution_count": 13,
   "metadata": {
    "colab": {},
    "colab_type": "code",
    "id": "jMPa4djlqQMY"
   },
   "outputs": [],
   "source": [
    "import wget\n",
    "import os\n",
    "from zipfile import PyZipFile\n",
    "import shutil\n",
    "import glob\n",
    "import pandas as pd\n",
    "temp_dir = 'data/temp'\n",
    "orig_dir = 'data/images'\n",
    "train_dir = 'data/train'\n",
    "val_dir = 'data/val'\n",
    "url = 'https://archive.ics.uci.edu/ml/machine-learning-databases/00378/DrivFace.zip'\n",
    "import tensorflow as tf\n",
    "from keras.backend.tensorflow_backend import set_session\n",
    "config = tf.ConfigProto()\n",
    "config.gpu_options.allow_growth = True  # dynamically grow the memory used on the GPU\n",
    "config.log_device_placement = True  # to log device placement (on which device the operation ran)\n",
    "                                    # (nothing gets printed in Jupyter, only if you run it standalone)"
   ]
  },
  {
   "cell_type": "code",
   "execution_count": 14,
   "metadata": {
    "colab": {},
    "colab_type": "code",
    "id": "P6lTfAQaqVuK"
   },
   "outputs": [],
   "source": [
    "def load_dataset():\n",
    "  if not os.path.exists(orig_dir):\n",
    "    \n",
    "    # download the dataset\n",
    "    \n",
    "    os.makedirs(temp_dir)\n",
    "    os.makedirs(orig_dir)\n",
    "    print(\"Downloading dataset to \"+ temp_dir)\n",
    "    file = wget.download(url, out=temp_dir)\n",
    "    print(\"\\nUnzipping the files..\")\n",
    "    pzf = PyZipFile(file)\n",
    "    pzf.extractall(temp_dir)\n",
    "    pzf = PyZipFile(temp_dir+'/DrivFace/DrivImages.zip')\n",
    "    pzf.extractall(temp_dir)\n",
    "    print(\"Moving files to \"+orig_dir)\n",
    "    for file in os.listdir(temp_dir+'/DrivImages'):\n",
    "      shutil.move(temp_dir+'/DrivImages/'+file,orig_dir+'/'+file)\n",
    "    shutil.move(temp_dir+'/DrivFace/drivPoints.txt',orig_dir+'/drivPoints.txt')\n",
    "    print(\"Deleting temporary directory \"+ temp_dir)\n",
    "    shutil.rmtree(temp_dir)"
   ]
  },
  {
   "cell_type": "code",
   "execution_count": 15,
   "metadata": {
    "colab": {},
    "colab_type": "code",
    "id": "j1A90kRs0cPC"
   },
   "outputs": [],
   "source": [
    "def split_dataset(orig_dir, train_dir, val_dir, split_ratio):\n",
    "  \n",
    "  if not os.path.exists(train_dir):\n",
    "    os.makedirs(train_dir)\n",
    "    os.makedirs(val_dir)\n",
    "    print(\"Creating train directories for each class\")\n",
    "    train_ff_dir = os.path.join(train_dir, 'ff')\n",
    "    os.makedirs(train_ff_dir)\n",
    "    train_ll_dir = os.path.join(train_dir, 'll')\n",
    "    os.makedirs(train_ll_dir)\n",
    "    train_lr_dir = os.path.join(train_dir, 'lr')\n",
    "    os.makedirs(train_lr_dir)\n",
    "\n",
    "    print(\"Creating val directories for each class\")\n",
    "    val_ff_dir = os.path.join(val_dir, 'ff')\n",
    "    os.makedirs(val_ff_dir)\n",
    "    val_ll_dir = os.path.join(val_dir, 'll')\n",
    "    os.makedirs(val_ll_dir)\n",
    "    val_lr_dir = os.path.join(val_dir, 'lr')\n",
    "    os.makedirs(val_lr_dir)\n",
    "\n",
    "    files = pd.read_csv(orig_dir+'/drivPoints.txt')['fileName'].tolist()\n",
    "    files_ff = [file for file in files if 'f' in file]\n",
    "    files_ll = [file for file in files if 'll' in file]\n",
    "    files_lr = [file for file in files if 'lr' in file]\n",
    "    i = 0\n",
    "    for fname in files_ff:\n",
    "      src = os.path.join(orig_dir, fname + '.jpg')                        \n",
    "      dst_train = os.path.join(train_ff_dir, fname + '.jpg')\n",
    "      dst_val = os.path.join(val_ff_dir, fname + '.jpg')\n",
    "      i += 1\n",
    "      if i < len(files_ff)*split_ratio:\n",
    "        shutil.move(src, dst_train)\n",
    "      else:\n",
    "        shutil.move(src, dst_val)\n",
    "    i = 0\n",
    "    for fname in files_ll:\n",
    "      src = os.path.join(orig_dir, fname + '.jpg')                        \n",
    "      dst_train = os.path.join(train_ll_dir, fname + '.jpg')\n",
    "      dst_val = os.path.join(val_ll_dir, fname + '.jpg')\n",
    "      i += 1\n",
    "      if i < len(files_ll)*split_ratio:\n",
    "        shutil.move(src, dst_train)\n",
    "      else:\n",
    "        shutil.move(src, dst_val)\n",
    "    i = 0\n",
    "    for fname in files_lr:\n",
    "      src = os.path.join(orig_dir, fname + '.jpg')                        \n",
    "      dst_train = os.path.join(train_lr_dir, fname + '.jpg') \n",
    "      dst_val = os.path.join(val_lr_dir, fname + '.jpg')\n",
    "      i += 1\n",
    "      if i < len(files_lr)*split_ratio:\n",
    "        shutil.move(src, dst_train)\n",
    "      else:\n",
    "        shutil.move(src, dst_val)"
   ]
  },
  {
   "cell_type": "code",
   "execution_count": 16,
   "metadata": {
    "colab": {},
    "colab_type": "code",
    "id": "Edp1_pj5qXtn"
   },
   "outputs": [],
   "source": [
    "load_dataset()"
   ]
  },
  {
   "cell_type": "code",
   "execution_count": 17,
   "metadata": {
    "colab": {},
    "colab_type": "code",
    "id": "IUwWQm4U4AzJ"
   },
   "outputs": [],
   "source": [
    "split_dataset(orig_dir, train_dir, val_dir, split_ratio = 0.8)"
   ]
  },
  {
   "cell_type": "code",
   "execution_count": 18,
   "metadata": {
    "colab": {
     "base_uri": "https://localhost:8080/",
     "height": 34
    },
    "colab_type": "code",
    "id": "0m1ZrdBNqZp3",
    "outputId": "4e14f344-dda2-4506-b2e0-10840f93169c"
   },
   "outputs": [],
   "source": [
    "from keras import layers\n",
    "from keras import models"
   ]
  },
  {
   "cell_type": "code",
   "execution_count": 19,
   "metadata": {
    "colab": {},
    "colab_type": "code",
    "id": "8om4n1n3qdNI"
   },
   "outputs": [],
   "source": [
    "model = models.Sequential()\n",
    "model.add(layers.Conv2D(64, (3, 3), activation='relu', padding='same',\n",
    "                        input_shape=(64, 64, 3)))\n",
    "model.add(layers.MaxPooling2D((2, 2)))\n",
    "model.add(layers.Conv2D(128, (3, 3),padding='same', activation='relu'))\n",
    "model.add(layers.MaxPooling2D((2, 2)))\n",
    "model.add(layers.Conv2D(256, (3, 3),padding='same', activation='relu'))\n",
    "model.add(layers.MaxPooling2D((2, 2)))\n",
    "model.add(layers.Flatten())\n",
    "model.add(layers.Dense(256, activation='relu'))\n",
    "model.add(layers.Dense(3, activation='softmax'))"
   ]
  },
  {
   "cell_type": "code",
   "execution_count": 20,
   "metadata": {
    "colab": {
     "base_uri": "https://localhost:8080/",
     "height": 442
    },
    "colab_type": "code",
    "id": "SRQJljc9qo2i",
    "outputId": "062de1e0-2287-4e10-b245-91481b34a3c0"
   },
   "outputs": [
    {
     "name": "stdout",
     "output_type": "stream",
     "text": [
      "_________________________________________________________________\n",
      "Layer (type)                 Output Shape              Param #   \n",
      "=================================================================\n",
      "conv2d_4 (Conv2D)            (None, 64, 64, 64)        1792      \n",
      "_________________________________________________________________\n",
      "max_pooling2d_4 (MaxPooling2 (None, 32, 32, 64)        0         \n",
      "_________________________________________________________________\n",
      "conv2d_5 (Conv2D)            (None, 32, 32, 128)       73856     \n",
      "_________________________________________________________________\n",
      "max_pooling2d_5 (MaxPooling2 (None, 16, 16, 128)       0         \n",
      "_________________________________________________________________\n",
      "conv2d_6 (Conv2D)            (None, 16, 16, 256)       295168    \n",
      "_________________________________________________________________\n",
      "max_pooling2d_6 (MaxPooling2 (None, 8, 8, 256)         0         \n",
      "_________________________________________________________________\n",
      "flatten_2 (Flatten)          (None, 16384)             0         \n",
      "_________________________________________________________________\n",
      "dense_3 (Dense)              (None, 256)               4194560   \n",
      "_________________________________________________________________\n",
      "dense_4 (Dense)              (None, 3)                 771       \n",
      "=================================================================\n",
      "Total params: 4,566,147\n",
      "Trainable params: 4,566,147\n",
      "Non-trainable params: 0\n",
      "_________________________________________________________________\n"
     ]
    }
   ],
   "source": [
    "model.summary()\n",
    "from keras.utils.vis_utils import plot_model\n",
    "plot_model(model, to_file='model_plot_DeepGaze.png', show_shapes=True, show_layer_names=True)"
   ]
  },
  {
   "cell_type": "code",
   "execution_count": 21,
   "metadata": {
    "colab": {},
    "colab_type": "code",
    "id": "vj_-107mqqbp"
   },
   "outputs": [],
   "source": [
    "from keras import optimizers\n",
    "\n",
    "model.compile(loss='categorical_crossentropy',\n",
    "              optimizer=optimizers.RMSprop(lr=1e-4),\n",
    "              metrics=['acc'])"
   ]
  },
  {
   "cell_type": "code",
   "execution_count": 22,
   "metadata": {
    "colab": {},
    "colab_type": "code",
    "id": "cTg9-9w572hw"
   },
   "outputs": [],
   "source": [
    "from keras.preprocessing.image import ImageDataGenerator"
   ]
  },
  {
   "cell_type": "code",
   "execution_count": 23,
   "metadata": {
    "colab": {
     "base_uri": "https://localhost:8080/",
     "height": 51
    },
    "colab_type": "code",
    "id": "lIADFJn49uya",
    "outputId": "7fb4caaa-c2a0-40bb-b17a-9ea09f81d6be"
   },
   "outputs": [
    {
     "name": "stdout",
     "output_type": "stream",
     "text": [
      "Found 483 images belonging to 3 classes.\n",
      "Found 123 images belonging to 3 classes.\n"
     ]
    }
   ],
   "source": [
    "train_datagen = ImageDataGenerator(rescale=1./255)  \n",
    "test_datagen = ImageDataGenerator(rescale=1./255)\n",
    "train_generator = train_datagen.flow_from_directory(\n",
    "        train_dir,                                             \n",
    "        target_size=(64, 64),                                 \n",
    "        batch_size=20,\n",
    "    class_mode='categorical')                                   \n",
    "\n",
    "validation_generator = test_datagen.flow_from_directory(\n",
    "        val_dir,\n",
    "        target_size=(64, 64),\n",
    "        batch_size=20,\n",
    "        class_mode='categorical')"
   ]
  },
  {
   "cell_type": "code",
   "execution_count": null,
   "metadata": {
    "colab": {
     "base_uri": "https://localhost:8080/",
     "height": 1037
    },
    "colab_type": "code",
    "id": "QJ6CTczT94Yf",
    "outputId": "6879fdd7-ebfe-4ecb-d5f8-f1e29743f5a7"
   },
   "outputs": [
    {
     "name": "stdout",
     "output_type": "stream",
     "text": [
      "Epoch 1/30\n",
      "100/100 [==============================] - 18s 184ms/step - loss: 0.3582 - acc: 0.9032 - val_loss: 0.4315 - val_acc: 0.8922\n",
      "Epoch 2/30\n",
      "100/100 [==============================] - 15s 150ms/step - loss: 0.2516 - acc: 0.9109 - val_loss: 0.5024 - val_acc: 0.8944\n",
      "Epoch 3/30\n",
      "100/100 [==============================] - 15s 153ms/step - loss: 0.1928 - acc: 0.9337 - val_loss: 0.9749 - val_acc: 0.4733\n",
      "Epoch 4/30\n",
      "100/100 [==============================] - 15s 154ms/step - loss: 0.1377 - acc: 0.9540 - val_loss: 0.6731 - val_acc: 0.8513\n",
      "Epoch 5/30\n",
      "100/100 [==============================] - 16s 157ms/step - loss: 0.1057 - acc: 0.9615 - val_loss: 1.5122 - val_acc: 0.4222\n",
      "Epoch 6/30\n",
      "  7/100 [=>............................] - ETA: 3s - loss: 0.0791 - acc: 0.9643"
     ]
    }
   ],
   "source": [
    "history = model.fit_generator(\n",
    "      train_generator,\n",
    "      steps_per_epoch=100,\n",
    "      epochs=30,\n",
    "      validation_data=validation_generator,\n",
    "      validation_steps=50)"
   ]
  },
  {
   "cell_type": "code",
   "execution_count": 14,
   "metadata": {
    "colab": {
     "base_uri": "https://localhost:8080/",
     "height": 707
    },
    "colab_type": "code",
    "id": "clhZoIli992K",
    "outputId": "e4496148-7393-4d07-c907-f1519d9e1b92"
   },
   "outputs": [
    {
     "data": {
      "image/png": "[encoded data removed]",
      "text/plain": [
       "<matplotlib.figure.Figure at 0x7f41760f9198>"
      ]
     },
     "metadata": {},
     "output_type": "display_data"
    },
    {
     "data": {
      "image/png": "[encoded data removed]",
      "text/plain": [
       "<matplotlib.figure.Figure at 0x7f4171fb5080>"
      ]
     },
     "metadata": {},
     "output_type": "display_data"
    }
   ],
   "source": [
    "import matplotlib.pyplot as plt\n",
    "\n",
    "acc = history.history['acc']\n",
    "val_acc = history.history['val_acc']\n",
    "loss = history.history['loss']\n",
    "val_loss = history.history['val_loss']\n",
    "plt.ylim(0,1)\n",
    "\n",
    "epochs = range(1, len(acc) + 1)\n",
    "\n",
    "plt.plot(epochs, acc, 'bo', label='Training acc')\n",
    "plt.plot(epochs, val_acc, 'b', label='Validation acc')\n",
    "plt.title('Training and validation accuracy')\n",
    "plt.legend()\n",
    "\n",
    "plt.figure()\n",
    "\n",
    "plt.plot(epochs, loss, 'bo', label='Training loss')\n",
    "plt.plot(epochs, val_loss, 'b', label='Validation loss')\n",
    "plt.title('Training and validation loss')\n",
    "plt.legend()\n",
    "\n",
    "plt.show()"
   ]
  },
  {
   "cell_type": "code",
   "execution_count": 0,
   "metadata": {
    "colab": {},
    "colab_type": "code",
    "id": "NdygqiWu_tyn"
   },
   "outputs": [],
   "source": []
  }
 ],
 "metadata": {
  "accelerator": "GPU",
  "colab": {
   "include_colab_link": true,
   "name": "DrivFace-NoAugumentation.ipynb",
   "provenance": [],
   "version": "0.3.2"
  },
  "kernelspec": {
   "display_name": "Python [conda env:deeplearning]",
   "language": "python",
   "name": "conda-env-deeplearning-py"
  },
  "language_info": {
   "codemirror_mode": {
    "name": "ipython",
    "version": 3
   },
   "file_extension": ".py",
   "mimetype": "text/x-python",
   "name": "python",
   "nbconvert_exporter": "python",
   "pygments_lexer": "ipython3",
   "version": "3.6.0"
  }
 },
 "nbformat": 4,
 "nbformat_minor": 1
}
