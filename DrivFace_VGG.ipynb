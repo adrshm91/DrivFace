{
  "nbformat": 4,
  "nbformat_minor": 0,
  "metadata": {
    "colab": {
      "name": "DrivFace - VGG.ipynb",
      "version": "0.3.2",
      "provenance": [],
      "include_colab_link": true
    },
    "kernelspec": {
      "name": "python3",
      "display_name": "Python 3"
    },
    "accelerator": "GPU"
  },
  "cells": [
    {
      "cell_type": "markdown",
      "metadata": {
        "id": "view-in-github",
        "colab_type": "text"
      },
      "source": [
        "[View in Colaboratory](https://colab.research.google.com/github/adrshm91/DrivFace/blob/master/DrivFace_VGG.ipynb)"
      ]
    },
    {
      "metadata": {
        "id": "r2Z3soGnHgid",
        "colab_type": "code",
        "colab": {}
      },
      "cell_type": "code",
      "source": [
        "import wget\n",
        "import os\n",
        "from zipfile import PyZipFile\n",
        "import shutil\n",
        "import glob\n",
        "import pandas as pd\n",
        "temp_dir = 'data/temp'\n",
        "orig_dir = 'data/images'\n",
        "train_dir = 'data/train'\n",
        "val_dir = 'data/val'\n",
        "url = 'https://archive.ics.uci.edu/ml/machine-learning-databases/00378/DrivFace.zip'"
      ],
      "execution_count": 0,
      "outputs": []
    },
    {
      "metadata": {
        "id": "CWZz1OlMHhpF",
        "colab_type": "code",
        "colab": {}
      },
      "cell_type": "code",
      "source": [
        "def load_dataset():\n",
        "  if not os.path.exists(orig_dir):\n",
        "    \n",
        "    # download the dataset\n",
        "    \n",
        "    os.makedirs(temp_dir)\n",
        "    os.makedirs(orig_dir)\n",
        "    print(\"Downloading dataset to \"+ temp_dir)\n",
        "    file = wget.download(url, out=temp_dir)\n",
        "    print(\"\\nUnzipping the files..\")\n",
        "    pzf = PyZipFile(file)\n",
        "    pzf.extractall(temp_dir)\n",
        "    pzf = PyZipFile(temp_dir+'/DrivFace/DrivImages.zip')\n",
        "    pzf.extractall(temp_dir)\n",
        "    print(\"Moving files to \"+orig_dir)\n",
        "    for file in os.listdir(temp_dir+'/DrivImages'):\n",
        "      shutil.move(temp_dir+'/DrivImages/'+file,orig_dir+'/'+file)\n",
        "    shutil.move(temp_dir+'/DrivFace/drivPoints.txt',orig_dir+'/drivPoints.txt')\n",
        "    print(\"Deleting temporary directory \"+ temp_dir)\n",
        "    shutil.rmtree(temp_dir)"
      ],
      "execution_count": 0,
      "outputs": []
    },
    {
      "metadata": {
        "id": "EWFLBNd1HjsP",
        "colab_type": "code",
        "colab": {}
      },
      "cell_type": "code",
      "source": [
        "def split_dataset(orig_dir, train_dir, val_dir, split_ratio):\n",
        "  \n",
        "  if not os.path.exists(train_dir):\n",
        "    os.makedirs(train_dir)\n",
        "    os.makedirs(val_dir)\n",
        "    print(\"Creating train directories for each class\")\n",
        "    train_ff_dir = os.path.join(train_dir, 'ff')\n",
        "    os.makedirs(train_ff_dir)\n",
        "    train_ll_dir = os.path.join(train_dir, 'll')\n",
        "    os.makedirs(train_ll_dir)\n",
        "    train_lr_dir = os.path.join(train_dir, 'lr')\n",
        "    os.makedirs(train_lr_dir)\n",
        "\n",
        "    print(\"Creating val directories for each class\")\n",
        "    val_ff_dir = os.path.join(val_dir, 'ff')\n",
        "    os.makedirs(val_ff_dir)\n",
        "    val_ll_dir = os.path.join(val_dir, 'll')\n",
        "    os.makedirs(val_ll_dir)\n",
        "    val_lr_dir = os.path.join(val_dir, 'lr')\n",
        "    os.makedirs(val_lr_dir)\n",
        "\n",
        "    files = pd.read_csv(orig_dir+'/drivPoints.txt')['fileName'].tolist()\n",
        "    files_ff = [file for file in files if 'f' in file]\n",
        "    files_ll = [file for file in files if 'll' in file]\n",
        "    files_lr = [file for file in files if 'lr' in file]\n",
        "    i = 0\n",
        "    for fname in files_ff:\n",
        "      src = os.path.join(orig_dir, fname + '.jpg')                        \n",
        "      dst_train = os.path.join(train_ff_dir, fname + '.jpg')\n",
        "      dst_val = os.path.join(val_ff_dir, fname + '.jpg')\n",
        "      i += 1\n",
        "      if i < len(files_ff)*split_ratio:\n",
        "        shutil.move(src, dst_train)\n",
        "      else:\n",
        "        shutil.move(src, dst_val)\n",
        "    i = 0\n",
        "    for fname in files_ll:\n",
        "      src = os.path.join(orig_dir, fname + '.jpg')                        \n",
        "      dst_train = os.path.join(train_ll_dir, fname + '.jpg')\n",
        "      dst_val = os.path.join(val_ll_dir, fname + '.jpg')\n",
        "      i += 1\n",
        "      if i < len(files_ll)*split_ratio:\n",
        "        shutil.move(src, dst_train)\n",
        "      else:\n",
        "        shutil.move(src, dst_val)\n",
        "    i = 0\n",
        "    for fname in files_lr:\n",
        "      src = os.path.join(orig_dir, fname + '.jpg')                        \n",
        "      dst_train = os.path.join(train_lr_dir, fname + '.jpg') \n",
        "      dst_val = os.path.join(val_lr_dir, fname + '.jpg')\n",
        "      i += 1\n",
        "      if i < len(files_lr)*split_ratio:\n",
        "        shutil.move(src, dst_train)\n",
        "      else:\n",
        "        shutil.move(src, dst_val)"
      ],
      "execution_count": 0,
      "outputs": []
    },
    {
      "metadata": {
        "id": "f7GXCsJcHltS",
        "colab_type": "code",
        "colab": {}
      },
      "cell_type": "code",
      "source": [
        "load_dataset()"
      ],
      "execution_count": 0,
      "outputs": []
    },
    {
      "metadata": {
        "id": "R_GwzFuUHocy",
        "colab_type": "code",
        "colab": {}
      },
      "cell_type": "code",
      "source": [
        "split_dataset(orig_dir, train_dir, val_dir, split_ratio = 0.8)"
      ],
      "execution_count": 0,
      "outputs": []
    },
    {
      "metadata": {
        "id": "adJn0V9aIYRk",
        "colab_type": "code",
        "colab": {
          "base_uri": "https://localhost:8080/",
          "height": 35
        },
        "outputId": "bf1557cb-b105-4347-e476-455f7e9e1c51"
      },
      "cell_type": "code",
      "source": [
        "from keras import layers\n",
        "from keras import models"
      ],
      "execution_count": 8,
      "outputs": [
        {
          "output_type": "stream",
          "text": [
            "Using TensorFlow backend.\n"
          ],
          "name": "stderr"
        }
      ]
    },
    {
      "metadata": {
        "id": "DtihVmdhIaOb",
        "colab_type": "code",
        "colab": {
          "base_uri": "https://localhost:8080/",
          "height": 52
        },
        "outputId": "1a4a3205-d253-4343-abb6-7081c800f883"
      },
      "cell_type": "code",
      "source": [
        "from keras.applications import VGG16\n",
        "\n",
        "conv_base = VGG16(weights='imagenet',\n",
        "                  include_top=False,\n",
        "                  input_shape=(150, 150, 3))"
      ],
      "execution_count": 9,
      "outputs": [
        {
          "output_type": "stream",
          "text": [
            "Downloading data from https://github.com/fchollet/deep-learning-models/releases/download/v0.1/vgg16_weights_tf_dim_ordering_tf_kernels_notop.h5\n",
            "58892288/58889256 [==============================] - 10s 0us/step\n"
          ],
          "name": "stdout"
        }
      ]
    },
    {
      "metadata": {
        "id": "AhsN5gT2IcDt",
        "colab_type": "code",
        "colab": {
          "base_uri": "https://localhost:8080/",
          "height": 277
        },
        "outputId": "25b654c7-3616-4b71-b91b-9a0096f44385"
      },
      "cell_type": "code",
      "source": [
        "from keras import models\n",
        "from keras import layers\n",
        "\n",
        "model = models.Sequential()\n",
        "model.add(conv_base)\n",
        "model.add(layers.Flatten())\n",
        "model.add(layers.Dense(256, activation='relu'))\n",
        "model.add(layers.Dense(3, activation='softmax'))\n",
        "conv_base.trainable = False\n",
        "model.summary()"
      ],
      "execution_count": 10,
      "outputs": [
        {
          "output_type": "stream",
          "text": [
            "_________________________________________________________________\n",
            "Layer (type)                 Output Shape              Param #   \n",
            "=================================================================\n",
            "vgg16 (Model)                (None, 4, 4, 512)         14714688  \n",
            "_________________________________________________________________\n",
            "flatten_1 (Flatten)          (None, 8192)              0         \n",
            "_________________________________________________________________\n",
            "dense_1 (Dense)              (None, 256)               2097408   \n",
            "_________________________________________________________________\n",
            "dense_2 (Dense)              (None, 3)                 771       \n",
            "=================================================================\n",
            "Total params: 16,812,867\n",
            "Trainable params: 2,098,179\n",
            "Non-trainable params: 14,714,688\n",
            "_________________________________________________________________\n"
          ],
          "name": "stdout"
        }
      ]
    },
    {
      "metadata": {
        "id": "D6fL8DCOJCi6",
        "colab_type": "code",
        "colab": {}
      },
      "cell_type": "code",
      "source": [
        "from keras.preprocessing.image import ImageDataGenerator\n",
        "from keras import optimizers\n",
        "\n",
        "train_datagen = ImageDataGenerator(\n",
        "      rescale=1./255,\n",
        "      rotation_range=40,\n",
        "      width_shift_range=0.2,\n",
        "      height_shift_range=0.2,\n",
        "      shear_range=0.2,\n",
        "      zoom_range=0.2,\n",
        "      horizontal_flip=False,\n",
        "      fill_mode='nearest')"
      ],
      "execution_count": 0,
      "outputs": []
    },
    {
      "metadata": {
        "id": "Y0E0RvfVJcoL",
        "colab_type": "code",
        "colab": {
          "base_uri": "https://localhost:8080/",
          "height": 52
        },
        "outputId": "e08c9d3e-668d-46dd-a5ce-1b39aa2baf42"
      },
      "cell_type": "code",
      "source": [
        "test_datagen = ImageDataGenerator(rescale=1./255)                \n",
        "\n",
        "train_generator = train_datagen.flow_from_directory(\n",
        "        train_dir,                                               \n",
        "        target_size=(150, 150),                                  \n",
        "        batch_size=20,\n",
        "        class_mode='categorical')                                     \n",
        "\n",
        "validation_generator = test_datagen.flow_from_directory(\n",
        "        val_dir,\n",
        "        target_size=(150, 150),\n",
        "        batch_size=20,\n",
        "        class_mode='categorical')\n",
        "\n",
        "model.compile(loss='categorical_crossentropy',\n",
        "              optimizer=optimizers.RMSprop(lr=2e-5),\n",
        "              metrics=['acc'])"
      ],
      "execution_count": 12,
      "outputs": [
        {
          "output_type": "stream",
          "text": [
            "Found 483 images belonging to 3 classes.\n",
            "Found 123 images belonging to 3 classes.\n"
          ],
          "name": "stdout"
        }
      ]
    },
    {
      "metadata": {
        "id": "2B9v70s6Jmmx",
        "colab_type": "code",
        "colab": {
          "base_uri": "https://localhost:8080/",
          "height": 1057
        },
        "outputId": "0e3c86cd-b248-41a2-e1e5-c718022c7748"
      },
      "cell_type": "code",
      "source": [
        "history = model.fit_generator(\n",
        "      train_generator,\n",
        "      steps_per_epoch=100,\n",
        "      epochs=30,\n",
        "      validation_data=validation_generator,\n",
        "      validation_steps=50)"
      ],
      "execution_count": 13,
      "outputs": [
        {
          "output_type": "stream",
          "text": [
            "Epoch 1/30\n",
            "100/100 [==============================] - 33s 332ms/step - loss: 0.3666 - acc: 0.9032 - val_loss: 0.4109 - val_acc: 0.8944\n",
            "Epoch 2/30\n",
            "100/100 [==============================] - 31s 306ms/step - loss: 0.3246 - acc: 0.8999 - val_loss: 0.3909 - val_acc: 0.8922\n",
            "Epoch 3/30\n",
            "100/100 [==============================] - 30s 302ms/step - loss: 0.2921 - acc: 0.9019 - val_loss: 0.3702 - val_acc: 0.8956\n",
            "Epoch 4/30\n",
            "100/100 [==============================] - 30s 302ms/step - loss: 0.2427 - acc: 0.9120 - val_loss: 0.3627 - val_acc: 0.8922\n",
            "Epoch 5/30\n",
            "100/100 [==============================] - 30s 299ms/step - loss: 0.2253 - acc: 0.9185 - val_loss: 0.3791 - val_acc: 0.9024\n",
            "Epoch 6/30\n",
            "100/100 [==============================] - 30s 300ms/step - loss: 0.2206 - acc: 0.9237 - val_loss: 0.3903 - val_acc: 0.9126\n",
            "Epoch 7/30\n",
            "100/100 [==============================] - 30s 298ms/step - loss: 0.2085 - acc: 0.9299 - val_loss: 0.3425 - val_acc: 0.8956\n",
            "Epoch 8/30\n",
            "100/100 [==============================] - 30s 302ms/step - loss: 0.1977 - acc: 0.9294 - val_loss: 0.3765 - val_acc: 0.9205\n",
            "Epoch 9/30\n",
            "100/100 [==============================] - 30s 300ms/step - loss: 0.1727 - acc: 0.9410 - val_loss: 0.3769 - val_acc: 0.9194\n",
            "Epoch 10/30\n",
            "100/100 [==============================] - 31s 308ms/step - loss: 0.1660 - acc: 0.9344 - val_loss: 0.4042 - val_acc: 0.9092\n",
            "Epoch 11/30\n",
            "100/100 [==============================] - 30s 305ms/step - loss: 0.1594 - acc: 0.9465 - val_loss: 0.4142 - val_acc: 0.9024\n",
            "Epoch 12/30\n",
            "100/100 [==============================] - 30s 298ms/step - loss: 0.1476 - acc: 0.9537 - val_loss: 0.4325 - val_acc: 0.8683\n",
            "Epoch 13/30\n",
            "100/100 [==============================] - 30s 302ms/step - loss: 0.1518 - acc: 0.9552 - val_loss: 0.4467 - val_acc: 0.8695\n",
            "Epoch 14/30\n",
            "100/100 [==============================] - 30s 302ms/step - loss: 0.1470 - acc: 0.9487 - val_loss: 0.4763 - val_acc: 0.8513\n",
            "Epoch 15/30\n",
            "100/100 [==============================] - 30s 300ms/step - loss: 0.1387 - acc: 0.9535 - val_loss: 0.4465 - val_acc: 0.8661\n",
            "Epoch 16/30\n",
            "100/100 [==============================] - 30s 300ms/step - loss: 0.1334 - acc: 0.9555 - val_loss: 0.4241 - val_acc: 0.8797\n",
            "Epoch 17/30\n",
            "100/100 [==============================] - 30s 301ms/step - loss: 0.1272 - acc: 0.9555 - val_loss: 0.4239 - val_acc: 0.8785\n",
            "Epoch 18/30\n",
            "100/100 [==============================] - 31s 305ms/step - loss: 0.1314 - acc: 0.9506 - val_loss: 0.4460 - val_acc: 0.8695\n",
            "Epoch 19/30\n",
            "100/100 [==============================] - 30s 300ms/step - loss: 0.1302 - acc: 0.9562 - val_loss: 0.4225 - val_acc: 0.8956\n",
            "Epoch 20/30\n",
            "100/100 [==============================] - 30s 301ms/step - loss: 0.1162 - acc: 0.9595 - val_loss: 0.4592 - val_acc: 0.8683\n",
            "Epoch 21/30\n",
            "100/100 [==============================] - 31s 309ms/step - loss: 0.1101 - acc: 0.9605 - val_loss: 0.4655 - val_acc: 0.8717\n",
            "Epoch 22/30\n",
            "100/100 [==============================] - 30s 300ms/step - loss: 0.1260 - acc: 0.9504 - val_loss: 0.4554 - val_acc: 0.8717\n",
            "Epoch 23/30\n",
            "100/100 [==============================] - 30s 299ms/step - loss: 0.1242 - acc: 0.9532 - val_loss: 0.4284 - val_acc: 0.9024\n",
            "Epoch 24/30\n",
            "100/100 [==============================] - 30s 302ms/step - loss: 0.1219 - acc: 0.9579 - val_loss: 0.4012 - val_acc: 0.9024\n",
            "Epoch 25/30\n",
            "100/100 [==============================] - 30s 300ms/step - loss: 0.1102 - acc: 0.9615 - val_loss: 0.4299 - val_acc: 0.8933\n",
            "Epoch 26/30\n",
            "100/100 [==============================] - 30s 299ms/step - loss: 0.1046 - acc: 0.9625 - val_loss: 0.4350 - val_acc: 0.9024\n",
            "Epoch 27/30\n",
            "100/100 [==============================] - 30s 299ms/step - loss: 0.0998 - acc: 0.9670 - val_loss: 0.4402 - val_acc: 0.9024\n",
            "Epoch 28/30\n",
            "100/100 [==============================] - 30s 299ms/step - loss: 0.1070 - acc: 0.9592 - val_loss: 0.4681 - val_acc: 0.8615\n",
            "Epoch 29/30\n",
            "100/100 [==============================] - 30s 301ms/step - loss: 0.1003 - acc: 0.9640 - val_loss: 0.4592 - val_acc: 0.8706\n",
            "Epoch 30/30\n",
            "100/100 [==============================] - 30s 301ms/step - loss: 0.1018 - acc: 0.9647 - val_loss: 0.4413 - val_acc: 0.8763\n"
          ],
          "name": "stdout"
        }
      ]
    },
    {
      "metadata": {
        "id": "sPu5BzfYJuUc",
        "colab_type": "code",
        "colab": {
          "base_uri": "https://localhost:8080/",
          "height": 708
        },
        "outputId": "932b3a95-002b-4746-c991-34801e04162c"
      },
      "cell_type": "code",
      "source": [
        "import matplotlib.pyplot as plt\n",
        "acc = history.history['acc']\n",
        "val_acc = history.history['val_acc']\n",
        "loss = history.history['loss']\n",
        "val_loss = history.history['val_loss']\n",
        "plt.ylim(0,1)\n",
        "\n",
        "epochs = range(1, len(acc) + 1)\n",
        "\n",
        "plt.plot(epochs, acc, 'bo', label='Training acc')\n",
        "plt.plot(epochs, val_acc, 'b', label='Validation acc')\n",
        "plt.title('Training and validation accuracy')\n",
        "plt.legend()\n",
        "\n",
        "plt.figure()\n",
        "\n",
        "plt.plot(epochs, loss, 'bo', label='Training loss')\n",
        "plt.plot(epochs, val_loss, 'b', label='Validation loss')\n",
        "plt.title('Training and validation loss')\n",
        "plt.legend()\n",
        "\n",
        "plt.show()"
      ],
      "execution_count": 15,
      "outputs": [
        {
          "output_type": "display_data",
          "data": {
            "image/png": "[encoded data removed]",
            "text/plain": [
              "<matplotlib.figure.Figure at 0x7f1129e7da58>"
            ]
          },
          "metadata": {
            "tags": []
          }
        },
        {
          "output_type": "display_data",
          "data": {
            "image/png": "[encoded data removed]",
            "text/plain": [
              "<matplotlib.figure.Figure at 0x7f10c227a320>"
            ]
          },
          "metadata": {
            "tags": []
          }
        }
      ]
    },
    {
      "metadata": {
        "id": "QCulTyuGN7Zw",
        "colab_type": "code",
        "colab": {
          "base_uri": "https://localhost:8080/",
          "height": 1174
        },
        "outputId": "89db15a1-cb94-43ed-c7bb-3612098edbd8"
      },
      "cell_type": "code",
      "source": [
        "from keras.utils.vis_utils import plot_model\n",
        "plot_model(model, to_file='model_plot_VGG.png', show_shapes=True, show_layer_names=True)"
      ],
      "execution_count": 18,
      "outputs": [
        {
          "output_type": "error",
          "ename": "OSError",
          "evalue": "ignored",
          "traceback": [
            "\u001b[0;31m---------------------------------------------------------------------------\u001b[0m",
            "\u001b[0;31mFileNotFoundError\u001b[0m                         Traceback (most recent call last)",
            "\u001b[0;32m/usr/local/lib/python3.6/dist-packages/pydot.py\u001b[0m in \u001b[0;36mcreate\u001b[0;34m(self, prog, format, encoding)\u001b[0m\n\u001b[1;32m   1860\u001b[0m                 \u001b[0mshell\u001b[0m\u001b[0;34m=\u001b[0m\u001b[0;32mFalse\u001b[0m\u001b[0;34m,\u001b[0m\u001b[0;34m\u001b[0m\u001b[0m\n\u001b[0;32m-> 1861\u001b[0;31m                 stderr=subprocess.PIPE, stdout=subprocess.PIPE)\n\u001b[0m\u001b[1;32m   1862\u001b[0m         \u001b[0;32mexcept\u001b[0m \u001b[0mOSError\u001b[0m \u001b[0;32mas\u001b[0m \u001b[0me\u001b[0m\u001b[0;34m:\u001b[0m\u001b[0;34m\u001b[0m\u001b[0m\n",
            "\u001b[0;32m/usr/lib/python3.6/subprocess.py\u001b[0m in \u001b[0;36m__init__\u001b[0;34m(self, args, bufsize, executable, stdin, stdout, stderr, preexec_fn, close_fds, shell, cwd, env, universal_newlines, startupinfo, creationflags, restore_signals, start_new_session, pass_fds, encoding, errors)\u001b[0m\n\u001b[1;32m    708\u001b[0m                                 \u001b[0merrread\u001b[0m\u001b[0;34m,\u001b[0m \u001b[0merrwrite\u001b[0m\u001b[0;34m,\u001b[0m\u001b[0;34m\u001b[0m\u001b[0m\n\u001b[0;32m--> 709\u001b[0;31m                                 restore_signals, start_new_session)\n\u001b[0m\u001b[1;32m    710\u001b[0m         \u001b[0;32mexcept\u001b[0m\u001b[0;34m:\u001b[0m\u001b[0;34m\u001b[0m\u001b[0m\n",
            "\u001b[0;32m/usr/lib/python3.6/subprocess.py\u001b[0m in \u001b[0;36m_execute_child\u001b[0;34m(self, args, executable, preexec_fn, close_fds, pass_fds, cwd, env, startupinfo, creationflags, shell, p2cread, p2cwrite, c2pread, c2pwrite, errread, errwrite, restore_signals, start_new_session)\u001b[0m\n\u001b[1;32m   1343\u001b[0m                             \u001b[0merr_msg\u001b[0m \u001b[0;34m+=\u001b[0m \u001b[0;34m': '\u001b[0m \u001b[0;34m+\u001b[0m \u001b[0mrepr\u001b[0m\u001b[0;34m(\u001b[0m\u001b[0merr_filename\u001b[0m\u001b[0;34m)\u001b[0m\u001b[0;34m\u001b[0m\u001b[0m\n\u001b[0;32m-> 1344\u001b[0;31m                     \u001b[0;32mraise\u001b[0m \u001b[0mchild_exception_type\u001b[0m\u001b[0;34m(\u001b[0m\u001b[0merrno_num\u001b[0m\u001b[0;34m,\u001b[0m \u001b[0merr_msg\u001b[0m\u001b[0;34m,\u001b[0m \u001b[0merr_filename\u001b[0m\u001b[0;34m)\u001b[0m\u001b[0;34m\u001b[0m\u001b[0m\n\u001b[0m\u001b[1;32m   1345\u001b[0m                 \u001b[0;32mraise\u001b[0m \u001b[0mchild_exception_type\u001b[0m\u001b[0;34m(\u001b[0m\u001b[0merr_msg\u001b[0m\u001b[0;34m)\u001b[0m\u001b[0;34m\u001b[0m\u001b[0m\n",
            "\u001b[0;31mFileNotFoundError\u001b[0m: [Errno 2] No such file or directory: 'dot': 'dot'",
            "\nDuring handling of the above exception, another exception occurred:\n",
            "\u001b[0;31mFileNotFoundError\u001b[0m                         Traceback (most recent call last)",
            "\u001b[0;32m/usr/local/lib/python3.6/dist-packages/keras/utils/vis_utils.py\u001b[0m in \u001b[0;36m_check_pydot\u001b[0;34m()\u001b[0m\n\u001b[1;32m     25\u001b[0m         \u001b[0;31m# to check the pydot/graphviz installation.\u001b[0m\u001b[0;34m\u001b[0m\u001b[0;34m\u001b[0m\u001b[0m\n\u001b[0;32m---> 26\u001b[0;31m         \u001b[0mpydot\u001b[0m\u001b[0;34m.\u001b[0m\u001b[0mDot\u001b[0m\u001b[0;34m.\u001b[0m\u001b[0mcreate\u001b[0m\u001b[0;34m(\u001b[0m\u001b[0mpydot\u001b[0m\u001b[0;34m.\u001b[0m\u001b[0mDot\u001b[0m\u001b[0;34m(\u001b[0m\u001b[0;34m)\u001b[0m\u001b[0;34m)\u001b[0m\u001b[0;34m\u001b[0m\u001b[0m\n\u001b[0m\u001b[1;32m     27\u001b[0m     \u001b[0;32mexcept\u001b[0m \u001b[0mOSError\u001b[0m\u001b[0;34m:\u001b[0m\u001b[0;34m\u001b[0m\u001b[0m\n",
            "\u001b[0;32m/usr/local/lib/python3.6/dist-packages/pydot.py\u001b[0m in \u001b[0;36mcreate\u001b[0;34m(self, prog, format, encoding)\u001b[0m\n\u001b[1;32m   1866\u001b[0m                     prog=prog)\n\u001b[0;32m-> 1867\u001b[0;31m                 \u001b[0;32mraise\u001b[0m \u001b[0mOSError\u001b[0m\u001b[0;34m(\u001b[0m\u001b[0;34m*\u001b[0m\u001b[0margs\u001b[0m\u001b[0;34m)\u001b[0m\u001b[0;34m\u001b[0m\u001b[0m\n\u001b[0m\u001b[1;32m   1868\u001b[0m             \u001b[0;32melse\u001b[0m\u001b[0;34m:\u001b[0m\u001b[0;34m\u001b[0m\u001b[0m\n",
            "\u001b[0;31mFileNotFoundError\u001b[0m: [Errno 2] \"dot\" not found in path.",
            "\nDuring handling of the above exception, another exception occurred:\n",
            "\u001b[0;31mOSError\u001b[0m                                   Traceback (most recent call last)",
            "\u001b[0;32m<ipython-input-18-c4e276f3e7c7>\u001b[0m in \u001b[0;36m<module>\u001b[0;34m()\u001b[0m\n\u001b[1;32m      1\u001b[0m \u001b[0;32mfrom\u001b[0m \u001b[0mkeras\u001b[0m\u001b[0;34m.\u001b[0m\u001b[0mutils\u001b[0m\u001b[0;34m.\u001b[0m\u001b[0mvis_utils\u001b[0m \u001b[0;32mimport\u001b[0m \u001b[0mplot_model\u001b[0m\u001b[0;34m\u001b[0m\u001b[0m\n\u001b[0;32m----> 2\u001b[0;31m \u001b[0mplot_model\u001b[0m\u001b[0;34m(\u001b[0m\u001b[0mmodel\u001b[0m\u001b[0;34m,\u001b[0m \u001b[0mto_file\u001b[0m\u001b[0;34m=\u001b[0m\u001b[0;34m'model_plot_VGG.png'\u001b[0m\u001b[0;34m,\u001b[0m \u001b[0mshow_shapes\u001b[0m\u001b[0;34m=\u001b[0m\u001b[0;32mTrue\u001b[0m\u001b[0;34m,\u001b[0m \u001b[0mshow_layer_names\u001b[0m\u001b[0;34m=\u001b[0m\u001b[0;32mTrue\u001b[0m\u001b[0;34m)\u001b[0m\u001b[0;34m\u001b[0m\u001b[0m\n\u001b[0m",
            "\u001b[0;32m/usr/local/lib/python3.6/dist-packages/keras/utils/vis_utils.py\u001b[0m in \u001b[0;36mplot_model\u001b[0;34m(model, to_file, show_shapes, show_layer_names, rankdir)\u001b[0m\n\u001b[1;32m    132\u001b[0m             \u001b[0;34m'LR'\u001b[0m \u001b[0mcreates\u001b[0m \u001b[0ma\u001b[0m \u001b[0mhorizontal\u001b[0m \u001b[0mplot\u001b[0m\u001b[0;34m.\u001b[0m\u001b[0;34m\u001b[0m\u001b[0m\n\u001b[1;32m    133\u001b[0m     \"\"\"\n\u001b[0;32m--> 134\u001b[0;31m     \u001b[0mdot\u001b[0m \u001b[0;34m=\u001b[0m \u001b[0mmodel_to_dot\u001b[0m\u001b[0;34m(\u001b[0m\u001b[0mmodel\u001b[0m\u001b[0;34m,\u001b[0m \u001b[0mshow_shapes\u001b[0m\u001b[0;34m,\u001b[0m \u001b[0mshow_layer_names\u001b[0m\u001b[0;34m,\u001b[0m \u001b[0mrankdir\u001b[0m\u001b[0;34m)\u001b[0m\u001b[0;34m\u001b[0m\u001b[0m\n\u001b[0m\u001b[1;32m    135\u001b[0m     \u001b[0m_\u001b[0m\u001b[0;34m,\u001b[0m \u001b[0mextension\u001b[0m \u001b[0;34m=\u001b[0m \u001b[0mos\u001b[0m\u001b[0;34m.\u001b[0m\u001b[0mpath\u001b[0m\u001b[0;34m.\u001b[0m\u001b[0msplitext\u001b[0m\u001b[0;34m(\u001b[0m\u001b[0mto_file\u001b[0m\u001b[0;34m)\u001b[0m\u001b[0;34m\u001b[0m\u001b[0m\n\u001b[1;32m    136\u001b[0m     \u001b[0;32mif\u001b[0m \u001b[0;32mnot\u001b[0m \u001b[0mextension\u001b[0m\u001b[0;34m:\u001b[0m\u001b[0;34m\u001b[0m\u001b[0m\n",
            "\u001b[0;32m/usr/local/lib/python3.6/dist-packages/keras/utils/vis_utils.py\u001b[0m in \u001b[0;36mmodel_to_dot\u001b[0;34m(model, show_shapes, show_layer_names, rankdir)\u001b[0m\n\u001b[1;32m     53\u001b[0m     \u001b[0;32mfrom\u001b[0m \u001b[0;34m.\u001b[0m\u001b[0;34m.\u001b[0m\u001b[0mmodels\u001b[0m \u001b[0;32mimport\u001b[0m \u001b[0mSequential\u001b[0m\u001b[0;34m\u001b[0m\u001b[0m\n\u001b[1;32m     54\u001b[0m \u001b[0;34m\u001b[0m\u001b[0m\n\u001b[0;32m---> 55\u001b[0;31m     \u001b[0m_check_pydot\u001b[0m\u001b[0;34m(\u001b[0m\u001b[0;34m)\u001b[0m\u001b[0;34m\u001b[0m\u001b[0m\n\u001b[0m\u001b[1;32m     56\u001b[0m     \u001b[0mdot\u001b[0m \u001b[0;34m=\u001b[0m \u001b[0mpydot\u001b[0m\u001b[0;34m.\u001b[0m\u001b[0mDot\u001b[0m\u001b[0;34m(\u001b[0m\u001b[0;34m)\u001b[0m\u001b[0;34m\u001b[0m\u001b[0m\n\u001b[1;32m     57\u001b[0m     \u001b[0mdot\u001b[0m\u001b[0;34m.\u001b[0m\u001b[0mset\u001b[0m\u001b[0;34m(\u001b[0m\u001b[0;34m'rankdir'\u001b[0m\u001b[0;34m,\u001b[0m \u001b[0mrankdir\u001b[0m\u001b[0;34m)\u001b[0m\u001b[0;34m\u001b[0m\u001b[0m\n",
            "\u001b[0;32m/usr/local/lib/python3.6/dist-packages/keras/utils/vis_utils.py\u001b[0m in \u001b[0;36m_check_pydot\u001b[0;34m()\u001b[0m\n\u001b[1;32m     27\u001b[0m     \u001b[0;32mexcept\u001b[0m \u001b[0mOSError\u001b[0m\u001b[0;34m:\u001b[0m\u001b[0;34m\u001b[0m\u001b[0m\n\u001b[1;32m     28\u001b[0m         raise OSError(\n\u001b[0;32m---> 29\u001b[0;31m             \u001b[0;34m'`pydot` failed to call GraphViz.'\u001b[0m\u001b[0;34m\u001b[0m\u001b[0m\n\u001b[0m\u001b[1;32m     30\u001b[0m             \u001b[0;34m'Please install GraphViz (https://www.graphviz.org/) '\u001b[0m\u001b[0;34m\u001b[0m\u001b[0m\n\u001b[1;32m     31\u001b[0m             'and ensure that its executables are in the $PATH.')\n",
            "\u001b[0;31mOSError\u001b[0m: `pydot` failed to call GraphViz.Please install GraphViz (https://www.graphviz.org/) and ensure that its executables are in the $PATH."
          ]
        }
      ]
    },
    {
      "metadata": {
        "id": "G0Ok1VUy56p6",
        "colab_type": "code",
        "colab": {
          "base_uri": "https://localhost:8080/",
          "height": 52
        },
        "outputId": "333d1dc5-95c0-4eb0-bd08-64b9d8d43e98"
      },
      "cell_type": "code",
      "source": [
        "!pip install pydot"
      ],
      "execution_count": 17,
      "outputs": [
        {
          "output_type": "stream",
          "text": [
            "Requirement already satisfied: pydot in /usr/local/lib/python3.6/dist-packages (1.2.4)\n",
            "Requirement already satisfied: pyparsing>=2.1.4 in /usr/local/lib/python3.6/dist-packages (from pydot) (2.2.0)\n"
          ],
          "name": "stdout"
        }
      ]
    },
    {
      "metadata": {
        "id": "MsiZ_zN95_oS",
        "colab_type": "code",
        "colab": {}
      },
      "cell_type": "code",
      "source": [
        ""
      ],
      "execution_count": 0,
      "outputs": []
    }
  ]
}