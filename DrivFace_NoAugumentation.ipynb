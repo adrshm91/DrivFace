{
  "nbformat": 4,
  "nbformat_minor": 0,
  "metadata": {
    "colab": {
      "name": "DrivFace-NoAugumentation.ipynb",
      "version": "0.3.2",
      "provenance": [],
      "include_colab_link": true
    },
    "kernelspec": {
      "name": "python3",
      "display_name": "Python 3"
    },
    "accelerator": "GPU"
  },
  "cells": [
    {
      "cell_type": "markdown",
      "metadata": {
        "id": "view-in-github",
        "colab_type": "text"
      },
      "source": [
        "[View in Colaboratory](https://colab.research.google.com/github/adrshm91/DrivFace/blob/master/DrivFace_NoAugumentation.ipynb)"
      ]
    },
    {
      "metadata": {
        "id": "jMPa4djlqQMY",
        "colab_type": "code",
        "colab": {}
      },
      "cell_type": "code",
      "source": [
        "import wget\n",
        "import os\n",
        "from zipfile import PyZipFile\n",
        "import shutil\n",
        "import glob\n",
        "import pandas as pd\n",
        "temp_dir = 'data/temp'\n",
        "orig_dir = 'data/images'\n",
        "train_dir = 'data/train'\n",
        "val_dir = 'data/val'\n",
        "url = 'https://archive.ics.uci.edu/ml/machine-learning-databases/00378/DrivFace.zip'"
      ],
      "execution_count": 0,
      "outputs": []
    },
    {
      "metadata": {
        "id": "P6lTfAQaqVuK",
        "colab_type": "code",
        "colab": {}
      },
      "cell_type": "code",
      "source": [
        "def load_dataset():\n",
        "  if not os.path.exists(orig_dir):\n",
        "    \n",
        "    # download the dataset\n",
        "    \n",
        "    os.makedirs(temp_dir)\n",
        "    os.makedirs(orig_dir)\n",
        "    print(\"Downloading dataset to \"+ temp_dir)\n",
        "    file = wget.download(url, out=temp_dir)\n",
        "    print(\"\\nUnzipping the files..\")\n",
        "    pzf = PyZipFile(file)\n",
        "    pzf.extractall(temp_dir)\n",
        "    pzf = PyZipFile(temp_dir+'/DrivFace/DrivImages.zip')\n",
        "    pzf.extractall(temp_dir)\n",
        "    print(\"Moving files to \"+orig_dir)\n",
        "    for file in os.listdir(temp_dir+'/DrivImages'):\n",
        "      shutil.move(temp_dir+'/DrivImages/'+file,orig_dir+'/'+file)\n",
        "    shutil.move(temp_dir+'/DrivFace/drivPoints.txt',orig_dir+'/drivPoints.txt')\n",
        "    print(\"Deleting temporary directory \"+ temp_dir)\n",
        "    shutil.rmtree(temp_dir)"
      ],
      "execution_count": 0,
      "outputs": []
    },
    {
      "metadata": {
        "id": "j1A90kRs0cPC",
        "colab_type": "code",
        "colab": {}
      },
      "cell_type": "code",
      "source": [
        "def split_dataset(orig_dir, train_dir, val_dir, split_ratio):\n",
        "  \n",
        "  if not os.path.exists(train_dir):\n",
        "    os.makedirs(train_dir)\n",
        "    os.makedirs(val_dir)\n",
        "    print(\"Creating train directories for each class\")\n",
        "    train_ff_dir = os.path.join(train_dir, 'ff')\n",
        "    os.makedirs(train_ff_dir)\n",
        "    train_ll_dir = os.path.join(train_dir, 'll')\n",
        "    os.makedirs(train_ll_dir)\n",
        "    train_lr_dir = os.path.join(train_dir, 'lr')\n",
        "    os.makedirs(train_lr_dir)\n",
        "\n",
        "    print(\"Creating val directories for each class\")\n",
        "    val_ff_dir = os.path.join(val_dir, 'ff')\n",
        "    os.makedirs(val_ff_dir)\n",
        "    val_ll_dir = os.path.join(val_dir, 'll')\n",
        "    os.makedirs(val_ll_dir)\n",
        "    val_lr_dir = os.path.join(val_dir, 'lr')\n",
        "    os.makedirs(val_lr_dir)\n",
        "\n",
        "    files = pd.read_csv(orig_dir+'/drivPoints.txt')['fileName'].tolist()\n",
        "    files_ff = [file for file in files if 'f' in file]\n",
        "    files_ll = [file for file in files if 'll' in file]\n",
        "    files_lr = [file for file in files if 'lr' in file]\n",
        "    i = 0\n",
        "    for fname in files_ff:\n",
        "      src = os.path.join(orig_dir, fname + '.jpg')                        \n",
        "      dst_train = os.path.join(train_ff_dir, fname + '.jpg')\n",
        "      dst_val = os.path.join(val_ff_dir, fname + '.jpg')\n",
        "      i += 1\n",
        "      if i < len(files_ff)*split_ratio:\n",
        "        shutil.move(src, dst_train)\n",
        "      else:\n",
        "        shutil.move(src, dst_val)\n",
        "    i = 0\n",
        "    for fname in files_ll:\n",
        "      src = os.path.join(orig_dir, fname + '.jpg')                        \n",
        "      dst_train = os.path.join(train_ll_dir, fname + '.jpg')\n",
        "      dst_val = os.path.join(val_ll_dir, fname + '.jpg')\n",
        "      i += 1\n",
        "      if i < len(files_ll)*split_ratio:\n",
        "        shutil.move(src, dst_train)\n",
        "      else:\n",
        "        shutil.move(src, dst_val)\n",
        "    i = 0\n",
        "    for fname in files_lr:\n",
        "      src = os.path.join(orig_dir, fname + '.jpg')                        \n",
        "      dst_train = os.path.join(train_lr_dir, fname + '.jpg') \n",
        "      dst_val = os.path.join(val_lr_dir, fname + '.jpg')\n",
        "      i += 1\n",
        "      if i < len(files_lr)*split_ratio:\n",
        "        shutil.move(src, dst_train)\n",
        "      else:\n",
        "        shutil.move(src, dst_val)"
      ],
      "execution_count": 0,
      "outputs": []
    },
    {
      "metadata": {
        "id": "Edp1_pj5qXtn",
        "colab_type": "code",
        "colab": {}
      },
      "cell_type": "code",
      "source": [
        "load_dataset()"
      ],
      "execution_count": 0,
      "outputs": []
    },
    {
      "metadata": {
        "id": "IUwWQm4U4AzJ",
        "colab_type": "code",
        "colab": {}
      },
      "cell_type": "code",
      "source": [
        "split_dataset(orig_dir, train_dir, val_dir, split_ratio = 0.8)"
      ],
      "execution_count": 0,
      "outputs": []
    },
    {
      "metadata": {
        "id": "0m1ZrdBNqZp3",
        "colab_type": "code",
        "colab": {
          "base_uri": "https://localhost:8080/",
          "height": 34
        },
        "outputId": "4e14f344-dda2-4506-b2e0-10840f93169c"
      },
      "cell_type": "code",
      "source": [
        "from keras import layers\n",
        "from keras import models"
      ],
      "execution_count": 7,
      "outputs": [
        {
          "output_type": "stream",
          "text": [
            "Using TensorFlow backend.\n"
          ],
          "name": "stderr"
        }
      ]
    },
    {
      "metadata": {
        "id": "8om4n1n3qdNI",
        "colab_type": "code",
        "colab": {}
      },
      "cell_type": "code",
      "source": [
        "model = models.Sequential()\n",
        "model.add(layers.Conv2D(64, (3, 3), activation='relu',\n",
        "                        input_shape=(64, 64, 3)))\n",
        "model.add(layers.MaxPooling2D((2, 2)))\n",
        "model.add(layers.Conv2D(128, (3, 3), activation='relu'))\n",
        "model.add(layers.MaxPooling2D((2, 2)))\n",
        "model.add(layers.Conv2D(256, (3, 3), activation='relu'))\n",
        "model.add(layers.MaxPooling2D((2, 2)))\n",
        "model.add(layers.Flatten())\n",
        "model.add(layers.Dense(256, activation='relu'))\n",
        "model.add(layers.Dense(3, activation='softmax'))"
      ],
      "execution_count": 0,
      "outputs": []
    },
    {
      "metadata": {
        "id": "SRQJljc9qo2i",
        "colab_type": "code",
        "colab": {
          "base_uri": "https://localhost:8080/",
          "height": 442
        },
        "outputId": "062de1e0-2287-4e10-b245-91481b34a3c0"
      },
      "cell_type": "code",
      "source": [
        "model.summary()"
      ],
      "execution_count": 9,
      "outputs": [
        {
          "output_type": "stream",
          "text": [
            "_________________________________________________________________\n",
            "Layer (type)                 Output Shape              Param #   \n",
            "=================================================================\n",
            "conv2d_1 (Conv2D)            (None, 62, 62, 64)        1792      \n",
            "_________________________________________________________________\n",
            "max_pooling2d_1 (MaxPooling2 (None, 31, 31, 64)        0         \n",
            "_________________________________________________________________\n",
            "conv2d_2 (Conv2D)            (None, 29, 29, 128)       73856     \n",
            "_________________________________________________________________\n",
            "max_pooling2d_2 (MaxPooling2 (None, 14, 14, 128)       0         \n",
            "_________________________________________________________________\n",
            "conv2d_3 (Conv2D)            (None, 12, 12, 256)       295168    \n",
            "_________________________________________________________________\n",
            "max_pooling2d_3 (MaxPooling2 (None, 6, 6, 256)         0         \n",
            "_________________________________________________________________\n",
            "flatten_1 (Flatten)          (None, 9216)              0         \n",
            "_________________________________________________________________\n",
            "dense_1 (Dense)              (None, 256)               2359552   \n",
            "_________________________________________________________________\n",
            "dense_2 (Dense)              (None, 3)                 771       \n",
            "=================================================================\n",
            "Total params: 2,731,139\n",
            "Trainable params: 2,731,139\n",
            "Non-trainable params: 0\n",
            "_________________________________________________________________\n"
          ],
          "name": "stdout"
        }
      ]
    },
    {
      "metadata": {
        "id": "vj_-107mqqbp",
        "colab_type": "code",
        "colab": {}
      },
      "cell_type": "code",
      "source": [
        "from keras import optimizers\n",
        "\n",
        "model.compile(loss='categorical_crossentropy',\n",
        "              optimizer=optimizers.RMSprop(lr=1e-4),\n",
        "              metrics=['acc'])"
      ],
      "execution_count": 0,
      "outputs": []
    },
    {
      "metadata": {
        "id": "cTg9-9w572hw",
        "colab_type": "code",
        "colab": {}
      },
      "cell_type": "code",
      "source": [
        "from keras.preprocessing.image import ImageDataGenerator"
      ],
      "execution_count": 0,
      "outputs": []
    },
    {
      "metadata": {
        "id": "lIADFJn49uya",
        "colab_type": "code",
        "colab": {
          "base_uri": "https://localhost:8080/",
          "height": 51
        },
        "outputId": "7fb4caaa-c2a0-40bb-b17a-9ea09f81d6be"
      },
      "cell_type": "code",
      "source": [
        "train_datagen = ImageDataGenerator(rescale=1./255)  \n",
        "test_datagen = ImageDataGenerator(rescale=1./255)\n",
        "train_generator = train_datagen.flow_from_directory(\n",
        "        train_dir,                                             \n",
        "        target_size=(64, 64),                                 \n",
        "        batch_size=20,\n",
        "    class_mode='categorical')                                   \n",
        "\n",
        "validation_generator = test_datagen.flow_from_directory(\n",
        "        val_dir,\n",
        "        target_size=(64, 64),\n",
        "        batch_size=20,\n",
        "        class_mode='categorical')"
      ],
      "execution_count": 12,
      "outputs": [
        {
          "output_type": "stream",
          "text": [
            "Found 483 images belonging to 3 classes.\n",
            "Found 123 images belonging to 3 classes.\n"
          ],
          "name": "stdout"
        }
      ]
    },
    {
      "metadata": {
        "id": "QJ6CTczT94Yf",
        "colab_type": "code",
        "colab": {
          "base_uri": "https://localhost:8080/",
          "height": 1037
        },
        "outputId": "6879fdd7-ebfe-4ecb-d5f8-f1e29743f5a7"
      },
      "cell_type": "code",
      "source": [
        "history = model.fit_generator(\n",
        "      train_generator,\n",
        "      steps_per_epoch=100,\n",
        "      epochs=30,\n",
        "      validation_data=validation_generator,\n",
        "      validation_steps=50)"
      ],
      "execution_count": 13,
      "outputs": [
        {
          "output_type": "stream",
          "text": [
            "Epoch 1/30\n",
            "100/100 [==============================] - 17s 166ms/step - loss: 0.3704 - acc: 0.8999 - val_loss: 0.4445 - val_acc: 0.8922\n",
            "Epoch 2/30\n",
            "100/100 [==============================] - 15s 153ms/step - loss: 0.2779 - acc: 0.9059 - val_loss: 0.5772 - val_acc: 0.9353\n",
            "Epoch 3/30\n",
            "100/100 [==============================] - 15s 150ms/step - loss: 0.2026 - acc: 0.9347 - val_loss: 0.6346 - val_acc: 0.8944\n",
            "Epoch 4/30\n",
            "100/100 [==============================] - 15s 151ms/step - loss: 0.1524 - acc: 0.9487 - val_loss: 0.7557 - val_acc: 0.7877\n",
            "Epoch 5/30\n",
            "100/100 [==============================] - 15s 151ms/step - loss: 0.1182 - acc: 0.9600 - val_loss: 1.3294 - val_acc: 0.3666\n",
            "Epoch 6/30\n",
            "100/100 [==============================] - 15s 151ms/step - loss: 0.0896 - acc: 0.9735 - val_loss: 1.2967 - val_acc: 0.4313\n",
            "Epoch 7/30\n",
            "100/100 [==============================] - 15s 152ms/step - loss: 0.0746 - acc: 0.9745 - val_loss: 1.5903 - val_acc: 0.3553\n",
            "Epoch 8/30\n",
            "100/100 [==============================] - 15s 150ms/step - loss: 0.0601 - acc: 0.9800 - val_loss: 1.9534 - val_acc: 0.3348\n",
            "Epoch 9/30\n",
            "100/100 [==============================] - 15s 149ms/step - loss: 0.0548 - acc: 0.9782 - val_loss: 1.8168 - val_acc: 0.3405\n",
            "Epoch 10/30\n",
            "100/100 [==============================] - 15s 150ms/step - loss: 0.0429 - acc: 0.9860 - val_loss: 1.6931 - val_acc: 0.4188\n",
            "Epoch 11/30\n",
            "100/100 [==============================] - 15s 147ms/step - loss: 0.0309 - acc: 0.9900 - val_loss: 2.0322 - val_acc: 0.3655\n",
            "Epoch 12/30\n",
            "100/100 [==============================] - 15s 147ms/step - loss: 0.0253 - acc: 0.9925 - val_loss: 1.5678 - val_acc: 0.5199\n",
            "Epoch 13/30\n",
            "100/100 [==============================] - 15s 148ms/step - loss: 0.0198 - acc: 0.9940 - val_loss: 2.2129 - val_acc: 0.3905\n",
            "Epoch 14/30\n",
            "100/100 [==============================] - 15s 147ms/step - loss: 0.0145 - acc: 0.9955 - val_loss: 1.2127 - val_acc: 0.6742\n",
            "Epoch 15/30\n",
            "100/100 [==============================] - 15s 150ms/step - loss: 0.0122 - acc: 0.9965 - val_loss: 2.9679 - val_acc: 0.3428\n",
            "Epoch 16/30\n",
            "100/100 [==============================] - 15s 149ms/step - loss: 0.0101 - acc: 0.9960 - val_loss: 1.7952 - val_acc: 0.5335\n",
            "Epoch 17/30\n",
            "100/100 [==============================] - 15s 155ms/step - loss: 0.0057 - acc: 0.9995 - val_loss: 1.8220 - val_acc: 0.5664\n",
            "Epoch 18/30\n",
            "100/100 [==============================] - 15s 149ms/step - loss: 0.0042 - acc: 0.9995 - val_loss: 1.7140 - val_acc: 0.6039\n",
            "Epoch 19/30\n",
            "100/100 [==============================] - 15s 152ms/step - loss: 0.0034 - acc: 0.9995 - val_loss: 1.8157 - val_acc: 0.6334\n",
            "Epoch 20/30\n",
            "100/100 [==============================] - 15s 152ms/step - loss: 0.0024 - acc: 1.0000 - val_loss: 2.3022 - val_acc: 0.5221\n",
            "Epoch 21/30\n",
            "100/100 [==============================] - 15s 152ms/step - loss: 0.0035 - acc: 0.9990 - val_loss: 2.0915 - val_acc: 0.5607\n",
            "Epoch 22/30\n",
            "100/100 [==============================] - 15s 150ms/step - loss: 0.0017 - acc: 0.9995 - val_loss: 2.1679 - val_acc: 0.5687\n",
            "Epoch 23/30\n",
            "100/100 [==============================] - 15s 153ms/step - loss: 0.0016 - acc: 0.9995 - val_loss: 2.1188 - val_acc: 0.6095\n",
            "Epoch 24/30\n",
            "100/100 [==============================] - 15s 152ms/step - loss: 7.3973e-04 - acc: 1.0000 - val_loss: 2.3201 - val_acc: 0.5868\n",
            "Epoch 25/30\n",
            "100/100 [==============================] - 15s 148ms/step - loss: 0.0016 - acc: 0.9995 - val_loss: 2.6810 - val_acc: 0.5108\n",
            "Epoch 26/30\n",
            "100/100 [==============================] - 15s 155ms/step - loss: 1.4585e-04 - acc: 1.0000 - val_loss: 2.2645 - val_acc: 0.6413\n",
            "Epoch 27/30\n",
            "100/100 [==============================] - 15s 152ms/step - loss: 3.6226e-04 - acc: 1.0000 - val_loss: 2.4708 - val_acc: 0.6175\n",
            "Epoch 28/30\n",
            "100/100 [==============================] - 15s 153ms/step - loss: 0.0012 - acc: 0.9995 - val_loss: 2.7919 - val_acc: 0.5437\n",
            "Epoch 29/30\n",
            "100/100 [==============================] - 15s 153ms/step - loss: 7.5592e-04 - acc: 0.9995 - val_loss: 2.4620 - val_acc: 0.6163\n",
            "Epoch 30/30\n",
            "100/100 [==============================] - 15s 154ms/step - loss: 5.9954e-05 - acc: 1.0000 - val_loss: 2.8667 - val_acc: 0.5528\n"
          ],
          "name": "stdout"
        }
      ]
    },
    {
      "metadata": {
        "id": "clhZoIli992K",
        "colab_type": "code",
        "colab": {
          "base_uri": "https://localhost:8080/",
          "height": 707
        },
        "outputId": "e4496148-7393-4d07-c907-f1519d9e1b92"
      },
      "cell_type": "code",
      "source": [
        "import matplotlib.pyplot as plt\n",
        "\n",
        "acc = history.history['acc']\n",
        "val_acc = history.history['val_acc']\n",
        "loss = history.history['loss']\n",
        "val_loss = history.history['val_loss']\n",
        "plt.ylim(0,1)\n",
        "\n",
        "epochs = range(1, len(acc) + 1)\n",
        "\n",
        "plt.plot(epochs, acc, 'bo', label='Training acc')\n",
        "plt.plot(epochs, val_acc, 'b', label='Validation acc')\n",
        "plt.title('Training and validation accuracy')\n",
        "plt.legend()\n",
        "\n",
        "plt.figure()\n",
        "\n",
        "plt.plot(epochs, loss, 'bo', label='Training loss')\n",
        "plt.plot(epochs, val_loss, 'b', label='Validation loss')\n",
        "plt.title('Training and validation loss')\n",
        "plt.legend()\n",
        "\n",
        "plt.show()"
      ],
      "execution_count": 15,
      "outputs": [
        {
          "output_type": "display_data",
          "data": {
            "image/png": "[encoded data removed]",
            "text/plain": [
              "<matplotlib.figure.Figure at 0x7f2232686748>"
            ]
          },
          "metadata": {
            "tags": []
          }
        },
        {
          "output_type": "display_data",
          "data": {
            "image/png": "[encoded data removed]",
            "text/plain": [
              "<matplotlib.figure.Figure at 0x7f223270d5f8>"
            ]
          },
          "metadata": {
            "tags": []
          }
        }
      ]
    },
    {
      "metadata": {
        "id": "NdygqiWu_tyn",
        "colab_type": "code",
        "colab": {}
      },
      "cell_type": "code",
      "source": [
        ""
      ],
      "execution_count": 0,
      "outputs": []
    }
  ]
}