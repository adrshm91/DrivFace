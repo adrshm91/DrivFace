{
  "nbformat": 4,
  "nbformat_minor": 0,
  "metadata": {
    "colab": {
      "name": "DrivFace-NoAugumentation.ipynb",
      "version": "0.3.2",
      "provenance": [],
      "include_colab_link": true
    },
    "kernelspec": {
      "name": "python3",
      "display_name": "Python 3"
    },
    "accelerator": "GPU"
  },
  "cells": [
    {
      "cell_type": "markdown",
      "metadata": {
        "id": "view-in-github",
        "colab_type": "text"
      },
      "source": [
        "[View in Colaboratory](https://colab.research.google.com/github/adrshm91/DrivFace/blob/master/DrivFace_NoAugumentation.ipynb)"
      ]
    },
    {
      "metadata": {
        "id": "jMPa4djlqQMY",
        "colab_type": "code",
        "colab": {}
      },
      "cell_type": "code",
      "source": [
        "import wget\n",
        "import os\n",
        "from zipfile import PyZipFile\n",
        "import shutil\n",
        "import glob\n",
        "import pandas as pd\n",
        "temp_dir = 'data/temp'\n",
        "orig_dir = 'data/images'\n",
        "train_dir = 'data/train'\n",
        "val_dir = 'data/val'\n",
        "url = 'https://archive.ics.uci.edu/ml/machine-learning-databases/00378/DrivFace.zip'"
      ],
      "execution_count": 0,
      "outputs": []
    },
    {
      "metadata": {
        "id": "P6lTfAQaqVuK",
        "colab_type": "code",
        "colab": {}
      },
      "cell_type": "code",
      "source": [
        "def load_dataset():\n",
        "  if not os.path.exists(orig_dir):\n",
        "    \n",
        "    # download the dataset\n",
        "    \n",
        "    os.makedirs(temp_dir)\n",
        "    os.makedirs(orig_dir)\n",
        "    print(\"Downloading dataset to \"+ temp_dir)\n",
        "    file = wget.download(url, out=temp_dir)\n",
        "    print(\"\\nUnzipping the files..\")\n",
        "    pzf = PyZipFile(file)\n",
        "    pzf.extractall(temp_dir)\n",
        "    pzf = PyZipFile(temp_dir+'/DrivFace/DrivImages.zip')\n",
        "    pzf.extractall(temp_dir)\n",
        "    print(\"Moving files to \"+orig_dir)\n",
        "    for file in os.listdir(temp_dir+'/DrivImages'):\n",
        "      shutil.move(temp_dir+'/DrivImages/'+file,orig_dir+'/'+file)\n",
        "    shutil.move(temp_dir+'/DrivFace/drivPoints.txt',orig_dir+'/drivPoints.txt')\n",
        "    print(\"Deleting temporary directory \"+ temp_dir)\n",
        "    shutil.rmtree(temp_dir)"
      ],
      "execution_count": 0,
      "outputs": []
    },
    {
      "metadata": {
        "id": "j1A90kRs0cPC",
        "colab_type": "code",
        "colab": {}
      },
      "cell_type": "code",
      "source": [
        "def split_dataset(orig_dir, train_dir, val_dir, split_ratio):\n",
        "  \n",
        "  if not os.path.exists(train_dir):\n",
        "    os.makedirs(train_dir)\n",
        "    os.makedirs(val_dir)\n",
        "    print(\"Creating train directories for each class\")\n",
        "    train_ff_dir = os.path.join(train_dir, 'ff')\n",
        "    os.makedirs(train_ff_dir)\n",
        "    train_ll_dir = os.path.join(train_dir, 'll')\n",
        "    os.makedirs(train_ll_dir)\n",
        "    train_lr_dir = os.path.join(train_dir, 'lr')\n",
        "    os.makedirs(train_lr_dir)\n",
        "\n",
        "    print(\"Creating val directories for each class\")\n",
        "    val_ff_dir = os.path.join(val_dir, 'ff')\n",
        "    os.makedirs(val_ff_dir)\n",
        "    val_ll_dir = os.path.join(val_dir, 'll')\n",
        "    os.makedirs(val_ll_dir)\n",
        "    val_lr_dir = os.path.join(val_dir, 'lr')\n",
        "    os.makedirs(val_lr_dir)\n",
        "\n",
        "    files = pd.read_csv(orig_dir+'/drivPoints.txt')['fileName'].tolist()\n",
        "    files_ff = [file for file in files if 'f' in file]\n",
        "    files_ll = [file for file in files if 'll' in file]\n",
        "    files_lr = [file for file in files if 'lr' in file]\n",
        "    i = 0\n",
        "    for fname in files_ff:\n",
        "      src = os.path.join(orig_dir, fname + '.jpg')                        \n",
        "      dst_train = os.path.join(train_ff_dir, fname + '.jpg')\n",
        "      dst_val = os.path.join(val_ff_dir, fname + '.jpg')\n",
        "      i += 1\n",
        "      if i < len(files_ff)*split_ratio:\n",
        "        shutil.move(src, dst_train)\n",
        "      else:\n",
        "        shutil.move(src, dst_val)\n",
        "    i = 0\n",
        "    for fname in files_ll:\n",
        "      src = os.path.join(orig_dir, fname + '.jpg')                        \n",
        "      dst_train = os.path.join(train_ll_dir, fname + '.jpg')\n",
        "      dst_val = os.path.join(val_ll_dir, fname + '.jpg')\n",
        "      i += 1\n",
        "      if i < len(files_ll)*split_ratio:\n",
        "        shutil.move(src, dst_train)\n",
        "      else:\n",
        "        shutil.move(src, dst_val)\n",
        "    i = 0\n",
        "    for fname in files_lr:\n",
        "      src = os.path.join(orig_dir, fname + '.jpg')                        \n",
        "      dst_train = os.path.join(train_lr_dir, fname + '.jpg') \n",
        "      dst_val = os.path.join(val_lr_dir, fname + '.jpg')\n",
        "      i += 1\n",
        "      if i < len(files_lr)*split_ratio:\n",
        "        shutil.move(src, dst_train)\n",
        "      else:\n",
        "        shutil.move(src, dst_val)"
      ],
      "execution_count": 0,
      "outputs": []
    },
    {
      "metadata": {
        "id": "Edp1_pj5qXtn",
        "colab_type": "code",
        "colab": {
          "base_uri": "https://localhost:8080/",
          "height": 104
        },
        "outputId": "9454fd2a-3ade-45df-b1d1-4d64b2289c0c"
      },
      "cell_type": "code",
      "source": [
        "load_dataset()"
      ],
      "execution_count": 148,
      "outputs": [
        {
          "output_type": "stream",
          "text": [
            "Downloading dataset to data/temp\n",
            "\n",
            "Unzipping the files..\n",
            "Moving files to data/images\n",
            "Deleting temporary directory data/temp\n"
          ],
          "name": "stdout"
        }
      ]
    },
    {
      "metadata": {
        "id": "IUwWQm4U4AzJ",
        "colab_type": "code",
        "colab": {
          "base_uri": "https://localhost:8080/",
          "height": 52
        },
        "outputId": "984223b5-6f27-427e-d60c-ce43731191fd"
      },
      "cell_type": "code",
      "source": [
        "split_dataset(orig_dir, train_dir, val_dir, split_ratio = 0.8)"
      ],
      "execution_count": 149,
      "outputs": [
        {
          "output_type": "stream",
          "text": [
            "Creating train directories for each class\n",
            "Creating val directories for each class\n"
          ],
          "name": "stdout"
        }
      ]
    },
    {
      "metadata": {
        "id": "0m1ZrdBNqZp3",
        "colab_type": "code",
        "colab": {
          "base_uri": "https://localhost:8080/",
          "height": 35
        },
        "outputId": "aa2b97ed-49ac-4893-ed92-6dcd124db0b9"
      },
      "cell_type": "code",
      "source": [
        "from keras import layers\n",
        "from keras import models"
      ],
      "execution_count": 153,
      "outputs": [
        {
          "output_type": "stream",
          "text": [
            "Using TensorFlow backend.\n"
          ],
          "name": "stderr"
        }
      ]
    },
    {
      "metadata": {
        "id": "8om4n1n3qdNI",
        "colab_type": "code",
        "colab": {}
      },
      "cell_type": "code",
      "source": [
        "model = models.Sequential()\n",
        "model.add(layers.Conv2D(64, (3, 3), activation='relu',\n",
        "                        input_shape=(64, 64, 3)))\n",
        "model.add(layers.MaxPooling2D((2, 2)))\n",
        "model.add(layers.Conv2D(128, (3, 3), activation='relu'))\n",
        "model.add(layers.MaxPooling2D((2, 2)))\n",
        "model.add(layers.Conv2D(256, (3, 3), activation='relu'))\n",
        "model.add(layers.MaxPooling2D((2, 2)))\n",
        "model.add(layers.Flatten())\n",
        "model.add(layers.Dense(256, activation='relu'))\n",
        "model.add(layers.Dense(3, activation='softmax'))"
      ],
      "execution_count": 0,
      "outputs": []
    },
    {
      "metadata": {
        "id": "SRQJljc9qo2i",
        "colab_type": "code",
        "colab": {
          "base_uri": "https://localhost:8080/",
          "height": 451
        },
        "outputId": "471037a3-c996-4ae5-a2de-fc5b99baf204"
      },
      "cell_type": "code",
      "source": [
        "model.summary()"
      ],
      "execution_count": 155,
      "outputs": [
        {
          "output_type": "stream",
          "text": [
            "_________________________________________________________________\n",
            "Layer (type)                 Output Shape              Param #   \n",
            "=================================================================\n",
            "conv2d_1 (Conv2D)            (None, 62, 62, 64)        1792      \n",
            "_________________________________________________________________\n",
            "max_pooling2d_1 (MaxPooling2 (None, 31, 31, 64)        0         \n",
            "_________________________________________________________________\n",
            "conv2d_2 (Conv2D)            (None, 29, 29, 128)       73856     \n",
            "_________________________________________________________________\n",
            "max_pooling2d_2 (MaxPooling2 (None, 14, 14, 128)       0         \n",
            "_________________________________________________________________\n",
            "conv2d_3 (Conv2D)            (None, 12, 12, 256)       295168    \n",
            "_________________________________________________________________\n",
            "max_pooling2d_3 (MaxPooling2 (None, 6, 6, 256)         0         \n",
            "_________________________________________________________________\n",
            "flatten_1 (Flatten)          (None, 9216)              0         \n",
            "_________________________________________________________________\n",
            "dense_1 (Dense)              (None, 256)               2359552   \n",
            "_________________________________________________________________\n",
            "dense_2 (Dense)              (None, 3)                 771       \n",
            "=================================================================\n",
            "Total params: 2,731,139\n",
            "Trainable params: 2,731,139\n",
            "Non-trainable params: 0\n",
            "_________________________________________________________________\n"
          ],
          "name": "stdout"
        }
      ]
    },
    {
      "metadata": {
        "id": "vj_-107mqqbp",
        "colab_type": "code",
        "colab": {}
      },
      "cell_type": "code",
      "source": [
        "from keras import optimizers\n",
        "\n",
        "model.compile(loss='categorical_crossentropy',\n",
        "              optimizer=optimizers.RMSprop(lr=1e-4),\n",
        "              metrics=['acc'])"
      ],
      "execution_count": 0,
      "outputs": []
    },
    {
      "metadata": {
        "id": "cTg9-9w572hw",
        "colab_type": "code",
        "colab": {}
      },
      "cell_type": "code",
      "source": [
        "from keras.preprocessing.image import ImageDataGenerator"
      ],
      "execution_count": 0,
      "outputs": []
    },
    {
      "metadata": {
        "id": "lIADFJn49uya",
        "colab_type": "code",
        "colab": {
          "base_uri": "https://localhost:8080/",
          "height": 52
        },
        "outputId": "2eab5f84-11be-443e-82f1-e3aea8b0b6a4"
      },
      "cell_type": "code",
      "source": [
        "train_datagen = ImageDataGenerator(rescale=1./255)  \n",
        "test_datagen = ImageDataGenerator(rescale=1./255)\n",
        "train_generator = train_datagen.flow_from_directory(\n",
        "        train_dir,                                             \n",
        "        target_size=(64, 64),                                 \n",
        "        batch_size=20,\n",
        "    class_mode='categorical')                                   \n",
        "\n",
        "validation_generator = test_datagen.flow_from_directory(\n",
        "        val_dir,\n",
        "        target_size=(64, 64),\n",
        "        batch_size=20,\n",
        "        class_mode='categorical')"
      ],
      "execution_count": 158,
      "outputs": [
        {
          "output_type": "stream",
          "text": [
            "Found 483 images belonging to 3 classes.\n",
            "Found 123 images belonging to 3 classes.\n"
          ],
          "name": "stdout"
        }
      ]
    },
    {
      "metadata": {
        "id": "QJ6CTczT94Yf",
        "colab_type": "code",
        "colab": {
          "base_uri": "https://localhost:8080/",
          "height": 1057
        },
        "outputId": "bcd183de-6e8e-496b-cfa3-d2db1768feb8"
      },
      "cell_type": "code",
      "source": [
        "history = model.fit_generator(\n",
        "      train_generator,\n",
        "      steps_per_epoch=100,\n",
        "      epochs=30,\n",
        "      validation_data=validation_generator,\n",
        "      validation_steps=50)"
      ],
      "execution_count": 159,
      "outputs": [
        {
          "output_type": "stream",
          "text": [
            "Epoch 1/30\n",
            "100/100 [==============================] - 17s 174ms/step - loss: 0.3729 - acc: 0.9017 - val_loss: 0.4267 - val_acc: 0.8956\n",
            "Epoch 2/30\n",
            "100/100 [==============================] - 15s 152ms/step - loss: 0.2896 - acc: 0.9067 - val_loss: 0.4756 - val_acc: 0.8956\n",
            "Epoch 3/30\n",
            "100/100 [==============================] - 15s 151ms/step - loss: 0.2229 - acc: 0.9200 - val_loss: 0.7983 - val_acc: 0.5051\n",
            "Epoch 4/30\n",
            "100/100 [==============================] - 15s 153ms/step - loss: 0.1847 - acc: 0.9392 - val_loss: 0.9531 - val_acc: 0.4177\n",
            "Epoch 5/30\n",
            "100/100 [==============================] - 15s 153ms/step - loss: 0.1406 - acc: 0.9512 - val_loss: 0.9907 - val_acc: 0.5358\n",
            "Epoch 6/30\n",
            "100/100 [==============================] - 15s 152ms/step - loss: 0.1135 - acc: 0.9610 - val_loss: 1.0575 - val_acc: 0.5119\n",
            "Epoch 7/30\n",
            "100/100 [==============================] - 15s 152ms/step - loss: 0.0982 - acc: 0.9639 - val_loss: 1.3163 - val_acc: 0.3916\n",
            "Epoch 8/30\n",
            "100/100 [==============================] - 15s 150ms/step - loss: 0.0723 - acc: 0.9755 - val_loss: 1.8342 - val_acc: 0.3564\n",
            "Epoch 9/30\n",
            "100/100 [==============================] - 15s 154ms/step - loss: 0.0685 - acc: 0.9762 - val_loss: 1.6220 - val_acc: 0.3575\n",
            "Epoch 10/30\n",
            "100/100 [==============================] - 15s 155ms/step - loss: 0.0506 - acc: 0.9820 - val_loss: 1.2160 - val_acc: 0.6073\n",
            "Epoch 11/30\n",
            "100/100 [==============================] - 15s 150ms/step - loss: 0.0401 - acc: 0.9870 - val_loss: 2.2315 - val_acc: 0.3417\n",
            "Epoch 12/30\n",
            "100/100 [==============================] - 15s 150ms/step - loss: 0.0350 - acc: 0.9895 - val_loss: 1.6011 - val_acc: 0.4563\n",
            "Epoch 13/30\n",
            "100/100 [==============================] - 15s 151ms/step - loss: 0.0259 - acc: 0.9920 - val_loss: 1.7991 - val_acc: 0.4427\n",
            "Epoch 14/30\n",
            "100/100 [==============================] - 15s 150ms/step - loss: 0.0188 - acc: 0.9930 - val_loss: 1.5196 - val_acc: 0.5653\n",
            "Epoch 15/30\n",
            "100/100 [==============================] - 15s 152ms/step - loss: 0.0145 - acc: 0.9955 - val_loss: 1.9520 - val_acc: 0.4393\n",
            "Epoch 16/30\n",
            "100/100 [==============================] - 15s 150ms/step - loss: 0.0136 - acc: 0.9940 - val_loss: 2.7516 - val_acc: 0.3507\n",
            "Epoch 17/30\n",
            "100/100 [==============================] - 15s 149ms/step - loss: 0.0082 - acc: 0.9980 - val_loss: 1.3416 - val_acc: 0.7514\n",
            "Epoch 18/30\n",
            "100/100 [==============================] - 15s 150ms/step - loss: 0.0069 - acc: 0.9995 - val_loss: 1.6650 - val_acc: 0.5948\n",
            "Epoch 19/30\n",
            "100/100 [==============================] - 15s 153ms/step - loss: 0.0046 - acc: 0.9990 - val_loss: 1.8636 - val_acc: 0.5868\n",
            "Epoch 20/30\n",
            "100/100 [==============================] - 15s 151ms/step - loss: 0.0028 - acc: 1.0000 - val_loss: 2.7715 - val_acc: 0.4313\n",
            "Epoch 21/30\n",
            "100/100 [==============================] - 15s 151ms/step - loss: 0.0028 - acc: 0.9990 - val_loss: 2.5536 - val_acc: 0.4756\n",
            "Epoch 22/30\n",
            "100/100 [==============================] - 15s 152ms/step - loss: 0.0027 - acc: 0.9990 - val_loss: 2.8103 - val_acc: 0.4529\n",
            "Epoch 23/30\n",
            "100/100 [==============================] - 15s 148ms/step - loss: 0.0026 - acc: 0.9995 - val_loss: 2.0330 - val_acc: 0.6277\n",
            "Epoch 24/30\n",
            "100/100 [==============================] - 15s 149ms/step - loss: 0.0011 - acc: 0.9995 - val_loss: 2.0337 - val_acc: 0.6095\n",
            "Epoch 25/30\n",
            "100/100 [==============================] - 15s 153ms/step - loss: 0.0012 - acc: 0.9995 - val_loss: 2.4906 - val_acc: 0.5289\n",
            "Epoch 26/30\n",
            "100/100 [==============================] - 15s 152ms/step - loss: 4.0097e-04 - acc: 1.0000 - val_loss: 2.8247 - val_acc: 0.4938\n",
            "Epoch 27/30\n",
            "100/100 [==============================] - 15s 151ms/step - loss: 0.0012 - acc: 0.9995 - val_loss: 2.7226 - val_acc: 0.5199\n",
            "Epoch 28/30\n",
            "100/100 [==============================] - 15s 150ms/step - loss: 0.0019 - acc: 0.9990 - val_loss: 2.3784 - val_acc: 0.5721\n",
            "Epoch 29/30\n",
            "100/100 [==============================] - 15s 151ms/step - loss: 0.0017 - acc: 0.9995 - val_loss: 2.1446 - val_acc: 0.6504\n",
            "Epoch 30/30\n",
            "100/100 [==============================] - 15s 151ms/step - loss: 0.0019 - acc: 0.9995 - val_loss: 2.3503 - val_acc: 0.5948\n"
          ],
          "name": "stdout"
        }
      ]
    },
    {
      "metadata": {
        "id": "clhZoIli992K",
        "colab_type": "code",
        "colab": {
          "base_uri": "https://localhost:8080/",
          "height": 708
        },
        "outputId": "119266d8-63e3-4437-a758-44127850ce8e"
      },
      "cell_type": "code",
      "source": [
        "import matplotlib.pyplot as plt\n",
        "\n",
        "acc = history.history['acc']\n",
        "val_acc = history.history['val_acc']\n",
        "loss = history.history['loss']\n",
        "val_loss = history.history['val_loss']\n",
        "\n",
        "epochs = range(1, len(acc) + 1)\n",
        "\n",
        "plt.plot(epochs, acc, 'bo', label='Training acc')\n",
        "plt.plot(epochs, val_acc, 'b', label='Validation acc')\n",
        "plt.title('Training and validation accuracy')\n",
        "plt.legend()\n",
        "\n",
        "plt.figure()\n",
        "\n",
        "plt.plot(epochs, loss, 'bo', label='Training loss')\n",
        "plt.plot(epochs, val_loss, 'b', label='Validation loss')\n",
        "plt.title('Training and validation loss')\n",
        "plt.legend()\n",
        "\n",
        "plt.show()"
      ],
      "execution_count": 160,
      "outputs": [
        {
          "output_type": "display_data",
          "data": {
            "image/png": "[encoded data removed]",
            "text/plain": [
              "<matplotlib.figure.Figure at 0x7f0d8168d9b0>"
            ]
          },
          "metadata": {
            "tags": []
          }
        },
        {
          "output_type": "display_data",
          "data": {
            "image/png": "[encoded data removed]",
            "text/plain": [
              "<matplotlib.figure.Figure at 0x7f0da0106128>"
            ]
          },
          "metadata": {
            "tags": []
          }
        }
      ]
    },
    {
      "metadata": {
        "id": "NdygqiWu_tyn",
        "colab_type": "code",
        "colab": {}
      },
      "cell_type": "code",
      "source": [
        ""
      ],
      "execution_count": 0,
      "outputs": []
    }
  ]
}